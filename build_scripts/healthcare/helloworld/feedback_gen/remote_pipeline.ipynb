{
 "cells": [
  {
   "cell_type": "code",
   "execution_count": 7,
   "metadata": {},
   "outputs": [
    {
     "name": "stdout",
     "output_type": "stream",
     "text": [
      "Foundation: 2.11.030\n",
      "Transition: 3.02.034\n"
     ]
    }
   ],
   "source": [
    "%run remote_setup.ipynb"
   ]
  },
  {
   "cell_type": "markdown",
   "metadata": {},
   "source": [
    "----------------------\n",
    "## Controller\n",
    "----------------------"
   ]
  },
  {
   "cell_type": "code",
   "execution_count": 8,
   "metadata": {},
   "outputs": [],
   "source": [
    "DOMAIN_CONTRACTS_URL = \"https://raw.githubusercontent.com/project-hadron/hadron-asset-bank/master/contracts/helloworld/feedback_gen/\""
   ]
  },
  {
   "cell_type": "code",
   "execution_count": 9,
   "metadata": {},
   "outputs": [],
   "source": [
    "controller = Controller.from_env(uri_pm_repo=DOMAIN_CONTRACTS_URL)"
   ]
  },
  {
   "cell_type": "markdown",
   "metadata": {},
   "source": [
    "--------------------------\n",
    "### Report"
   ]
  },
  {
   "cell_type": "code",
   "execution_count": 10,
   "metadata": {},
   "outputs": [
    {
     "data": {
      "text/html": [
       "<style  type=\"text/css\" >\n",
       "    #T_a46ad_ th {\n",
       "          font-size: 120%;\n",
       "          text-align: center;\n",
       "    }    #T_a46ad_ .row_heading, .blank {\n",
       "          display: none;;\n",
       "    }#T_a46ad_row0_col0,#T_a46ad_row1_col0{\n",
       "            text-align:  left;\n",
       "            font-weight:  bold;\n",
       "            font-size:  120%;\n",
       "        }#T_a46ad_row0_col1,#T_a46ad_row0_col2,#T_a46ad_row0_col3,#T_a46ad_row0_col4,#T_a46ad_row0_col5,#T_a46ad_row1_col1,#T_a46ad_row1_col2,#T_a46ad_row1_col3,#T_a46ad_row1_col4,#T_a46ad_row1_col5{\n",
       "            text-align:  left;\n",
       "        }</style><table id=\"T_a46ad_\" ><thead>    <tr>        <th class=\"blank level0\" ></th>        <th class=\"col_heading level0 col0\" >level</th>        <th class=\"col_heading level0 col1\" >order</th>        <th class=\"col_heading level0 col2\" >component</th>        <th class=\"col_heading level0 col3\" >task</th>        <th class=\"col_heading level0 col4\" >parameters</th>        <th class=\"col_heading level0 col5\" >creator</th>    </tr></thead><tbody>\n",
       "                <tr>\n",
       "                        <th id=\"T_a46ad_level0_row0\" class=\"row_heading level0 row0\" >0</th>\n",
       "                        <td id=\"T_a46ad_row0_col0\" class=\"data row0 col0\" >feedback_gen</td>\n",
       "                        <td id=\"T_a46ad_row0_col1\" class=\"data row0 col1\" >0</td>\n",
       "                        <td id=\"T_a46ad_row0_col2\" class=\"data row0 col2\" >SyntheticBuilder</td>\n",
       "                        <td id=\"T_a46ad_row0_col3\" class=\"data row0 col3\" >'feedback'</td>\n",
       "                        <td id=\"T_a46ad_row0_col4\" class=\"data row0 col4\" >['size=0']</td>\n",
       "                        <td id=\"T_a46ad_row0_col5\" class=\"data row0 col5\" >doatridge</td>\n",
       "            </tr>\n",
       "            <tr>\n",
       "                        <th id=\"T_a46ad_level0_row1\" class=\"row_heading level0 row1\" >1</th>\n",
       "                        <td id=\"T_a46ad_row1_col0\" class=\"data row1 col0\" >feedback_transition_out</td>\n",
       "                        <td id=\"T_a46ad_row1_col1\" class=\"data row1 col1\" >0</td>\n",
       "                        <td id=\"T_a46ad_row1_col2\" class=\"data row1 col2\" >Transition</td>\n",
       "                        <td id=\"T_a46ad_row1_col3\" class=\"data row1 col3\" >'feedback'</td>\n",
       "                        <td id=\"T_a46ad_row1_col4\" class=\"data row1 col4\" >[]</td>\n",
       "                        <td id=\"T_a46ad_row1_col5\" class=\"data row1 col5\" >doatridge</td>\n",
       "            </tr>\n",
       "    </tbody></table>"
      ],
      "text/plain": [
       "<pandas.io.formats.style.Styler at 0x7f8319875250>"
      ]
     },
     "execution_count": 10,
     "metadata": {},
     "output_type": "execute_result"
    }
   ],
   "source": [
    "controller.report_tasks()"
   ]
  },
  {
   "cell_type": "code",
   "execution_count": 11,
   "metadata": {},
   "outputs": [],
   "source": [
    "controller.run_controller()"
   ]
  },
  {
   "cell_type": "code",
   "execution_count": null,
   "metadata": {},
   "outputs": [],
   "source": []
  }
 ],
 "metadata": {
  "kernelspec": {
   "display_name": "Python 3",
   "language": "python",
   "name": "python3"
  },
  "language_info": {
   "codemirror_mode": {
    "name": "ipython",
    "version": 3
   },
   "file_extension": ".py",
   "mimetype": "text/x-python",
   "name": "python",
   "nbconvert_exporter": "python",
   "pygments_lexer": "ipython3",
   "version": "3.8.5"
  }
 },
 "nbformat": 4,
 "nbformat_minor": 4
}
