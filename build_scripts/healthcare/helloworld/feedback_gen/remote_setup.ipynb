{
 "cells": [
  {
   "cell_type": "markdown",
   "metadata": {},
   "source": [
    "## Base Scriptlets Notebook"
   ]
  },
  {
   "cell_type": "code",
   "execution_count": null,
   "metadata": {},
   "outputs": [],
   "source": [
    "%run ~/code/projects/prod/discovery-works/jupyter/master_setup.ipynb"
   ]
  },
  {
   "cell_type": "code",
   "execution_count": null,
   "metadata": {},
   "outputs": [],
   "source": [
    "# set the project name\n",
    "domain = 'helloworld'\n",
    "project_name = 'feedback_gen'\n",
    "VERSION = 'v01'"
   ]
  },
  {
   "cell_type": "code",
   "execution_count": null,
   "metadata": {},
   "outputs": [],
   "source": [
    "# set environment variables\n",
    "\n",
    "# NOTE: if running on windows, PWD doesn't exist so you need to manually set it\n",
    "# uncomment the line bleow and add your jupyter project root path\n",
    "# os.environ['PWD'] = Path('<<Your_Project_path>>').as_posix()\n",
    "\n",
    "os.environ['HADRON_PM_PATH'] = Path('${PWD}', domain, project_name, 'contracts').as_posix() \n",
    "os.environ['HADRON_PM_TYPE'] = 'json'\n",
    "# os.environ['HADRON_PM_MODULE'] = 'ds_discovery.handlers.pandas_handlers'\n",
    "# os.environ['HADRON_PM_PERSIST_HANDLER'] = 'PandasPersistHandler'\n",
    "\n",
    "\n",
    "# Pandas\n",
    "os.environ['HADRON_DEFAULT_PATH'] = Path('${PWD}', domain, project_name, 'data', 'persist').as_posix()\n",
    "# os.environ['HADRON_DEFAULT_MODULE'] = 'ds_discovery.handlers.pandas_handlers'\n",
    "# os.environ['HADRON_DEFAULT_SOURCE_HANDLER'] = 'PandasSourceHandler'\n",
    "# os.environ['HADRON_DEFAULT_PERSIST_HANDLER'] = 'PandasPersistHandler'\n",
    "\n",
    "\n",
    "# S3\n",
    "# os.environ['HADRON_DEFAULT_MODULE'] = 'ds_discovery.handlers.s3_handlers'\n",
    "# os.environ['HADRON_DEFAULT_SOURCE_HANDLER'] = 'S3SourceHandler'\n",
    "# os.environ['HADRON_DEFAULT_PERSIST_HANDLER'] = 'S3PersistHandler'# set environment variables\n"
   ]
  },
  {
   "cell_type": "code",
   "execution_count": null,
   "metadata": {},
   "outputs": [],
   "source": []
  }
 ],
 "metadata": {
  "kernelspec": {
   "display_name": "Python 3",
   "language": "python",
   "name": "python3"
  },
  "language_info": {
   "codemirror_mode": {
    "name": "ipython",
    "version": 3
   },
   "file_extension": ".py",
   "mimetype": "text/x-python",
   "name": "python",
   "nbconvert_exporter": "python",
   "pygments_lexer": "ipython3",
   "version": "3.8.5"
  }
 },
 "nbformat": 4,
 "nbformat_minor": 4
}
