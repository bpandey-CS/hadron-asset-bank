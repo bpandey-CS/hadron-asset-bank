{
 "cells": [
  {
   "cell_type": "code",
   "execution_count": 2,
   "metadata": {},
   "outputs": [
    {
     "name": "stdout",
     "output_type": "stream",
     "text": [
      "Foundation: 2.11.029\n",
      "Transition: 3.02.018\n"
     ]
    }
   ],
   "source": [
    "%run task_setup.ipynb"
   ]
  },
  {
   "cell_type": "code",
   "execution_count": 3,
   "metadata": {},
   "outputs": [],
   "source": [
    "sample_size = 10000\n",
    "seed = None"
   ]
  },
  {
   "cell_type": "markdown",
   "metadata": {},
   "source": [
    "-------------------------\n",
    "## Flu Risk Builder"
   ]
  },
  {
   "cell_type": "code",
   "execution_count": 4,
   "metadata": {},
   "outputs": [],
   "source": [
    "builder = SyntheticBuilder.from_env('flu_risk')"
   ]
  },
  {
   "cell_type": "markdown",
   "metadata": {},
   "source": [
    "### Run the Pipeline  save the Schema and show the Canonical Report"
   ]
  },
  {
   "cell_type": "code",
   "execution_count": 5,
   "metadata": {},
   "outputs": [
    {
     "data": {
      "text/html": [
       "<style  type=\"text/css\" >\n",
       "    #T_e448a_ th {\n",
       "          font-size: 120%;\n",
       "          text-align: center;\n",
       "    }    #T_e448a_ .row_heading, .blank {\n",
       "          display: none;;\n",
       "    }#T_e448a_row0_col0,#T_e448a_row1_col0,#T_e448a_row2_col0,#T_e448a_row3_col0,#T_e448a_row4_col0,#T_e448a_row5_col0,#T_e448a_row6_col0{\n",
       "            font-weight:  bold;\n",
       "            font-size:  120%;\n",
       "        }#T_e448a_row0_col1,#T_e448a_row5_col1{\n",
       "            color:  #0f398a;\n",
       "        }#T_e448a_row0_col2,#T_e448a_row0_col3,#T_e448a_row1_col2,#T_e448a_row1_col3,#T_e448a_row1_col4,#T_e448a_row2_col2,#T_e448a_row3_col2,#T_e448a_row3_col3,#T_e448a_row3_col6,#T_e448a_row4_col2,#T_e448a_row4_col3,#T_e448a_row4_col4,#T_e448a_row5_col2,#T_e448a_row5_col3,#T_e448a_row5_col6,#T_e448a_row6_col2,#T_e448a_row6_col3{\n",
       "            color:  black;\n",
       "        }#T_e448a_row0_col4{\n",
       "            background-color:  #fc9576;\n",
       "            color:  black;\n",
       "        }#T_e448a_row0_col6{\n",
       "            background-color:  #f0f9ed;\n",
       "            color:  black;\n",
       "        }#T_e448a_row1_col1,#T_e448a_row3_col1{\n",
       "            color:  #2f0f8a;\n",
       "        }#T_e448a_row1_col6{\n",
       "            background-color:  #a4da9e;\n",
       "            color:  black;\n",
       "        }#T_e448a_row2_col3,#T_e448a_row2_col4,#T_e448a_row2_col6,#T_e448a_row3_col4,#T_e448a_row5_col4{\n",
       "            background-color:  #ec382b;\n",
       "            color:  white;\n",
       "        }#T_e448a_row4_col1{\n",
       "            color:  #208a0f;\n",
       "        }#T_e448a_row4_col6{\n",
       "            background-color:  #84cc83;\n",
       "            color:  black;\n",
       "        }#T_e448a_row6_col1{\n",
       "            color:  #761d38;\n",
       "        }#T_e448a_row6_col4{\n",
       "            background-color:  #fdcdb9;\n",
       "            color:  black;\n",
       "        }#T_e448a_row6_col6{\n",
       "            background-color:  #c1e6ba;\n",
       "            color:  black;\n",
       "        }</style><table id=\"T_e448a_\" ><caption>%_Dom: The % most dominant element</caption><thead>    <tr>        <th class=\"blank level0\" ></th>        <th class=\"col_heading level0 col0\" >Attributes (7)</th>        <th class=\"col_heading level0 col1\" >dType</th>        <th class=\"col_heading level0 col2\" >%_Null</th>        <th class=\"col_heading level0 col3\" >%_Dom</th>        <th class=\"col_heading level0 col5\" >Count</th>        <th class=\"col_heading level0 col6\" >Unique</th>        <th class=\"col_heading level0 col7\" >Observations</th>    </tr></thead><tbody>\n",
       "                <tr>\n",
       "                        <th id=\"T_e448a_level0_row0\" class=\"row_heading level0 row0\" >0</th>\n",
       "                        <td id=\"T_e448a_row0_col0\" class=\"data row0 col0\" >age</td>\n",
       "                        <td id=\"T_e448a_row0_col1\" class=\"data row0 col1\" >int64</td>\n",
       "                        <td id=\"T_e448a_row0_col2\" class=\"data row0 col2\" >0.0%</td>\n",
       "                        <td id=\"T_e448a_row0_col3\" class=\"data row0 col3\" >3.4%</td>\n",
       "                                <td id=\"T_e448a_row0_col5\" class=\"data row0 col5\" >10000</td>\n",
       "                        <td id=\"T_e448a_row0_col6\" class=\"data row0 col6\" >71</td>\n",
       "                        <td id=\"T_e448a_row0_col7\" class=\"data row0 col7\" >max=91 | min=21 | mean=39.66 | dominant=29</td>\n",
       "            </tr>\n",
       "            <tr>\n",
       "                        <th id=\"T_e448a_level0_row1\" class=\"row_heading level0 row1\" >1</th>\n",
       "                        <td id=\"T_e448a_row1_col0\" class=\"data row1 col0\" >age_privilege</td>\n",
       "                        <td id=\"T_e448a_row1_col1\" class=\"data row1 col1\" >float64</td>\n",
       "                        <td id=\"T_e448a_row1_col2\" class=\"data row1 col2\" >0.0%</td>\n",
       "                        <td id=\"T_e448a_row1_col3\" class=\"data row1 col3\" >59.5%</td>\n",
       "                                <td id=\"T_e448a_row1_col5\" class=\"data row1 col5\" >10000</td>\n",
       "                        <td id=\"T_e448a_row1_col6\" class=\"data row1 col6\" >7</td>\n",
       "                        <td id=\"T_e448a_row1_col7\" class=\"data row1 col7\" >max=0.2 | min=-0.1 | mean=-0.04 | dominant=-0.1</td>\n",
       "            </tr>\n",
       "            <tr>\n",
       "                        <th id=\"T_e448a_level0_row2\" class=\"row_heading level0 row2\" >2</th>\n",
       "                        <td id=\"T_e448a_row2_col0\" class=\"data row2 col0\" >date</td>\n",
       "                        <td id=\"T_e448a_row2_col1\" class=\"data row2 col1\" >object</td>\n",
       "                        <td id=\"T_e448a_row2_col2\" class=\"data row2 col2\" >0.0%</td>\n",
       "                        <td id=\"T_e448a_row2_col3\" class=\"data row2 col3\" >100.0%</td>\n",
       "                                <td id=\"T_e448a_row2_col5\" class=\"data row2 col5\" >10000</td>\n",
       "                        <td id=\"T_e448a_row2_col6\" class=\"data row2 col6\" >1</td>\n",
       "                        <td id=\"T_e448a_row2_col7\" class=\"data row2 col7\" >Sample: 2021-02-17</td>\n",
       "            </tr>\n",
       "            <tr>\n",
       "                        <th id=\"T_e448a_level0_row3\" class=\"row_heading level0 row3\" >3</th>\n",
       "                        <td id=\"T_e448a_row3_col0\" class=\"data row3 col0\" >flu_risk_score</td>\n",
       "                        <td id=\"T_e448a_row3_col1\" class=\"data row3 col1\" >float64</td>\n",
       "                        <td id=\"T_e448a_row3_col2\" class=\"data row3 col2\" >0.0%</td>\n",
       "                        <td id=\"T_e448a_row3_col3\" class=\"data row3 col3\" >0.3%</td>\n",
       "                                <td id=\"T_e448a_row3_col5\" class=\"data row3 col5\" >10000</td>\n",
       "                        <td id=\"T_e448a_row3_col6\" class=\"data row3 col6\" >965</td>\n",
       "                        <td id=\"T_e448a_row3_col7\" class=\"data row3 col7\" >max=0.998 | min=0.001 | mean=0.4 | dominant=[0.046, 0.5]</td>\n",
       "            </tr>\n",
       "            <tr>\n",
       "                        <th id=\"T_e448a_level0_row4\" class=\"row_heading level0 row4\" >4</th>\n",
       "                        <td id=\"T_e448a_row4_col0\" class=\"data row4 col0\" >ins_icd_10_code</td>\n",
       "                        <td id=\"T_e448a_row4_col1\" class=\"data row4 col1\" >category</td>\n",
       "                        <td id=\"T_e448a_row4_col2\" class=\"data row4 col2\" >0.0%</td>\n",
       "                        <td id=\"T_e448a_row4_col3\" class=\"data row4 col3\" >54.7%</td>\n",
       "                                <td id=\"T_e448a_row4_col5\" class=\"data row4 col5\" >10000</td>\n",
       "                        <td id=\"T_e448a_row4_col6\" class=\"data row4 col6\" >3</td>\n",
       "                        <td id=\"T_e448a_row4_col7\" class=\"data row4 col7\" >Sample: 0 | Z23 | Z28</td>\n",
       "            </tr>\n",
       "            <tr>\n",
       "                        <th id=\"T_e448a_level0_row5\" class=\"row_heading level0 row5\" >5</th>\n",
       "                        <td id=\"T_e448a_row5_col0\" class=\"data row5 col0\" >member_id</td>\n",
       "                        <td id=\"T_e448a_row5_col1\" class=\"data row5 col1\" >int64</td>\n",
       "                        <td id=\"T_e448a_row5_col2\" class=\"data row5 col2\" >0.0%</td>\n",
       "                        <td id=\"T_e448a_row5_col3\" class=\"data row5 col3\" >0.0%</td>\n",
       "                                <td id=\"T_e448a_row5_col5\" class=\"data row5 col5\" >10000</td>\n",
       "                        <td id=\"T_e448a_row5_col6\" class=\"data row5 col6\" >10000</td>\n",
       "                        <td id=\"T_e448a_row5_col7\" class=\"data row5 col7\" >max=999986289 | min=100260999 | mean=551701500.65 | dominant=[100260999, 100287999]</td>\n",
       "            </tr>\n",
       "            <tr>\n",
       "                        <th id=\"T_e448a_level0_row6\" class=\"row_heading level0 row6\" >6</th>\n",
       "                        <td id=\"T_e448a_row6_col0\" class=\"data row6 col0\" >state</td>\n",
       "                        <td id=\"T_e448a_row6_col1\" class=\"data row6 col1\" >string</td>\n",
       "                        <td id=\"T_e448a_row6_col2\" class=\"data row6 col2\" >0.0%</td>\n",
       "                        <td id=\"T_e448a_row6_col3\" class=\"data row6 col3\" >19.8%</td>\n",
       "                                <td id=\"T_e448a_row6_col5\" class=\"data row6 col5\" >10000</td>\n",
       "                        <td id=\"T_e448a_row6_col6\" class=\"data row6 col6\" >14</td>\n",
       "                        <td id=\"T_e448a_row6_col7\" class=\"data row6 col7\" >Sample: California | New York | Ohio | Missouri | Wisconsin</td>\n",
       "            </tr>\n",
       "    </tbody></table>"
      ],
      "text/plain": [
       "<pandas.io.formats.style.Styler at 0x7f97d689dd60>"
      ]
     },
     "execution_count": 5,
     "metadata": {},
     "output_type": "execute_result"
    }
   ],
   "source": [
    "# set the version\n",
    "builder.set_version(VERSION)\n",
    "\n",
    "# run the pipeline\n",
    "builder.run_component_pipeline(size=sample_size)\n",
    "\n",
    "# report\n",
    "builder.canonical_report(builder.load_persist_canonical(), stylise=True)"
   ]
  },
  {
   "cell_type": "markdown",
   "metadata": {},
   "source": [
    "### Save Reports"
   ]
  },
  {
   "cell_type": "code",
   "execution_count": 6,
   "metadata": {},
   "outputs": [],
   "source": [
    "builder.save_report_canonical(reports=builder.REPORT_INTENT, report_canonical=builder.report_intent(stylise=False))\n",
    "builder.save_report_canonical(reports=builder.REPORT_CATALOG, report_canonical=builder.report_column_catalog(stylise=False))"
   ]
  },
  {
   "cell_type": "markdown",
   "metadata": {},
   "source": [
    "-------------------------\n",
    "## Flu Risk Transition"
   ]
  },
  {
   "cell_type": "code",
   "execution_count": 7,
   "metadata": {},
   "outputs": [],
   "source": [
    "tr = Transition.from_env('flu_risk')"
   ]
  },
  {
   "cell_type": "code",
   "execution_count": 8,
   "metadata": {},
   "outputs": [
    {
     "data": {
      "text/html": [
       "<style  type=\"text/css\" >\n",
       "    #T_20da7_ th {\n",
       "          font-size: 120%;\n",
       "          text-align: center;\n",
       "    }    #T_20da7_ .row_heading, .blank {\n",
       "          display: none;;\n",
       "    }#T_20da7_row0_col0,#T_20da7_row1_col0,#T_20da7_row2_col0{\n",
       "            font-weight:  bold;\n",
       "            font-size:  120%;\n",
       "        }#T_20da7_row0_col2,#T_20da7_row1_col2,#T_20da7_row1_col3,#T_20da7_row1_col6,#T_20da7_row2_col2,#T_20da7_row2_col3,#T_20da7_row2_col6{\n",
       "            color:  black;\n",
       "        }#T_20da7_row0_col3,#T_20da7_row0_col4,#T_20da7_row0_col6,#T_20da7_row1_col4,#T_20da7_row2_col4{\n",
       "            background-color:  #ec382b;\n",
       "            color:  white;\n",
       "        }#T_20da7_row1_col1{\n",
       "            color:  #2f0f8a;\n",
       "        }#T_20da7_row2_col1{\n",
       "            color:  #0f398a;\n",
       "        }</style><table id=\"T_20da7_\" ><caption>%_Dom: The % most dominant element</caption><thead>    <tr>        <th class=\"blank level0\" ></th>        <th class=\"col_heading level0 col0\" >Attributes (3)</th>        <th class=\"col_heading level0 col1\" >dType</th>        <th class=\"col_heading level0 col2\" >%_Null</th>        <th class=\"col_heading level0 col3\" >%_Dom</th>        <th class=\"col_heading level0 col5\" >Count</th>        <th class=\"col_heading level0 col6\" >Unique</th>        <th class=\"col_heading level0 col7\" >Observations</th>    </tr></thead><tbody>\n",
       "                <tr>\n",
       "                        <th id=\"T_20da7_level0_row0\" class=\"row_heading level0 row0\" >0</th>\n",
       "                        <td id=\"T_20da7_row0_col0\" class=\"data row0 col0\" >date</td>\n",
       "                        <td id=\"T_20da7_row0_col1\" class=\"data row0 col1\" >object</td>\n",
       "                        <td id=\"T_20da7_row0_col2\" class=\"data row0 col2\" >0.0%</td>\n",
       "                        <td id=\"T_20da7_row0_col3\" class=\"data row0 col3\" >100.0%</td>\n",
       "                                <td id=\"T_20da7_row0_col5\" class=\"data row0 col5\" >10000</td>\n",
       "                        <td id=\"T_20da7_row0_col6\" class=\"data row0 col6\" >1</td>\n",
       "                        <td id=\"T_20da7_row0_col7\" class=\"data row0 col7\" >Sample: 2021-02-17</td>\n",
       "            </tr>\n",
       "            <tr>\n",
       "                        <th id=\"T_20da7_level0_row1\" class=\"row_heading level0 row1\" >1</th>\n",
       "                        <td id=\"T_20da7_row1_col0\" class=\"data row1 col0\" >flu_risk_score</td>\n",
       "                        <td id=\"T_20da7_row1_col1\" class=\"data row1 col1\" >float64</td>\n",
       "                        <td id=\"T_20da7_row1_col2\" class=\"data row1 col2\" >0.0%</td>\n",
       "                        <td id=\"T_20da7_row1_col3\" class=\"data row1 col3\" >0.3%</td>\n",
       "                                <td id=\"T_20da7_row1_col5\" class=\"data row1 col5\" >10000</td>\n",
       "                        <td id=\"T_20da7_row1_col6\" class=\"data row1 col6\" >965</td>\n",
       "                        <td id=\"T_20da7_row1_col7\" class=\"data row1 col7\" >max=0.998 | min=0.001 | mean=0.4 | dominant=[0.046, 0.5]</td>\n",
       "            </tr>\n",
       "            <tr>\n",
       "                        <th id=\"T_20da7_level0_row2\" class=\"row_heading level0 row2\" >2</th>\n",
       "                        <td id=\"T_20da7_row2_col0\" class=\"data row2 col0\" >member_id</td>\n",
       "                        <td id=\"T_20da7_row2_col1\" class=\"data row2 col1\" >int64</td>\n",
       "                        <td id=\"T_20da7_row2_col2\" class=\"data row2 col2\" >0.0%</td>\n",
       "                        <td id=\"T_20da7_row2_col3\" class=\"data row2 col3\" >0.0%</td>\n",
       "                                <td id=\"T_20da7_row2_col5\" class=\"data row2 col5\" >10000</td>\n",
       "                        <td id=\"T_20da7_row2_col6\" class=\"data row2 col6\" >10000</td>\n",
       "                        <td id=\"T_20da7_row2_col7\" class=\"data row2 col7\" >max=999986289 | min=100260999 | mean=551701500.65 | dominant=[100260999, 100287999]</td>\n",
       "            </tr>\n",
       "    </tbody></table>"
      ],
      "text/plain": [
       "<pandas.io.formats.style.Styler at 0x7f97d651f940>"
      ]
     },
     "execution_count": 8,
     "metadata": {},
     "output_type": "execute_result"
    }
   ],
   "source": [
    "# set the version\n",
    "tr.set_version(VERSION)\n",
    "\n",
    "# run the pipeline\n",
    "tr.run_component_pipeline()\n",
    "\n",
    "# report\n",
    "tr.canonical_report(tr.load_persist_canonical(), stylise=True)"
   ]
  },
  {
   "cell_type": "markdown",
   "metadata": {},
   "source": [
    "### Save Reports"
   ]
  },
  {
   "cell_type": "code",
   "execution_count": 10,
   "metadata": {},
   "outputs": [],
   "source": [
    "tr.save_report_canonical(reports=tr.REPORT_DICTIONARY, report_canonical=tr.canonical_report(tr.load_persist_canonical(), stylise=False))\n",
    "tr.save_report_canonical(reports=tr.REPORT_SUMMARY, report_canonical=tr.report_quality_summary(stylise=False))\n",
    "tr.save_report_canonical(reports=tr.REPORT_PROVENANCE, report_canonical=tr.report_provenance(stylise=False))\n",
    "tr.save_report_canonical(reports=tr.REPORT_FIELDS, report_canonical=tr.report_attributes(tr.load_persist_canonical(), stylise=False))"
   ]
  },
  {
   "cell_type": "code",
   "execution_count": null,
   "metadata": {},
   "outputs": [],
   "source": []
  }
 ],
 "metadata": {
  "kernelspec": {
   "display_name": "Python 3",
   "language": "python",
   "name": "python3"
  },
  "language_info": {
   "codemirror_mode": {
    "name": "ipython",
    "version": 3
   },
   "file_extension": ".py",
   "mimetype": "text/x-python",
   "name": "python",
   "nbconvert_exporter": "python",
   "pygments_lexer": "ipython3",
   "version": "3.8.5"
  }
 },
 "nbformat": 4,
 "nbformat_minor": 4
}
