{
 "cells": [
  {
   "cell_type": "code",
   "execution_count": 1,
   "metadata": {},
   "outputs": [
    {
     "name": "stdout",
     "output_type": "stream",
     "text": [
      "Foundation: 2.11.029\n",
      "Transition: 3.02.026\n"
     ]
    }
   ],
   "source": [
    "%run task_setup.ipynb"
   ]
  },
  {
   "cell_type": "markdown",
   "metadata": {},
   "source": [
    "-------------------------\n",
    "## Build Flu Risk raw synthetic file"
   ]
  },
  {
   "cell_type": "code",
   "execution_count": 2,
   "metadata": {},
   "outputs": [],
   "source": [
    "builder = SyntheticBuilder.from_env('flu_risk')"
   ]
  },
  {
   "cell_type": "code",
   "execution_count": 3,
   "metadata": {},
   "outputs": [],
   "source": [
    "tools = builder.intent_model"
   ]
  },
  {
   "cell_type": "code",
   "execution_count": 4,
   "metadata": {},
   "outputs": [],
   "source": [
    "builder.pm.reset_intents()\n",
    "builder.pm_persist()"
   ]
  },
  {
   "cell_type": "code",
   "execution_count": 5,
   "metadata": {},
   "outputs": [],
   "source": [
    "sample_size = 1000"
   ]
  },
  {
   "cell_type": "markdown",
   "metadata": {},
   "source": [
    "**get the data from the members dataset on s3**"
   ]
  },
  {
   "cell_type": "code",
   "execution_count": 6,
   "metadata": {},
   "outputs": [],
   "source": [
    "# Set up the members data\n",
    "factory_members = \"s3://project-hadron-cs-repo/factory/healthcare/members/factory_transition_members_dataset_v05.parquet\"\n",
    "builder.add_connector_uri(connector_name='members', uri=factory_members)"
   ]
  },
  {
   "cell_type": "code",
   "execution_count": 7,
   "metadata": {},
   "outputs": [],
   "source": [
    "# pass an empty dataframe  of sample_size\n",
    "df = tools.canonical2dict(method='@empty', size=sample_size)\n",
    "\n",
    "# Get the columns from the Members connector and concat it to the empty df\n",
    "df = builder.tools.model_concat(df, other='members', as_rows=False, headers=['member_id', 'state', 'age', 'channel_pref'], column_name='member_reference')\n",
    "builder.add_column_description(column_name='member_reference', description=\"member reference data taken from the members distribution\")"
   ]
  },
  {
   "cell_type": "markdown",
   "metadata": {},
   "source": [
    "**get the data from the insurance dataset on s3**"
   ]
  },
  {
   "cell_type": "code",
   "execution_count": 8,
   "metadata": {},
   "outputs": [],
   "source": [
    "# Set up the members data\n",
    "factory_members = \"s3://project-hadron-cs-repo/factory/healthcare/members/factory_transition_ins_members_dataset_v05.parquet\"\n",
    "builder.add_connector_uri(connector_name='ins_members', uri=factory_members)"
   ]
  },
  {
   "cell_type": "code",
   "execution_count": 9,
   "metadata": {},
   "outputs": [],
   "source": [
    "# Get the columns from the Members file\n",
    "df = builder.tools.model_merge(df, other='ins_members', on='member_id',  headers=['ins_icd_10_code'], column_name='claims_reference')\n",
    "builder.add_column_description(column_name='claims_reference', description=\"insurance claims data for the ICD codes\")"
   ]
  },
  {
   "cell_type": "markdown",
   "metadata": {},
   "source": [
    "--------------------------"
   ]
  },
  {
   "cell_type": "code",
   "execution_count": 10,
   "metadata": {},
   "outputs": [
    {
     "data": {
      "text/html": [
       "<style  type=\"text/css\" >\n",
       "    #T_9ab26_ th {\n",
       "          font-size: 120%;\n",
       "          text-align: center;\n",
       "    }    #T_9ab26_ .row_heading, .blank {\n",
       "          display: none;;\n",
       "    }#T_9ab26_row0_col0,#T_9ab26_row1_col0,#T_9ab26_row2_col0,#T_9ab26_row3_col0{\n",
       "            font-weight:  bold;\n",
       "            font-size:  120%;\n",
       "        }#T_9ab26_row0_col1,#T_9ab26_row2_col1{\n",
       "            color:  #0f398a;\n",
       "        }#T_9ab26_row0_col2,#T_9ab26_row0_col3,#T_9ab26_row1_col2,#T_9ab26_row1_col3,#T_9ab26_row1_col4,#T_9ab26_row2_col2,#T_9ab26_row2_col3,#T_9ab26_row2_col6,#T_9ab26_row3_col2,#T_9ab26_row3_col3{\n",
       "            color:  black;\n",
       "        }#T_9ab26_row0_col4{\n",
       "            background-color:  #fc9576;\n",
       "            color:  black;\n",
       "        }#T_9ab26_row0_col6{\n",
       "            background-color:  #f0f9ed;\n",
       "            color:  black;\n",
       "        }#T_9ab26_row1_col1{\n",
       "            color:  #208a0f;\n",
       "        }#T_9ab26_row1_col6{\n",
       "            background-color:  #84cc83;\n",
       "            color:  black;\n",
       "        }#T_9ab26_row2_col4{\n",
       "            background-color:  #ec382b;\n",
       "            color:  white;\n",
       "        }#T_9ab26_row3_col1{\n",
       "            color:  #761d38;\n",
       "        }#T_9ab26_row3_col4{\n",
       "            background-color:  #ffede5;\n",
       "            color:  black;\n",
       "        }#T_9ab26_row3_col6{\n",
       "            background-color:  #c1e6ba;\n",
       "            color:  black;\n",
       "        }</style><table id=\"T_9ab26_\" ><caption>%_Dom: The % most dominant element</caption><thead>    <tr>        <th class=\"blank level0\" ></th>        <th class=\"col_heading level0 col0\" >Attributes (4)</th>        <th class=\"col_heading level0 col1\" >dType</th>        <th class=\"col_heading level0 col2\" >%_Null</th>        <th class=\"col_heading level0 col3\" >%_Dom</th>        <th class=\"col_heading level0 col5\" >Count</th>        <th class=\"col_heading level0 col6\" >Unique</th>        <th class=\"col_heading level0 col7\" >Observations</th>    </tr></thead><tbody>\n",
       "                <tr>\n",
       "                        <th id=\"T_9ab26_level0_row0\" class=\"row_heading level0 row0\" >0</th>\n",
       "                        <td id=\"T_9ab26_row0_col0\" class=\"data row0 col0\" >age</td>\n",
       "                        <td id=\"T_9ab26_row0_col1\" class=\"data row0 col1\" >int64</td>\n",
       "                        <td id=\"T_9ab26_row0_col2\" class=\"data row0 col2\" >0.0%</td>\n",
       "                        <td id=\"T_9ab26_row0_col3\" class=\"data row0 col3\" >4.2%</td>\n",
       "                                <td id=\"T_9ab26_row0_col5\" class=\"data row0 col5\" >1000</td>\n",
       "                        <td id=\"T_9ab26_row0_col6\" class=\"data row0 col6\" >65</td>\n",
       "                        <td id=\"T_9ab26_row0_col7\" class=\"data row0 col7\" >max=91 | min=21 | mean=39.17 | dominant=30</td>\n",
       "            </tr>\n",
       "            <tr>\n",
       "                        <th id=\"T_9ab26_level0_row1\" class=\"row_heading level0 row1\" >1</th>\n",
       "                        <td id=\"T_9ab26_row1_col0\" class=\"data row1 col0\" >ins_icd_10_code</td>\n",
       "                        <td id=\"T_9ab26_row1_col1\" class=\"data row1 col1\" >category</td>\n",
       "                        <td id=\"T_9ab26_row1_col2\" class=\"data row1 col2\" >0.0%</td>\n",
       "                        <td id=\"T_9ab26_row1_col3\" class=\"data row1 col3\" >55.1%</td>\n",
       "                                <td id=\"T_9ab26_row1_col5\" class=\"data row1 col5\" >1000</td>\n",
       "                        <td id=\"T_9ab26_row1_col6\" class=\"data row1 col6\" >3</td>\n",
       "                        <td id=\"T_9ab26_row1_col7\" class=\"data row1 col7\" >Sample: 0 | Z23 | Z28</td>\n",
       "            </tr>\n",
       "            <tr>\n",
       "                        <th id=\"T_9ab26_level0_row2\" class=\"row_heading level0 row2\" >2</th>\n",
       "                        <td id=\"T_9ab26_row2_col0\" class=\"data row2 col0\" >member_id</td>\n",
       "                        <td id=\"T_9ab26_row2_col1\" class=\"data row2 col1\" >int64</td>\n",
       "                        <td id=\"T_9ab26_row2_col2\" class=\"data row2 col2\" >0.0%</td>\n",
       "                        <td id=\"T_9ab26_row2_col3\" class=\"data row2 col3\" >0.1%</td>\n",
       "                                <td id=\"T_9ab26_row2_col5\" class=\"data row2 col5\" >1000</td>\n",
       "                        <td id=\"T_9ab26_row2_col6\" class=\"data row2 col6\" >1000</td>\n",
       "                        <td id=\"T_9ab26_row2_col7\" class=\"data row2 col7\" >max=999585789 | min=100854999 | mean=556217335.54 | dominant=[100854999, 101322999]</td>\n",
       "            </tr>\n",
       "            <tr>\n",
       "                        <th id=\"T_9ab26_level0_row3\" class=\"row_heading level0 row3\" >3</th>\n",
       "                        <td id=\"T_9ab26_row3_col0\" class=\"data row3 col0\" >state</td>\n",
       "                        <td id=\"T_9ab26_row3_col1\" class=\"data row3 col1\" >string</td>\n",
       "                        <td id=\"T_9ab26_row3_col2\" class=\"data row3 col2\" >0.0%</td>\n",
       "                        <td id=\"T_9ab26_row3_col3\" class=\"data row3 col3\" >19.2%</td>\n",
       "                                <td id=\"T_9ab26_row3_col5\" class=\"data row3 col5\" >1000</td>\n",
       "                        <td id=\"T_9ab26_row3_col6\" class=\"data row3 col6\" >14</td>\n",
       "                        <td id=\"T_9ab26_row3_col7\" class=\"data row3 col7\" >Sample: California | New York | Ohio | Wisconsin | Missouri</td>\n",
       "            </tr>\n",
       "    </tbody></table>"
      ],
      "text/plain": [
       "<pandas.io.formats.style.Styler at 0x7ffa95bda520>"
      ]
     },
     "execution_count": 10,
     "metadata": {},
     "output_type": "execute_result"
    }
   ],
   "source": [
    "builder.canonical_report(df)"
   ]
  },
  {
   "cell_type": "markdown",
   "metadata": {},
   "source": [
    "--------------------------"
   ]
  },
  {
   "cell_type": "code",
   "execution_count": 11,
   "metadata": {},
   "outputs": [],
   "source": [
    "# add todays timestamp\n",
    "df['date'] = builder.tools.get_datetime(start=-14, until=-13, size=sample_size, date_format=\"%Y-%m-%d\", ignore_time=True, column_name='date')\n",
    "builder.add_column_description(column_name='date', description=\"The date of the flu risk score\")"
   ]
  },
  {
   "cell_type": "code",
   "execution_count": 12,
   "metadata": {},
   "outputs": [],
   "source": [
    "# conditional latent privilage for age under 40\n",
    "selection = [builder.tools.select2dict(column='age', condition='@<=40')]\n",
    "\n",
    "action = builder.tools.action2dict(method='get_number', from_value=-0.1, to_value=0.1, precision=1, relative_freq=[20, 1])\n",
    "default = builder.tools.action2dict(method='get_number', from_value=-0.1, to_value=0.2, precision=1, relative_freq=[3, 20, 1])\n",
    "\n",
    "df['age_privilege'] = builder.tools.correlate_selection(df, selection=selection, action=action, default_action=default, column_name='age_privilege', intent_order=-1)\n",
    "builder.add_column_description(column_name='age_privilege', description=\"set privilege for under 40 with reduced risk with default zero privilage\")"
   ]
  },
  {
   "cell_type": "code",
   "execution_count": 13,
   "metadata": {},
   "outputs": [],
   "source": [
    "# conditional latent privilage for age over 75\n",
    "selection = [builder.tools.select2dict(column='age', condition='@>75')]\n",
    "\n",
    "action = builder.tools.action2dict(method='get_number', from_value=-0.1, to_value=0.3, precision=1, relative_freq=[1, 99, 10])\n",
    "default = builder.tools.action2dict(method='@header', header='age_privilege')\n",
    "\n",
    "df['age_privilege'] = builder.tools.correlate_selection(df, selection=selection, action=action, default_action=default, column_name='age_privilege', intent_order=-1)\n",
    "builder.add_column_description(column_name='age_privilege', description=\"set zero privilage for most over 75\")"
   ]
  },
  {
   "cell_type": "markdown",
   "metadata": {},
   "source": [
    "--------------------------"
   ]
  },
  {
   "cell_type": "markdown",
   "metadata": {},
   "source": [
    "---------------------\n",
    "### Create the risk score normal distribution"
   ]
  },
  {
   "cell_type": "code",
   "execution_count": 14,
   "metadata": {},
   "outputs": [],
   "source": [
    "df['flu_risk_score'] = builder.tools.get_dist_bounded_normal(mean=0.55, std=0.2, lower=0.1, upper=1, precision=3, size=sample_size, column_name='flu_risk_score', intent_order=-1)\n",
    "builder.add_column_description(column_name='flu_risk_score', description=\"A generated flu risk score with a bound normal distribution wth a mean of 0.55 and std of 0.2\")"
   ]
  },
  {
   "cell_type": "code",
   "execution_count": 15,
   "metadata": {},
   "outputs": [
    {
     "data": {
      "text/plain": [
       "<AxesSubplot:xlabel='flu_risk_score', ylabel='Density'>"
      ]
     },
     "execution_count": 15,
     "metadata": {},
     "output_type": "execute_result"
    },
    {
     "data": {
      "image/png": "[encoded data removed]",
      "text/plain": [
       "<Figure size 432x288 with 1 Axes>"
      ]
     },
     "metadata": {},
     "output_type": "display_data"
    }
   ],
   "source": [
    "sns.set()\n",
    "sns.distplot(df['flu_risk_score'], bins=30)"
   ]
  },
  {
   "cell_type": "markdown",
   "metadata": {},
   "source": [
    "---------------------\n",
    "### Resample Normal Distribution for those with previous flu shots under 40"
   ]
  },
  {
   "cell_type": "code",
   "execution_count": 16,
   "metadata": {},
   "outputs": [],
   "source": [
    "# had flu shot so low risk\n",
    "selection = [tools.select2dict(column='ins_icd_10_code', condition=\"@=='Z23'\"),\n",
    "             tools.select2dict(column='age', condition='@<40', logic='AND')]\n",
    "\n",
    "action = tools.action2dict(method='get_dist_bounded_normal', mean=0.1, std=0.1, lower=0.001, upper=0.4, precision=3)\n",
    "default = tools.action2dict(method='@header', header='flu_risk_score')\n",
    "\n",
    "df['flu_risk_score'] = tools.correlate_selection(df, selection=selection, action=action, default_action=default, column_name='flu_risk_score', intent_order=-1)\n",
    "builder.add_column_description(column_name='flu_risk_score', description=\"normally distribute those with a flue-shot and under 40 with a bound normal distribution, mean of 0.1 and std of 0.1 with an upper bound of 0.4\")"
   ]
  },
  {
   "cell_type": "code",
   "execution_count": 17,
   "metadata": {},
   "outputs": [
    {
     "data": {
      "text/plain": [
       "<AxesSubplot:xlabel='flu_risk_score', ylabel='Density'>"
      ]
     },
     "execution_count": 17,
     "metadata": {},
     "output_type": "execute_result"
    },
    {
     "data": {
      "image/png": "[encoded data removed]",
      "text/plain": [
       "<Figure size 432x288 with 1 Axes>"
      ]
     },
     "metadata": {},
     "output_type": "display_data"
    }
   ],
   "source": [
    "sns.set()\n",
    "sns.distplot(df['flu_risk_score'], bins=30)"
   ]
  },
  {
   "cell_type": "markdown",
   "metadata": {},
   "source": [
    "---------------------\n",
    "### Resample Normal Distribution for those with previous flu shots 40 to under 65"
   ]
  },
  {
   "cell_type": "code",
   "execution_count": 18,
   "metadata": {},
   "outputs": [],
   "source": [
    "# had flu shot so low risk\n",
    "selection = [tools.select2dict(column='ins_icd_10_code', condition=\"@=='Z23'\"),\n",
    "             tools.select2dict(column='age', condition='@>=40', logic='AND'),\n",
    "             tools.select2dict(column='age', condition='@<65', logic='AND')]\n",
    "\n",
    "action = tools.action2dict(method='get_dist_bounded_normal', mean=0.25, std=0.1, lower=0.001, upper=0.6, precision=3)\n",
    "default = tools.action2dict(method='@header', header='flu_risk_score')\n",
    "\n",
    "df['flu_risk_score'] = tools.correlate_selection(df, selection=selection, action=action, default_action=default, column_name='flu_risk_score', intent_order=-1)\n",
    "builder.add_column_description(column_name='flu_risk_score', description=\"normally distribute those with a flue-shot and 40 <= age < 65, with a bound normal distribution, mean of 0.25 and std of 0.1 with an upper bound of 0.6\")"
   ]
  },
  {
   "cell_type": "code",
   "execution_count": 19,
   "metadata": {},
   "outputs": [
    {
     "data": {
      "text/plain": [
       "<AxesSubplot:xlabel='flu_risk_score', ylabel='Density'>"
      ]
     },
     "execution_count": 19,
     "metadata": {},
     "output_type": "execute_result"
    },
    {
     "data": {
      "image/png": "[encoded data removed]",
      "text/plain": [
       "<Figure size 432x288 with 1 Axes>"
      ]
     },
     "metadata": {},
     "output_type": "display_data"
    }
   ],
   "source": [
    "sns.set()\n",
    "sns.distplot(df['flu_risk_score'], bins=30)"
   ]
  },
  {
   "cell_type": "markdown",
   "metadata": {},
   "source": [
    "---------------------\n",
    "### Resample Normal Distribution for those with previous flu shots 65+"
   ]
  },
  {
   "cell_type": "code",
   "execution_count": 20,
   "metadata": {},
   "outputs": [],
   "source": [
    "# had flu shot so low risk\n",
    "selection = [tools.select2dict(column='ins_icd_10_code', condition=\"@=='Z23'\"),\n",
    "             tools.select2dict(column='age', condition='@>=65', logic='AND')]\n",
    "\n",
    "action = tools.action2dict(method='get_dist_bounded_normal', mean=0.4, std=0.15, lower=0.1, upper=0.9, precision=3)\n",
    "default = tools.action2dict(method='@header', header='flu_risk_score')\n",
    "\n",
    "df['flu_risk_score'] = tools.correlate_selection(df, selection=selection, action=action, default_action=default, column_name='flu_risk_score', intent_order=-1)\n",
    "builder.add_column_description(column_name='flu_risk_score', description=\"normally distribute those with a flue-shot and 65 + with a bound normal distribution, mean of 0.4 and std of 0.15 with an upper bound of 0.9\")"
   ]
  },
  {
   "cell_type": "code",
   "execution_count": 21,
   "metadata": {},
   "outputs": [
    {
     "data": {
      "text/plain": [
       "<AxesSubplot:xlabel='flu_risk_score', ylabel='Density'>"
      ]
     },
     "execution_count": 21,
     "metadata": {},
     "output_type": "execute_result"
    },
    {
     "data": {
      "image/png": "[encoded data removed]",
      "text/plain": [
       "<Figure size 432x288 with 1 Axes>"
      ]
     },
     "metadata": {},
     "output_type": "display_data"
    }
   ],
   "source": [
    "sns.set()\n",
    "sns.distplot(df['flu_risk_score'], bins=30)"
   ]
  },
  {
   "cell_type": "markdown",
   "metadata": {},
   "source": [
    "---------------------\n",
    "### Adjust risk based on the Latent age privilage"
   ]
  },
  {
   "cell_type": "code",
   "execution_count": 22,
   "metadata": {},
   "outputs": [],
   "source": [
    "# adjust flu risk according to age privilage\n",
    "selection = [tools.select2dict(column='flu_risk_score', condition=\"@>0.1\"),\n",
    "             tools.select2dict(column='age', condition=\"@>40\", logic='OR')]\n",
    "\n",
    "action = tools.action2dict(method='correlate_aggregate', headers=['flu_risk_score', 'age_privilege'], agg='sum', precision=3)\n",
    "default = tools.action2dict(method='@header', header='flu_risk_score')\n",
    "\n",
    "df['flu_risk_score'] = tools.correlate_selection(df, selection=selection, action=action, default_action=default, column_name='flu_risk_score', intent_order=-1)\n",
    "builder.add_column_description(column_name='flu_risk_score', description=\"add age_privilege to the risk score to adjust for the privilage of age\")"
   ]
  },
  {
   "cell_type": "code",
   "execution_count": 23,
   "metadata": {},
   "outputs": [
    {
     "data": {
      "text/plain": [
       "<AxesSubplot:xlabel='flu_risk_score', ylabel='Density'>"
      ]
     },
     "execution_count": 23,
     "metadata": {},
     "output_type": "execute_result"
    },
    {
     "data": {
      "image/png": "[encoded data removed]",
      "text/plain": [
       "<Figure size 432x288 with 1 Axes>"
      ]
     },
     "metadata": {},
     "output_type": "display_data"
    }
   ],
   "source": [
    "sns.set()\n",
    "sns.distplot(df['flu_risk_score'], bins=30)"
   ]
  },
  {
   "cell_type": "code",
   "execution_count": 24,
   "metadata": {},
   "outputs": [],
   "source": [
    "# adjust for the upper bound range\n",
    "selection = [tools.select2dict(column='flu_risk_score', condition=\"@>=1\")]\n",
    "\n",
    "action = tools.action2dict(method='get_dist_bounded_normal', mean=0.9, std=0.02, lower=0.8, upper=0.998, precision=3)\n",
    "default = tools.action2dict(method='@header', header='flu_risk_score')\n",
    "\n",
    "df['flu_risk_score'] = tools.correlate_selection(df, selection=selection, action=action, default_action=default , column_name='flu_risk_score', intent_order=-1)"
   ]
  },
  {
   "cell_type": "code",
   "execution_count": 25,
   "metadata": {},
   "outputs": [],
   "source": [
    "# adjust for the lower bound range\n",
    "selection = [tools.select2dict(column='flu_risk_score', condition=\"@<=0\")]\n",
    "\n",
    "action = tools.action2dict(method='get_dist_bounded_normal', mean=0.1, std=0.02, lower=0.01, upper=0.2, precision=3)\n",
    "default = tools.action2dict(method='@header', header='flu_risk_score')\n",
    "\n",
    "df['flu_risk_score'] = tools.correlate_selection(df, selection=selection, action=action, default_action=default , column_name='flu_risk_score', intent_order=-1)"
   ]
  },
  {
   "cell_type": "code",
   "execution_count": 26,
   "metadata": {},
   "outputs": [
    {
     "data": {
      "text/plain": [
       "<AxesSubplot:xlabel='flu_risk_score', ylabel='Density'>"
      ]
     },
     "execution_count": 26,
     "metadata": {},
     "output_type": "execute_result"
    },
    {
     "data": {
      "image/png": "[encoded data removed]",
      "text/plain": [
       "<Figure size 432x288 with 1 Axes>"
      ]
     },
     "metadata": {},
     "output_type": "display_data"
    }
   ],
   "source": [
    "sns.set()\n",
    "sns.distplot(df['flu_risk_score'], bins=30)"
   ]
  },
  {
   "cell_type": "code",
   "execution_count": 27,
   "metadata": {},
   "outputs": [],
   "source": [
    "builder.run_component_pipeline(size=sample_size)"
   ]
  },
  {
   "cell_type": "code",
   "execution_count": 28,
   "metadata": {},
   "outputs": [
    {
     "data": {
      "text/html": [
       "<style  type=\"text/css\" >\n",
       "    #T_3e09c_ th {\n",
       "          font-size: 120%;\n",
       "          text-align: center;\n",
       "    }    #T_3e09c_ .row_heading, .blank {\n",
       "          display: none;;\n",
       "    }#T_3e09c_row0_col0,#T_3e09c_row1_col0,#T_3e09c_row2_col0,#T_3e09c_row3_col0,#T_3e09c_row4_col0{\n",
       "            text-align:  left;\n",
       "            font-weight:  bold;\n",
       "        }#T_3e09c_row0_col1,#T_3e09c_row1_col1,#T_3e09c_row2_col1,#T_3e09c_row3_col1,#T_3e09c_row4_col1{\n",
       "            text-align:  left;\n",
       "        }</style><table id=\"T_3e09c_\" ><thead>    <tr>        <th class=\"blank level0\" ></th>        <th class=\"col_heading level0 col0\" >column_name</th>        <th class=\"col_heading level0 col1\" >description</th>    </tr></thead><tbody>\n",
       "                <tr>\n",
       "                        <th id=\"T_3e09c_level0_row0\" class=\"row_heading level0 row0\" >0</th>\n",
       "                        <td id=\"T_3e09c_row0_col0\" class=\"data row0 col0\" >age_privilege</td>\n",
       "                        <td id=\"T_3e09c_row0_col1\" class=\"data row0 col1\" >set privilege for under 40 with reduced risk with default zero privilage, set zero privilage for most over 75</td>\n",
       "            </tr>\n",
       "            <tr>\n",
       "                        <th id=\"T_3e09c_level0_row1\" class=\"row_heading level0 row1\" >1</th>\n",
       "                        <td id=\"T_3e09c_row1_col0\" class=\"data row1 col0\" >claims_reference</td>\n",
       "                        <td id=\"T_3e09c_row1_col1\" class=\"data row1 col1\" >insurance claims data for the ICD codes</td>\n",
       "            </tr>\n",
       "            <tr>\n",
       "                        <th id=\"T_3e09c_level0_row2\" class=\"row_heading level0 row2\" >2</th>\n",
       "                        <td id=\"T_3e09c_row2_col0\" class=\"data row2 col0\" >date</td>\n",
       "                        <td id=\"T_3e09c_row2_col1\" class=\"data row2 col1\" >The date of the flu risk score</td>\n",
       "            </tr>\n",
       "            <tr>\n",
       "                        <th id=\"T_3e09c_level0_row3\" class=\"row_heading level0 row3\" >3</th>\n",
       "                        <td id=\"T_3e09c_row3_col0\" class=\"data row3 col0\" >flu_risk_score</td>\n",
       "                        <td id=\"T_3e09c_row3_col1\" class=\"data row3 col1\" >A generated flu risk score with a bound normal distribution wth a mean of 0.55 and std of 0.2, normally distribute those with a flue-shot and under 40 with a bound normal distribution, mean of 0.1 and std of 0.1 with an upper bound of 0.4, normally distribute those with a flue-shot and 40 <= age < 65, with a bound normal distribution, mean of 0.25 and std of 0.1 with an upper bound of 0.6, normally distribute those with a flue-shot and 65 + with a bound normal distribution, mean of 0.4 and std of 0.15 with an upper bound of 0.9, add age_privilege to the risk score to adjust for the privilage of age</td>\n",
       "            </tr>\n",
       "            <tr>\n",
       "                        <th id=\"T_3e09c_level0_row4\" class=\"row_heading level0 row4\" >4</th>\n",
       "                        <td id=\"T_3e09c_row4_col0\" class=\"data row4 col0\" >member_reference</td>\n",
       "                        <td id=\"T_3e09c_row4_col1\" class=\"data row4 col1\" >member reference data taken from the members distribution</td>\n",
       "            </tr>\n",
       "    </tbody></table>"
      ],
      "text/plain": [
       "<pandas.io.formats.style.Styler at 0x7ffa915dce80>"
      ]
     },
     "execution_count": 28,
     "metadata": {},
     "output_type": "execute_result"
    }
   ],
   "source": [
    "builder.report_column_catalog()"
   ]
  },
  {
   "cell_type": "markdown",
   "metadata": {},
   "source": [
    "-------------------------\n",
    "## Flu Risk Score Transition"
   ]
  },
  {
   "cell_type": "code",
   "execution_count": 29,
   "metadata": {},
   "outputs": [],
   "source": [
    "tr = Transition.from_env('flu_risk')"
   ]
  },
  {
   "cell_type": "code",
   "execution_count": 30,
   "metadata": {},
   "outputs": [],
   "source": [
    "tr.pm.reset_intents()\n",
    "tr.pm_persist()"
   ]
  },
  {
   "cell_type": "code",
   "execution_count": 31,
   "metadata": {},
   "outputs": [],
   "source": [
    "df = tr.load_source_canonical()"
   ]
  },
  {
   "cell_type": "code",
   "execution_count": 32,
   "metadata": {},
   "outputs": [],
   "source": [
    "df = tr.intent_model.auto_clean_header(df)\n",
    "df = tr.intent_model.to_float_type(df, headers='flu_risk_score', precision=3)\n",
    "df = tr.intent_model.to_select(df, headers=['member_id', 'date', 'flu_risk_score'])"
   ]
  },
  {
   "cell_type": "code",
   "execution_count": 33,
   "metadata": {},
   "outputs": [],
   "source": [
    "tr.run_component_pipeline()"
   ]
  },
  {
   "cell_type": "code",
   "execution_count": 34,
   "metadata": {},
   "outputs": [
    {
     "data": {
      "text/html": [
       "<style  type=\"text/css\" >\n",
       "    #T_078a1_ th {\n",
       "          font-size: 120%;\n",
       "          text-align: center;\n",
       "    }    #T_078a1_ .row_heading, .blank {\n",
       "          display: none;;\n",
       "    }#T_078a1_row0_col0,#T_078a1_row1_col0,#T_078a1_row2_col0{\n",
       "            font-weight:  bold;\n",
       "            font-size:  120%;\n",
       "        }#T_078a1_row0_col2,#T_078a1_row1_col2,#T_078a1_row1_col3,#T_078a1_row1_col6,#T_078a1_row2_col2,#T_078a1_row2_col3,#T_078a1_row2_col6{\n",
       "            color:  black;\n",
       "        }#T_078a1_row0_col3,#T_078a1_row0_col4,#T_078a1_row0_col6,#T_078a1_row1_col4,#T_078a1_row2_col4{\n",
       "            background-color:  #ec382b;\n",
       "            color:  white;\n",
       "        }#T_078a1_row1_col1{\n",
       "            color:  #2f0f8a;\n",
       "        }#T_078a1_row2_col1{\n",
       "            color:  #0f398a;\n",
       "        }</style><table id=\"T_078a1_\" ><caption>%_Dom: The % most dominant element</caption><thead>    <tr>        <th class=\"blank level0\" ></th>        <th class=\"col_heading level0 col0\" >Attributes (3)</th>        <th class=\"col_heading level0 col1\" >dType</th>        <th class=\"col_heading level0 col2\" >%_Null</th>        <th class=\"col_heading level0 col3\" >%_Dom</th>        <th class=\"col_heading level0 col5\" >Count</th>        <th class=\"col_heading level0 col6\" >Unique</th>        <th class=\"col_heading level0 col7\" >Observations</th>    </tr></thead><tbody>\n",
       "                <tr>\n",
       "                        <th id=\"T_078a1_level0_row0\" class=\"row_heading level0 row0\" >0</th>\n",
       "                        <td id=\"T_078a1_row0_col0\" class=\"data row0 col0\" >date</td>\n",
       "                        <td id=\"T_078a1_row0_col1\" class=\"data row0 col1\" >object</td>\n",
       "                        <td id=\"T_078a1_row0_col2\" class=\"data row0 col2\" >0.0%</td>\n",
       "                        <td id=\"T_078a1_row0_col3\" class=\"data row0 col3\" >100.0%</td>\n",
       "                                <td id=\"T_078a1_row0_col5\" class=\"data row0 col5\" >1000</td>\n",
       "                        <td id=\"T_078a1_row0_col6\" class=\"data row0 col6\" >1</td>\n",
       "                        <td id=\"T_078a1_row0_col7\" class=\"data row0 col7\" >Sample: 2021-02-21</td>\n",
       "            </tr>\n",
       "            <tr>\n",
       "                        <th id=\"T_078a1_level0_row1\" class=\"row_heading level0 row1\" >1</th>\n",
       "                        <td id=\"T_078a1_row1_col0\" class=\"data row1 col0\" >flu_risk_score</td>\n",
       "                        <td id=\"T_078a1_row1_col1\" class=\"data row1 col1\" >float64</td>\n",
       "                        <td id=\"T_078a1_row1_col2\" class=\"data row1 col2\" >0.0%</td>\n",
       "                        <td id=\"T_078a1_row1_col3\" class=\"data row1 col3\" >0.6%</td>\n",
       "                                <td id=\"T_078a1_row1_col5\" class=\"data row1 col5\" >1000</td>\n",
       "                        <td id=\"T_078a1_row1_col6\" class=\"data row1 col6\" >599</td>\n",
       "                        <td id=\"T_078a1_row1_col7\" class=\"data row1 col7\" >max=0.994 | min=0.001 | mean=0.4 | dominant=[0.451, 0.509]</td>\n",
       "            </tr>\n",
       "            <tr>\n",
       "                        <th id=\"T_078a1_level0_row2\" class=\"row_heading level0 row2\" >2</th>\n",
       "                        <td id=\"T_078a1_row2_col0\" class=\"data row2 col0\" >member_id</td>\n",
       "                        <td id=\"T_078a1_row2_col1\" class=\"data row2 col1\" >int64</td>\n",
       "                        <td id=\"T_078a1_row2_col2\" class=\"data row2 col2\" >0.0%</td>\n",
       "                        <td id=\"T_078a1_row2_col3\" class=\"data row2 col3\" >0.1%</td>\n",
       "                                <td id=\"T_078a1_row2_col5\" class=\"data row2 col5\" >1000</td>\n",
       "                        <td id=\"T_078a1_row2_col6\" class=\"data row2 col6\" >1000</td>\n",
       "                        <td id=\"T_078a1_row2_col7\" class=\"data row2 col7\" >max=999585789 | min=100854999 | mean=556217335.54 | dominant=[100854999, 101322999]</td>\n",
       "            </tr>\n",
       "    </tbody></table>"
      ],
      "text/plain": [
       "<pandas.io.formats.style.Styler at 0x7ffa97acac10>"
      ]
     },
     "execution_count": 34,
     "metadata": {},
     "output_type": "execute_result"
    }
   ],
   "source": [
    "tr.canonical_report(tr.load_persist_canonical())"
   ]
  },
  {
   "cell_type": "code",
   "execution_count": null,
   "metadata": {},
   "outputs": [],
   "source": []
  },
  {
   "cell_type": "code",
   "execution_count": null,
   "metadata": {},
   "outputs": [],
   "source": []
  }
 ],
 "metadata": {
  "kernelspec": {
   "display_name": "Python 3",
   "language": "python",
   "name": "python3"
  },
  "language_info": {
   "codemirror_mode": {
    "name": "ipython",
    "version": 3
   },
   "file_extension": ".py",
   "mimetype": "text/x-python",
   "name": "python",
   "nbconvert_exporter": "python",
   "pygments_lexer": "ipython3",
   "version": "3.8.5"
  }
 },
 "nbformat": 4,
 "nbformat_minor": 4
}
