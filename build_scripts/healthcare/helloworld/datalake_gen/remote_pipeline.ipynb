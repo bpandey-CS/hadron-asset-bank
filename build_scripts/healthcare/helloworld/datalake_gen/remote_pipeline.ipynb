{
 "cells": [
  {
   "cell_type": "code",
   "execution_count": 12,
   "metadata": {},
   "outputs": [
    {
     "name": "stdout",
     "output_type": "stream",
     "text": [
      "Foundation: 2.11.029\n",
      "Transition: 3.02.018\n"
     ]
    }
   ],
   "source": [
    "%run remote_setup.ipynb"
   ]
  },
  {
   "cell_type": "markdown",
   "metadata": {},
   "source": [
    "----------------------\n",
    "## Controller\n",
    "----------------------"
   ]
  },
  {
   "cell_type": "markdown",
   "metadata": {},
   "source": [
    "### Factory Members"
   ]
  },
  {
   "cell_type": "code",
   "execution_count": 13,
   "metadata": {},
   "outputs": [],
   "source": [
    "factory_uri = \"https://raw.githubusercontent.com/project-hadron/hadron-asset-bank/master/contracts/healthcare/factory/members/\""
   ]
  },
  {
   "cell_type": "code",
   "execution_count": 14,
   "metadata": {},
   "outputs": [],
   "source": [
    "controller = Controller.from_env(uri_pm_repo=factory_uri)"
   ]
  },
  {
   "cell_type": "code",
   "execution_count": 15,
   "metadata": {},
   "outputs": [
    {
     "data": {
      "text/html": [
       "<style  type=\"text/css\" >\n",
       "    #T_2d368_ th {\n",
       "          font-size: 120%;\n",
       "          text-align: center;\n",
       "    }    #T_2d368_ .row_heading, .blank {\n",
       "          display: none;;\n",
       "    }#T_2d368_row0_col0,#T_2d368_row1_col0,#T_2d368_row2_col0,#T_2d368_row3_col0,#T_2d368_row4_col0,#T_2d368_row5_col0,#T_2d368_row6_col0{\n",
       "            text-align:  left;\n",
       "            font-weight:  bold;\n",
       "            font-size:  120%;\n",
       "        }#T_2d368_row0_col1,#T_2d368_row0_col2,#T_2d368_row0_col3,#T_2d368_row0_col4,#T_2d368_row0_col5,#T_2d368_row1_col1,#T_2d368_row1_col2,#T_2d368_row1_col3,#T_2d368_row1_col4,#T_2d368_row1_col5,#T_2d368_row2_col1,#T_2d368_row2_col2,#T_2d368_row2_col3,#T_2d368_row2_col4,#T_2d368_row2_col5,#T_2d368_row3_col1,#T_2d368_row3_col2,#T_2d368_row3_col3,#T_2d368_row3_col4,#T_2d368_row3_col5,#T_2d368_row4_col1,#T_2d368_row4_col2,#T_2d368_row4_col3,#T_2d368_row4_col4,#T_2d368_row4_col5,#T_2d368_row5_col1,#T_2d368_row5_col2,#T_2d368_row5_col3,#T_2d368_row5_col4,#T_2d368_row5_col5,#T_2d368_row6_col1,#T_2d368_row6_col2,#T_2d368_row6_col3,#T_2d368_row6_col4,#T_2d368_row6_col5{\n",
       "            text-align:  left;\n",
       "        }</style><table id=\"T_2d368_\" ><thead>    <tr>        <th class=\"blank level0\" ></th>        <th class=\"col_heading level0 col0\" >level</th>        <th class=\"col_heading level0 col1\" >order</th>        <th class=\"col_heading level0 col2\" >component</th>        <th class=\"col_heading level0 col3\" >task</th>        <th class=\"col_heading level0 col4\" >parameters</th>        <th class=\"col_heading level0 col5\" >creator</th>    </tr></thead><tbody>\n",
       "                <tr>\n",
       "                        <th id=\"T_2d368_level0_row0\" class=\"row_heading level0 row0\" >0</th>\n",
       "                        <td id=\"T_2d368_row0_col0\" class=\"data row0 col0\" >claims_members</td>\n",
       "                        <td id=\"T_2d368_row0_col1\" class=\"data row0 col1\" >0</td>\n",
       "                        <td id=\"T_2d368_row0_col2\" class=\"data row0 col2\" >transition</td>\n",
       "                        <td id=\"T_2d368_row0_col3\" class=\"data row0 col3\" >'ins_members'</td>\n",
       "                        <td id=\"T_2d368_row0_col4\" class=\"data row0 col4\" >[]</td>\n",
       "                        <td id=\"T_2d368_row0_col5\" class=\"data row0 col5\" >doatridge</td>\n",
       "            </tr>\n",
       "            <tr>\n",
       "                        <th id=\"T_2d368_level0_row1\" class=\"row_heading level0 row1\" >1</th>\n",
       "                        <td id=\"T_2d368_row1_col0\" class=\"data row1 col0\" >clinical_members</td>\n",
       "                        <td id=\"T_2d368_row1_col1\" class=\"data row1 col1\" >0</td>\n",
       "                        <td id=\"T_2d368_row1_col2\" class=\"data row1 col2\" >transition</td>\n",
       "                        <td id=\"T_2d368_row1_col3\" class=\"data row1 col3\" >'cln_members'</td>\n",
       "                        <td id=\"T_2d368_row1_col4\" class=\"data row1 col4\" >[]</td>\n",
       "                        <td id=\"T_2d368_row1_col5\" class=\"data row1 col5\" >doatridge</td>\n",
       "            </tr>\n",
       "            <tr>\n",
       "                        <th id=\"T_2d368_level0_row2\" class=\"row_heading level0 row2\" >2</th>\n",
       "                        <td id=\"T_2d368_row2_col0\" class=\"data row2 col0\" >members</td>\n",
       "                        <td id=\"T_2d368_row2_col1\" class=\"data row2 col1\" >0</td>\n",
       "                        <td id=\"T_2d368_row2_col2\" class=\"data row2 col2\" >transition</td>\n",
       "                        <td id=\"T_2d368_row2_col3\" class=\"data row2 col3\" >'members'</td>\n",
       "                        <td id=\"T_2d368_row2_col4\" class=\"data row2 col4\" >[]</td>\n",
       "                        <td id=\"T_2d368_row2_col5\" class=\"data row2 col5\" >doatridge</td>\n",
       "            </tr>\n",
       "            <tr>\n",
       "                        <th id=\"T_2d368_level0_row3\" class=\"row_heading level0 row3\" >3</th>\n",
       "                        <td id=\"T_2d368_row3_col0\" class=\"data row3 col0\" >members_gen</td>\n",
       "                        <td id=\"T_2d368_row3_col1\" class=\"data row3 col1\" >0</td>\n",
       "                        <td id=\"T_2d368_row3_col2\" class=\"data row3 col2\" >SyntheticBuilder</td>\n",
       "                        <td id=\"T_2d368_row3_col3\" class=\"data row3 col3\" >'members'</td>\n",
       "                        <td id=\"T_2d368_row3_col4\" class=\"data row3 col4\" >['size=100000']</td>\n",
       "                        <td id=\"T_2d368_row3_col5\" class=\"data row3 col5\" >doatridge</td>\n",
       "            </tr>\n",
       "            <tr>\n",
       "                        <th id=\"T_2d368_level0_row4\" class=\"row_heading level0 row4\" >4</th>\n",
       "                        <td id=\"T_2d368_row4_col0\" class=\"data row4 col0\" >practitioners</td>\n",
       "                        <td id=\"T_2d368_row4_col1\" class=\"data row4 col1\" >0</td>\n",
       "                        <td id=\"T_2d368_row4_col2\" class=\"data row4 col2\" >transition</td>\n",
       "                        <td id=\"T_2d368_row4_col3\" class=\"data row4 col3\" >'practitioners'</td>\n",
       "                        <td id=\"T_2d368_row4_col4\" class=\"data row4 col4\" >[]</td>\n",
       "                        <td id=\"T_2d368_row4_col5\" class=\"data row4 col5\" >doatridge</td>\n",
       "            </tr>\n",
       "            <tr>\n",
       "                        <th id=\"T_2d368_level0_row5\" class=\"row_heading level0 row5\" >5</th>\n",
       "                        <td id=\"T_2d368_row5_col0\" class=\"data row5 col0\" >practitioners_gen</td>\n",
       "                        <td id=\"T_2d368_row5_col1\" class=\"data row5 col1\" >0</td>\n",
       "                        <td id=\"T_2d368_row5_col2\" class=\"data row5 col2\" >SyntheticBuilder</td>\n",
       "                        <td id=\"T_2d368_row5_col3\" class=\"data row5 col3\" >'practitioners'</td>\n",
       "                        <td id=\"T_2d368_row5_col4\" class=\"data row5 col4\" >['size=0']</td>\n",
       "                        <td id=\"T_2d368_row5_col5\" class=\"data row5 col5\" >doatridge</td>\n",
       "            </tr>\n",
       "            <tr>\n",
       "                        <th id=\"T_2d368_level0_row6\" class=\"row_heading level0 row6\" >6</th>\n",
       "                        <td id=\"T_2d368_row6_col0\" class=\"data row6 col0\" >pref_members</td>\n",
       "                        <td id=\"T_2d368_row6_col1\" class=\"data row6 col1\" >0</td>\n",
       "                        <td id=\"T_2d368_row6_col2\" class=\"data row6 col2\" >transition</td>\n",
       "                        <td id=\"T_2d368_row6_col3\" class=\"data row6 col3\" >'prf_members'</td>\n",
       "                        <td id=\"T_2d368_row6_col4\" class=\"data row6 col4\" >[]</td>\n",
       "                        <td id=\"T_2d368_row6_col5\" class=\"data row6 col5\" >doatridge</td>\n",
       "            </tr>\n",
       "    </tbody></table>"
      ],
      "text/plain": [
       "<pandas.io.formats.style.Styler at 0x7ffd6774ec40>"
      ]
     },
     "execution_count": 15,
     "metadata": {},
     "output_type": "execute_result"
    }
   ],
   "source": [
    "controller.report_tasks()"
   ]
  },
  {
   "cell_type": "code",
   "execution_count": 16,
   "metadata": {},
   "outputs": [],
   "source": [
    "controller.run_controller()"
   ]
  },
  {
   "cell_type": "markdown",
   "metadata": {},
   "source": [
    "### Hello World Flu Shot"
   ]
  },
  {
   "cell_type": "code",
   "execution_count": 24,
   "metadata": {},
   "outputs": [],
   "source": [
    "flu_score_uri = \"https://raw.githubusercontent.com/project-hadron/hadron-asset-bank/master/contracts/healthcare/helloworld/flu_risk\""
   ]
  },
  {
   "cell_type": "code",
   "execution_count": 25,
   "metadata": {},
   "outputs": [],
   "source": [
    "controller = Controller.from_env(uri_pm_repo=flu_score_uri)"
   ]
  },
  {
   "cell_type": "code",
   "execution_count": 26,
   "metadata": {},
   "outputs": [
    {
     "data": {
      "text/html": [
       "<style  type=\"text/css\" >\n",
       "    #T_92c85_ th {\n",
       "          font-size: 120%;\n",
       "          text-align: center;\n",
       "    }    #T_92c85_ .row_heading, .blank {\n",
       "          display: none;;\n",
       "    }#T_92c85_row0_col0,#T_92c85_row1_col0,#T_92c85_row2_col0,#T_92c85_row3_col0,#T_92c85_row4_col0,#T_92c85_row5_col0,#T_92c85_row6_col0,#T_92c85_row7_col0,#T_92c85_row8_col0{\n",
       "            text-align:  left;\n",
       "            font-weight:  bold;\n",
       "            font-size:  120%;\n",
       "        }#T_92c85_row0_col1,#T_92c85_row0_col2,#T_92c85_row0_col3,#T_92c85_row0_col4,#T_92c85_row0_col5,#T_92c85_row1_col1,#T_92c85_row1_col2,#T_92c85_row1_col3,#T_92c85_row1_col4,#T_92c85_row1_col5,#T_92c85_row2_col1,#T_92c85_row2_col2,#T_92c85_row2_col3,#T_92c85_row2_col4,#T_92c85_row2_col5,#T_92c85_row3_col1,#T_92c85_row3_col2,#T_92c85_row3_col3,#T_92c85_row3_col4,#T_92c85_row3_col5,#T_92c85_row4_col1,#T_92c85_row4_col2,#T_92c85_row4_col3,#T_92c85_row4_col4,#T_92c85_row4_col5,#T_92c85_row5_col1,#T_92c85_row5_col2,#T_92c85_row5_col3,#T_92c85_row5_col4,#T_92c85_row5_col5,#T_92c85_row6_col1,#T_92c85_row6_col2,#T_92c85_row6_col3,#T_92c85_row6_col4,#T_92c85_row6_col5,#T_92c85_row7_col1,#T_92c85_row7_col2,#T_92c85_row7_col3,#T_92c85_row7_col4,#T_92c85_row7_col5,#T_92c85_row8_col1,#T_92c85_row8_col2,#T_92c85_row8_col3,#T_92c85_row8_col4,#T_92c85_row8_col5{\n",
       "            text-align:  left;\n",
       "        }</style><table id=\"T_92c85_\" ><thead>    <tr>        <th class=\"blank level0\" ></th>        <th class=\"col_heading level0 col0\" >level</th>        <th class=\"col_heading level0 col1\" >order</th>        <th class=\"col_heading level0 col2\" >component</th>        <th class=\"col_heading level0 col3\" >task</th>        <th class=\"col_heading level0 col4\" >parameters</th>        <th class=\"col_heading level0 col5\" >creator</th>    </tr></thead><tbody>\n",
       "                <tr>\n",
       "                        <th id=\"T_92c85_level0_row0\" class=\"row_heading level0 row0\" >0</th>\n",
       "                        <td id=\"T_92c85_row0_col0\" class=\"data row0 col0\" >claims_members</td>\n",
       "                        <td id=\"T_92c85_row0_col1\" class=\"data row0 col1\" >0</td>\n",
       "                        <td id=\"T_92c85_row0_col2\" class=\"data row0 col2\" >transition</td>\n",
       "                        <td id=\"T_92c85_row0_col3\" class=\"data row0 col3\" >'ins_members'</td>\n",
       "                        <td id=\"T_92c85_row0_col4\" class=\"data row0 col4\" >[]</td>\n",
       "                        <td id=\"T_92c85_row0_col5\" class=\"data row0 col5\" >doatridge</td>\n",
       "            </tr>\n",
       "            <tr>\n",
       "                        <th id=\"T_92c85_level0_row1\" class=\"row_heading level0 row1\" >1</th>\n",
       "                        <td id=\"T_92c85_row1_col0\" class=\"data row1 col0\" >clinical_members</td>\n",
       "                        <td id=\"T_92c85_row1_col1\" class=\"data row1 col1\" >0</td>\n",
       "                        <td id=\"T_92c85_row1_col2\" class=\"data row1 col2\" >transition</td>\n",
       "                        <td id=\"T_92c85_row1_col3\" class=\"data row1 col3\" >'cln_members'</td>\n",
       "                        <td id=\"T_92c85_row1_col4\" class=\"data row1 col4\" >[]</td>\n",
       "                        <td id=\"T_92c85_row1_col5\" class=\"data row1 col5\" >doatridge</td>\n",
       "            </tr>\n",
       "            <tr>\n",
       "                        <th id=\"T_92c85_level0_row2\" class=\"row_heading level0 row2\" >2</th>\n",
       "                        <td id=\"T_92c85_row2_col0\" class=\"data row2 col0\" >flu_risk</td>\n",
       "                        <td id=\"T_92c85_row2_col1\" class=\"data row2 col1\" >0</td>\n",
       "                        <td id=\"T_92c85_row2_col2\" class=\"data row2 col2\" >transition</td>\n",
       "                        <td id=\"T_92c85_row2_col3\" class=\"data row2 col3\" >'flu_risk'</td>\n",
       "                        <td id=\"T_92c85_row2_col4\" class=\"data row2 col4\" >[]</td>\n",
       "                        <td id=\"T_92c85_row2_col5\" class=\"data row2 col5\" >doatridge</td>\n",
       "            </tr>\n",
       "            <tr>\n",
       "                        <th id=\"T_92c85_level0_row3\" class=\"row_heading level0 row3\" >3</th>\n",
       "                        <td id=\"T_92c85_row3_col0\" class=\"data row3 col0\" >flu_risk_gen</td>\n",
       "                        <td id=\"T_92c85_row3_col1\" class=\"data row3 col1\" >0</td>\n",
       "                        <td id=\"T_92c85_row3_col2\" class=\"data row3 col2\" >SyntheticBuilder</td>\n",
       "                        <td id=\"T_92c85_row3_col3\" class=\"data row3 col3\" >'flu_risk'</td>\n",
       "                        <td id=\"T_92c85_row3_col4\" class=\"data row3 col4\" >['size=100000']</td>\n",
       "                        <td id=\"T_92c85_row3_col5\" class=\"data row3 col5\" >doatridge</td>\n",
       "            </tr>\n",
       "            <tr>\n",
       "                        <th id=\"T_92c85_level0_row4\" class=\"row_heading level0 row4\" >4</th>\n",
       "                        <td id=\"T_92c85_row4_col0\" class=\"data row4 col0\" >members</td>\n",
       "                        <td id=\"T_92c85_row4_col1\" class=\"data row4 col1\" >0</td>\n",
       "                        <td id=\"T_92c85_row4_col2\" class=\"data row4 col2\" >transition</td>\n",
       "                        <td id=\"T_92c85_row4_col3\" class=\"data row4 col3\" >'members'</td>\n",
       "                        <td id=\"T_92c85_row4_col4\" class=\"data row4 col4\" >[]</td>\n",
       "                        <td id=\"T_92c85_row4_col5\" class=\"data row4 col5\" >doatridge</td>\n",
       "            </tr>\n",
       "            <tr>\n",
       "                        <th id=\"T_92c85_level0_row5\" class=\"row_heading level0 row5\" >5</th>\n",
       "                        <td id=\"T_92c85_row5_col0\" class=\"data row5 col0\" >members_gen</td>\n",
       "                        <td id=\"T_92c85_row5_col1\" class=\"data row5 col1\" >0</td>\n",
       "                        <td id=\"T_92c85_row5_col2\" class=\"data row5 col2\" >SyntheticBuilder</td>\n",
       "                        <td id=\"T_92c85_row5_col3\" class=\"data row5 col3\" >'members'</td>\n",
       "                        <td id=\"T_92c85_row5_col4\" class=\"data row5 col4\" >['size=100000']</td>\n",
       "                        <td id=\"T_92c85_row5_col5\" class=\"data row5 col5\" >doatridge</td>\n",
       "            </tr>\n",
       "            <tr>\n",
       "                        <th id=\"T_92c85_level0_row6\" class=\"row_heading level0 row6\" >6</th>\n",
       "                        <td id=\"T_92c85_row6_col0\" class=\"data row6 col0\" >practitioners</td>\n",
       "                        <td id=\"T_92c85_row6_col1\" class=\"data row6 col1\" >0</td>\n",
       "                        <td id=\"T_92c85_row6_col2\" class=\"data row6 col2\" >transition</td>\n",
       "                        <td id=\"T_92c85_row6_col3\" class=\"data row6 col3\" >'practitioners'</td>\n",
       "                        <td id=\"T_92c85_row6_col4\" class=\"data row6 col4\" >[]</td>\n",
       "                        <td id=\"T_92c85_row6_col5\" class=\"data row6 col5\" >doatridge</td>\n",
       "            </tr>\n",
       "            <tr>\n",
       "                        <th id=\"T_92c85_level0_row7\" class=\"row_heading level0 row7\" >7</th>\n",
       "                        <td id=\"T_92c85_row7_col0\" class=\"data row7 col0\" >practitioners_gen</td>\n",
       "                        <td id=\"T_92c85_row7_col1\" class=\"data row7 col1\" >0</td>\n",
       "                        <td id=\"T_92c85_row7_col2\" class=\"data row7 col2\" >SyntheticBuilder</td>\n",
       "                        <td id=\"T_92c85_row7_col3\" class=\"data row7 col3\" >'practitioners'</td>\n",
       "                        <td id=\"T_92c85_row7_col4\" class=\"data row7 col4\" >['size=0']</td>\n",
       "                        <td id=\"T_92c85_row7_col5\" class=\"data row7 col5\" >doatridge</td>\n",
       "            </tr>\n",
       "            <tr>\n",
       "                        <th id=\"T_92c85_level0_row8\" class=\"row_heading level0 row8\" >8</th>\n",
       "                        <td id=\"T_92c85_row8_col0\" class=\"data row8 col0\" >pref_members</td>\n",
       "                        <td id=\"T_92c85_row8_col1\" class=\"data row8 col1\" >0</td>\n",
       "                        <td id=\"T_92c85_row8_col2\" class=\"data row8 col2\" >transition</td>\n",
       "                        <td id=\"T_92c85_row8_col3\" class=\"data row8 col3\" >'prf_members'</td>\n",
       "                        <td id=\"T_92c85_row8_col4\" class=\"data row8 col4\" >[]</td>\n",
       "                        <td id=\"T_92c85_row8_col5\" class=\"data row8 col5\" >doatridge</td>\n",
       "            </tr>\n",
       "    </tbody></table>"
      ],
      "text/plain": [
       "<pandas.io.formats.style.Styler at 0x7f7f357329a0>"
      ]
     },
     "execution_count": 26,
     "metadata": {},
     "output_type": "execute_result"
    }
   ],
   "source": [
    "controller.report_tasks()"
   ]
  },
  {
   "cell_type": "code",
   "execution_count": null,
   "metadata": {},
   "outputs": [],
   "source": []
  }
 ],
 "metadata": {
  "kernelspec": {
   "display_name": "Python 3",
   "language": "python",
   "name": "python3"
  },
  "language_info": {
   "codemirror_mode": {
    "name": "ipython",
    "version": 3
   },
   "file_extension": ".py",
   "mimetype": "text/x-python",
   "name": "python",
   "nbconvert_exporter": "python",
   "pygments_lexer": "ipython3",
   "version": "3.8.5"
  }
 },
 "nbformat": 4,
 "nbformat_minor": 4
}
