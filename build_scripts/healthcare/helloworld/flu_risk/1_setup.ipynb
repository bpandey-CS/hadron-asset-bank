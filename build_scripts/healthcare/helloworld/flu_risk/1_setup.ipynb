{
 "cells": [
  {
   "cell_type": "code",
   "execution_count": 1,
   "metadata": {},
   "outputs": [
    {
     "name": "stdout",
     "output_type": "stream",
     "text": [
      "Foundation: 2.11.018\n",
      "Transition: 3.01.007\n",
      "Engines   : 2.03.028\n"
     ]
    }
   ],
   "source": [
    "%run ../base_setup.ipynb"
   ]
  },
  {
   "cell_type": "code",
   "execution_count": 2,
   "metadata": {},
   "outputs": [],
   "source": [
    "# Build status\n",
    "has_contract = False\n",
    "default_save = True"
   ]
  },
  {
   "cell_type": "markdown",
   "metadata": {},
   "source": [
    "------------------\n",
    "-----------------\n",
    "# Flu Risk"
   ]
  },
  {
   "cell_type": "markdown",
   "metadata": {},
   "source": [
    "--------------------\n",
    "## Synthetic setup"
   ]
  },
  {
   "cell_type": "code",
   "execution_count": 3,
   "metadata": {},
   "outputs": [],
   "source": [
    "builder = SyntheticBuilder.from_env('flu_risk', default_save=default_save, has_contract=has_contract)\n",
    "builder.set_version(VERSION)\n",
    "builder.setup_bootstrap(domain=domain, project_name=project_name, path=None)"
   ]
  },
  {
   "cell_type": "markdown",
   "metadata": {
    "pycharm": {
     "name": "#%% md\n"
    }
   },
   "source": [
    "--------------------\n",
    "##  Transaction setup"
   ]
  },
  {
   "cell_type": "code",
   "execution_count": 4,
   "metadata": {},
   "outputs": [],
   "source": [
    "tr = Transition.from_env('flu_risk', default_save=default_save, has_contract=has_contract)\n",
    "tr.set_version(VERSION)\n",
    "tr.set_source_uri(uri=builder.get_persist_contract().raw_uri)\n",
    "tr.setup_bootstrap(domain=domain, project_name=project_name, path=None)\n",
    "tr.set_provenance(provider_name=\"Project Hadron\", author_name='doatridge', cost_price=\"$0.00\")"
   ]
  },
  {
   "cell_type": "markdown",
   "metadata": {},
   "source": [
    "------------------\n",
    "-----------------\n",
    "# Actionable Feedback"
   ]
  },
  {
   "cell_type": "markdown",
   "metadata": {},
   "source": [
    "--------------------\n",
    "## Synthetic setup"
   ]
  },
  {
   "cell_type": "code",
   "execution_count": 5,
   "metadata": {},
   "outputs": [],
   "source": [
    "builder = SyntheticBuilder.from_env('action_feedback', default_save=default_save, has_contract=has_contract)\n",
    "builder.set_version(VERSION)\n",
    "builder.setup_bootstrap(domain=domain, project_name=project_name, path=None)"
   ]
  },
  {
   "cell_type": "markdown",
   "metadata": {
    "pycharm": {
     "name": "#%% md\n"
    }
   },
   "source": [
    "--------------------\n",
    "##  Transaction setup"
   ]
  },
  {
   "cell_type": "code",
   "execution_count": 6,
   "metadata": {},
   "outputs": [],
   "source": [
    "tr = Transition.from_env('action_feedback', default_save=default_save, has_contract=has_contract)\n",
    "tr.set_version(VERSION)\n",
    "tr.set_source_uri(uri=builder.get_persist_contract().raw_uri)\n",
    "tr.setup_bootstrap(domain=domain, project_name=project_name, path=None)\n",
    "tr.set_provenance(provider_name=\"Project Hadron\", author_name='doatridge', cost_price=\"$0.00\")"
   ]
  },
  {
   "cell_type": "code",
   "execution_count": null,
   "metadata": {},
   "outputs": [],
   "source": []
  }
 ],
 "metadata": {
  "kernelspec": {
   "display_name": "Python 3",
   "language": "python",
   "name": "python3"
  },
  "language_info": {
   "codemirror_mode": {
    "name": "ipython",
    "version": 3
   },
   "file_extension": ".py",
   "mimetype": "text/x-python",
   "name": "python",
   "nbconvert_exporter": "python",
   "pygments_lexer": "ipython3",
   "version": "3.8.5"
  }
 },
 "nbformat": 4,
 "nbformat_minor": 4
}
