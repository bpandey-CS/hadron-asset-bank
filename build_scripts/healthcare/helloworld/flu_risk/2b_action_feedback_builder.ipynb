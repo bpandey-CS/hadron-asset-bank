{
 "cells": [
  {
   "cell_type": "code",
   "execution_count": 1,
   "metadata": {},
   "outputs": [
    {
     "name": "stdout",
     "output_type": "stream",
     "text": [
      "Foundation: 2.11.018\n",
      "Transition: 3.01.007\n",
      "Engines   : 2.03.028\n"
     ]
    }
   ],
   "source": [
    "%run ../base_setup.ipynb"
   ]
  },
  {
   "cell_type": "markdown",
   "metadata": {},
   "source": [
    "-------------------------\n",
    "## Build Intervention Feedback raw synthetic file"
   ]
  },
  {
   "cell_type": "code",
   "execution_count": 2,
   "metadata": {},
   "outputs": [],
   "source": [
    "builder = SyntheticBuilder.from_env('action_feedback')"
   ]
  },
  {
   "cell_type": "code",
   "execution_count": 3,
   "metadata": {},
   "outputs": [],
   "source": [
    "tools = builder.intent_model"
   ]
  },
  {
   "cell_type": "code",
   "execution_count": 4,
   "metadata": {},
   "outputs": [],
   "source": [
    "builder.pm.reset_intents()\n",
    "builder.pm_persist()"
   ]
  },
  {
   "cell_type": "markdown",
   "metadata": {},
   "source": [
    "--------------------------"
   ]
  },
  {
   "cell_type": "code",
   "execution_count": 5,
   "metadata": {},
   "outputs": [],
   "source": [
    "sample_size = 1000"
   ]
  },
  {
   "cell_type": "markdown",
   "metadata": {},
   "source": [
    "------------------------"
   ]
  },
  {
   "cell_type": "markdown",
   "metadata": {},
   "source": [
    "**get the data from the members dataset on s3**"
   ]
  },
  {
   "cell_type": "code",
   "execution_count": 6,
   "metadata": {},
   "outputs": [],
   "source": [
    "# Set up the members data\n",
    "factory_members = \"s3://project-hadron-cs-repo/factory/healthcare/members/factory_transition_members_dataset_v05.parquet\"\n",
    "builder.add_connector_uri(connector_name='members', uri=factory_members, profile_name='cogscaledev')"
   ]
  },
  {
   "cell_type": "code",
   "execution_count": 7,
   "metadata": {},
   "outputs": [],
   "source": [
    "# pass an empty dataframe  of sample_size\n",
    "df = tools.canonical2dict(method='@empty', size=sample_size)\n",
    "\n",
    "# Get the columns from the Members file\n",
    "df = builder.tools.model_concat(df, other='members', as_rows=False, headers=['member_id'], column_name='member_reference')\n",
    "builder.add_column_description(column_name='member_reference', description=\"member reference data taken from the members distribution\")"
   ]
  },
  {
   "cell_type": "markdown",
   "metadata": {},
   "source": [
    "--------------------------"
   ]
  },
  {
   "cell_type": "code",
   "execution_count": 8,
   "metadata": {},
   "outputs": [
    {
     "data": {
      "text/html": [
       "<style  type=\"text/css\" >\n",
       "    #T_d9cd1_ th {\n",
       "          font-size: 120%;\n",
       "          text-align: center;\n",
       "    }    #T_d9cd1_ .row_heading, .blank {\n",
       "          display: none;;\n",
       "    }#T_d9cd1_row0_col0{\n",
       "            font-weight:  bold;\n",
       "            font-size:  120%;\n",
       "        }#T_d9cd1_row0_col1{\n",
       "            color:  #0f398a;\n",
       "        }#T_d9cd1_row0_col2,#T_d9cd1_row0_col3,#T_d9cd1_row0_col6{\n",
       "            color:  black;\n",
       "        }#T_d9cd1_row0_col4{\n",
       "            background-color:  #ec382b;\n",
       "            color:  white;\n",
       "        }</style><table id=\"T_d9cd1_\" ><caption>%_Dom: The % most dominant element</caption><thead>    <tr>        <th class=\"blank level0\" ></th>        <th class=\"col_heading level0 col0\" >Attributes (1)</th>        <th class=\"col_heading level0 col1\" >dType</th>        <th class=\"col_heading level0 col2\" >%_Null</th>        <th class=\"col_heading level0 col3\" >%_Dom</th>        <th class=\"col_heading level0 col5\" >Count</th>        <th class=\"col_heading level0 col6\" >Unique</th>        <th class=\"col_heading level0 col7\" >Observations</th>    </tr></thead><tbody>\n",
       "                <tr>\n",
       "                        <th id=\"T_d9cd1_level0_row0\" class=\"row_heading level0 row0\" >0</th>\n",
       "                        <td id=\"T_d9cd1_row0_col0\" class=\"data row0 col0\" >member_id</td>\n",
       "                        <td id=\"T_d9cd1_row0_col1\" class=\"data row0 col1\" >int64</td>\n",
       "                        <td id=\"T_d9cd1_row0_col2\" class=\"data row0 col2\" >0.0%</td>\n",
       "                        <td id=\"T_d9cd1_row0_col3\" class=\"data row0 col3\" >0.1%</td>\n",
       "                                <td id=\"T_d9cd1_row0_col5\" class=\"data row0 col5\" >1000</td>\n",
       "                        <td id=\"T_d9cd1_row0_col6\" class=\"data row0 col6\" >1000</td>\n",
       "                        <td id=\"T_d9cd1_row0_col7\" class=\"data row0 col7\" >max=999180789 | min=100080999 | mean=552519344.42 | dominant=[100080999, 101849499]</td>\n",
       "            </tr>\n",
       "    </tbody></table>"
      ],
      "text/plain": [
       "<pandas.io.formats.style.Styler at 0x7fc546083400>"
      ]
     },
     "execution_count": 8,
     "metadata": {},
     "output_type": "execute_result"
    }
   ],
   "source": [
    "builder.canonical_report(df)"
   ]
  },
  {
   "cell_type": "markdown",
   "metadata": {},
   "source": [
    "--------------------------"
   ]
  },
  {
   "cell_type": "code",
   "execution_count": 9,
   "metadata": {},
   "outputs": [],
   "source": [
    "# feedback_id\n",
    "df['feedback_id'] = tools.get_datetime(start=0, until=1, at_most=1, date_format=\"%Y%m%d%H%S\", ordered='asc', size=sample_size, column_name='feedback_id')\n",
    "builder.add_column_description(column_name='feedback_id', description=\"a unique reference id from the feedback system unique across all feeback batches\")"
   ]
  },
  {
   "cell_type": "code",
   "execution_count": 10,
   "metadata": {},
   "outputs": [],
   "source": [
    "df['feedback_dt'] = tools.get_datetime(start=-18, until=-1, at_most=1, ordered=True, relative_freq=[1,4,8,3,4,6,1,0.5,0.1], size=sample_size, column_name='feedback_dt')\n",
    "builder.add_column_description(column_name='feedback_dt', description=\"a date time when the feedback was constructed\")"
   ]
  },
  {
   "cell_type": "markdown",
   "metadata": {},
   "source": [
    "------------------"
   ]
  },
  {
   "cell_type": "code",
   "execution_count": 11,
   "metadata": {},
   "outputs": [],
   "source": [
    "# reporting system\n",
    "df['reporting_system'] = tools.get_category(selection=['SydneyCare', 'RCP', 'Agent Assist', 'CCS', 'RCS Analytics', 'Google Analytics'], relative_freq=[5, 1, 1, 8], size=sample_size, column_name='reporting_system')\n",
    "builder.add_column_description(column_name='reporting_system', description=\"The name or reference of the system the feedback originated from\")"
   ]
  },
  {
   "cell_type": "code",
   "execution_count": 12,
   "metadata": {},
   "outputs": [],
   "source": [
    "# The reporting system codes\n",
    "selection = [builder.tools.select2dict(column='reporting_system', condition=\"@ == 'CCS'\")]\n",
    "\n",
    "action = builder.tools.action2dict(method='get_sample', sample_name='complaint')\n",
    "default = builder.tools.action2dict(method='get_string_pattern', pattern=\"lddd-dddd\", choice_only=False)\n",
    "\n",
    "df['reporting_code'] = builder.tools.correlate_selection(df, selection=selection, action=action, default_action=default, column_name='reporting_code', intent_order=0)\n",
    "builder.add_column_description(column_name='reporting_code', description=\"any reference code asocciated with the feedback response from that system\")"
   ]
  },
  {
   "cell_type": "markdown",
   "metadata": {},
   "source": [
    "------------------"
   ]
  },
  {
   "cell_type": "code",
   "execution_count": 13,
   "metadata": {},
   "outputs": [],
   "source": [
    "# intervention id\n",
    "df['actionable_id'] = tools.get_category(selection=['47613313', '61284651', '92188326'], relative_freq=[5,2,1], size=sample_size, column_name='actionable_id')\n",
    "builder.add_column_description(column_name='actionable_id', description=\"an intervention reference id to the intervation this feedback relates too\")"
   ]
  },
  {
   "cell_type": "markdown",
   "metadata": {},
   "source": [
    "------------------"
   ]
  },
  {
   "cell_type": "code",
   "execution_count": 14,
   "metadata": {},
   "outputs": [],
   "source": [
    "df['has_permission'] = tools.get_category(selection=[1, 0], relative_freq=[20,1], size=sample_size, column_name='has_permission')\n",
    "builder.add_column_description(column_name='has_permission', description=\"If the profile has their permissions set favourably for this intervention\")"
   ]
  },
  {
   "cell_type": "code",
   "execution_count": 15,
   "metadata": {},
   "outputs": [],
   "source": [
    "df['has_interacted'] = tools.get_category(selection=[1, 0], relative_freq=[40,1], size=sample_size, column_name='has_interacted')\n",
    "builder.add_column_description(column_name='has_interacted', description=\"If the member has interacted with the intervention, e.g. contacted, enacted upon an action or read a notification\")"
   ]
  },
  {
   "cell_type": "code",
   "execution_count": 16,
   "metadata": {},
   "outputs": [],
   "source": [
    "df['reason_msg_id'] = tools.get_number(from_value=101, to_value=121, relative_freq=[10,3,2,1,1,1,1,1], size=sample_size, column_name='reason_msg_id')\n",
    "builder.add_column_description(column_name='reason_msg_id', description=\"A reference id to a finite set of internal message responses groupings relating to the feedback\")"
   ]
  },
  {
   "cell_type": "markdown",
   "metadata": {},
   "source": [
    "----------------------"
   ]
  },
  {
   "cell_type": "code",
   "execution_count": 17,
   "metadata": {},
   "outputs": [],
   "source": [
    "# The date of the interaction\n",
    "selection = [builder.tools.select2dict(column='has_interacted', condition=\"@ == 1\")]\n",
    "\n",
    "action = builder.tools.action2dict(method='correlate_dates', header='feedback_dt', offset=-6, jitter=3, jitter_units='D', date_format=\"%Y-%m-%d %H:%M:%S\")\n",
    "default = builder.tools.action2dict(method='@constant', value='')\n",
    "\n",
    "df['has_interacted_dt'] = builder.tools.correlate_selection(df, selection=selection, action=action, default_action=default, column_name='has_interacted_dt', intent_order=0)\n",
    "builder.add_column_description(column_name='has_interacted_dt', description=\"a recorded date time when the recorded interaction occured\")"
   ]
  },
  {
   "cell_type": "markdown",
   "metadata": {},
   "source": [
    "----------------------"
   ]
  },
  {
   "cell_type": "code",
   "execution_count": 18,
   "metadata": {},
   "outputs": [],
   "source": [
    "# The response feedback to the intervention from the member\n",
    "selection = [builder.tools.select2dict(column='has_interacted', condition=\"@ == 1\")]\n",
    "\n",
    "\n",
    "action = builder.tools.action2dict(method='get_category', selection=['Positive', 'Negative', 'Neutral', 'No Response'], relative_freq=[5, 2, 10, 50])\n",
    "default = builder.tools.action2dict(method='@constant', value='NA')\n",
    "\n",
    "df['profile_feedback'] = builder.tools.correlate_selection(df, selection=selection, action=action, default_action=default, column_name='profile_feedback', intent_order=0)\n",
    "builder.add_column_description(column_name='profile_feedback', description=\"The feedback response to the intervention directly from the profile though the channel preference\")"
   ]
  },
  {
   "cell_type": "code",
   "execution_count": 19,
   "metadata": {},
   "outputs": [],
   "source": [
    "# A star rating of the member\n",
    "selection = [builder.tools.select2dict(column='has_interacted', condition=\"@ == 1\")]\n",
    "\n",
    "\n",
    "action = builder.tools.action2dict(method='get_category', selection=[1,2,3,4,5], relative_freq=[1,3,8,10,3])\n",
    "default = builder.tools.action2dict(method='@constant', value=0)\n",
    "\n",
    "df['profile_rating'] = builder.tools.correlate_selection(df, selection=selection, action=action, default_action=default, column_name='profile_rating', intent_order=0)\n",
    "builder.add_column_description(column_name='profile_rating', description=\"The feedback rating score provided at feedback time\")"
   ]
  },
  {
   "cell_type": "markdown",
   "metadata": {},
   "source": [
    "------------------\n",
    "### Inferred feedback"
   ]
  },
  {
   "cell_type": "code",
   "execution_count": 20,
   "metadata": {},
   "outputs": [],
   "source": [
    "# if has interacted then if there is an observed action\n",
    "selection = [builder.tools.select2dict(column='has_interacted', condition=\"@ == 1\")]\n",
    "\n",
    "action = builder.tools.action2dict(method='get_category', selection=[1, 0], relative_freq=[6, 4])\n",
    "\n",
    "df['observed_action'] = builder.tools.correlate_selection(df, selection=selection, action=action, default_action=0, column_name='observed_action', intent_order=0)\n",
    "builder.add_column_description(column_name='observed_action', description=\"An inferred action on the intervention from a transitive system e.g. claim made\")\n"
   ]
  },
  {
   "cell_type": "code",
   "execution_count": 21,
   "metadata": {},
   "outputs": [],
   "source": [
    "# which channel the observed action was on\n",
    "selection = [builder.tools.select2dict(column='observed_action', condition=\"@ == 1\")]\n",
    "\n",
    "action = builder.tools.action2dict(method='get_category', selection=['claims', 'gov', 'external'], relative_freq=[1, 0.1, 0.01])\n",
    "\n",
    "df['observed_channel'] = builder.tools.correlate_selection(df, selection=selection, action=action, default_action='', column_name='observed_channel', intent_order=0)\n",
    "builder.add_column_description(column_name='observed_channel', description=\"The channel from which the observation came\")"
   ]
  },
  {
   "cell_type": "code",
   "execution_count": 22,
   "metadata": {},
   "outputs": [],
   "source": [
    "# which channel the observed action was on\n",
    "selection = [builder.tools.select2dict(column='observed_action', condition=\"@ == 1\")]\n",
    "\n",
    "action = builder.tools.action2dict(method='correlate_dates', header='has_interacted_dt', offset=2, jitter=1, jitter_units='D', date_format=\"%Y-%m-%d %H:%M:%S\")\n",
    "\n",
    "df['observed_dt'] = builder.tools.correlate_selection(df, selection=selection, action=action, default_action='', column_name='observed_dt', intent_order=0)\n",
    "builder.add_column_description(column_name='observed_dt', description=\"The timestamp associated with the observed action\")\n"
   ]
  },
  {
   "cell_type": "markdown",
   "metadata": {},
   "source": [
    "device information - what was the member contact device (web, iphone, etc.)\n",
    "observed_action\n",
    "observed_channel\n",
    "observable_dt"
   ]
  },
  {
   "cell_type": "markdown",
   "metadata": {},
   "source": [
    "------------------"
   ]
  },
  {
   "cell_type": "code",
   "execution_count": 23,
   "metadata": {},
   "outputs": [],
   "source": [
    "builder.run_synthetic_pipeline(size=sample_size)"
   ]
  },
  {
   "cell_type": "code",
   "execution_count": 24,
   "metadata": {},
   "outputs": [
    {
     "data": {
      "text/html": [
       "<style  type=\"text/css\" >\n",
       "    #T_5b236_ th {\n",
       "          font-size: 120%;\n",
       "          text-align: center;\n",
       "    }    #T_5b236_ .row_heading, .blank {\n",
       "          display: none;;\n",
       "    }#T_5b236_row0_col0,#T_5b236_row1_col0,#T_5b236_row2_col0,#T_5b236_row3_col0,#T_5b236_row4_col0,#T_5b236_row5_col0,#T_5b236_row6_col0,#T_5b236_row7_col0,#T_5b236_row8_col0,#T_5b236_row9_col0,#T_5b236_row10_col0,#T_5b236_row11_col0,#T_5b236_row12_col0,#T_5b236_row13_col0,#T_5b236_row14_col0{\n",
       "            text-align:  left;\n",
       "            font-weight:  bold;\n",
       "        }#T_5b236_row0_col1,#T_5b236_row1_col1,#T_5b236_row2_col1,#T_5b236_row3_col1,#T_5b236_row4_col1,#T_5b236_row5_col1,#T_5b236_row6_col1,#T_5b236_row7_col1,#T_5b236_row8_col1,#T_5b236_row9_col1,#T_5b236_row10_col1,#T_5b236_row11_col1,#T_5b236_row12_col1,#T_5b236_row13_col1,#T_5b236_row14_col1{\n",
       "            text-align:  left;\n",
       "        }</style><table id=\"T_5b236_\" ><thead>    <tr>        <th class=\"blank level0\" ></th>        <th class=\"col_heading level0 col0\" >column_name</th>        <th class=\"col_heading level0 col1\" >description</th>    </tr></thead><tbody>\n",
       "                <tr>\n",
       "                        <th id=\"T_5b236_level0_row0\" class=\"row_heading level0 row0\" >0</th>\n",
       "                        <td id=\"T_5b236_row0_col0\" class=\"data row0 col0\" >actionable_id</td>\n",
       "                        <td id=\"T_5b236_row0_col1\" class=\"data row0 col1\" >an intervention reference id to the intervation this feedback relates too</td>\n",
       "            </tr>\n",
       "            <tr>\n",
       "                        <th id=\"T_5b236_level0_row1\" class=\"row_heading level0 row1\" >1</th>\n",
       "                        <td id=\"T_5b236_row1_col0\" class=\"data row1 col0\" >feedback_dt</td>\n",
       "                        <td id=\"T_5b236_row1_col1\" class=\"data row1 col1\" >a date time when the feedback was constructed</td>\n",
       "            </tr>\n",
       "            <tr>\n",
       "                        <th id=\"T_5b236_level0_row2\" class=\"row_heading level0 row2\" >2</th>\n",
       "                        <td id=\"T_5b236_row2_col0\" class=\"data row2 col0\" >feedback_id</td>\n",
       "                        <td id=\"T_5b236_row2_col1\" class=\"data row2 col1\" >a unique reference id from the feedback system unique across all feeback batches</td>\n",
       "            </tr>\n",
       "            <tr>\n",
       "                        <th id=\"T_5b236_level0_row3\" class=\"row_heading level0 row3\" >3</th>\n",
       "                        <td id=\"T_5b236_row3_col0\" class=\"data row3 col0\" >has_interacted</td>\n",
       "                        <td id=\"T_5b236_row3_col1\" class=\"data row3 col1\" >If the member has interacted with the intervention, e.g. contacted, enacted upon an action or read a notification</td>\n",
       "            </tr>\n",
       "            <tr>\n",
       "                        <th id=\"T_5b236_level0_row4\" class=\"row_heading level0 row4\" >4</th>\n",
       "                        <td id=\"T_5b236_row4_col0\" class=\"data row4 col0\" >has_interacted_dt</td>\n",
       "                        <td id=\"T_5b236_row4_col1\" class=\"data row4 col1\" >a recorded date time when the recorded interaction occured</td>\n",
       "            </tr>\n",
       "            <tr>\n",
       "                        <th id=\"T_5b236_level0_row5\" class=\"row_heading level0 row5\" >5</th>\n",
       "                        <td id=\"T_5b236_row5_col0\" class=\"data row5 col0\" >has_permission</td>\n",
       "                        <td id=\"T_5b236_row5_col1\" class=\"data row5 col1\" >If the profile has their permissions set favourably for this intervention</td>\n",
       "            </tr>\n",
       "            <tr>\n",
       "                        <th id=\"T_5b236_level0_row6\" class=\"row_heading level0 row6\" >6</th>\n",
       "                        <td id=\"T_5b236_row6_col0\" class=\"data row6 col0\" >member_reference</td>\n",
       "                        <td id=\"T_5b236_row6_col1\" class=\"data row6 col1\" >member reference data taken from the members distribution</td>\n",
       "            </tr>\n",
       "            <tr>\n",
       "                        <th id=\"T_5b236_level0_row7\" class=\"row_heading level0 row7\" >7</th>\n",
       "                        <td id=\"T_5b236_row7_col0\" class=\"data row7 col0\" >observed_action</td>\n",
       "                        <td id=\"T_5b236_row7_col1\" class=\"data row7 col1\" >An inferred action on the intervention from a transitive system e.g. claim made</td>\n",
       "            </tr>\n",
       "            <tr>\n",
       "                        <th id=\"T_5b236_level0_row8\" class=\"row_heading level0 row8\" >8</th>\n",
       "                        <td id=\"T_5b236_row8_col0\" class=\"data row8 col0\" >observed_channel</td>\n",
       "                        <td id=\"T_5b236_row8_col1\" class=\"data row8 col1\" >The channel from which the observation came</td>\n",
       "            </tr>\n",
       "            <tr>\n",
       "                        <th id=\"T_5b236_level0_row9\" class=\"row_heading level0 row9\" >9</th>\n",
       "                        <td id=\"T_5b236_row9_col0\" class=\"data row9 col0\" >observed_dt</td>\n",
       "                        <td id=\"T_5b236_row9_col1\" class=\"data row9 col1\" >The timestamp associated with the observed action</td>\n",
       "            </tr>\n",
       "            <tr>\n",
       "                        <th id=\"T_5b236_level0_row10\" class=\"row_heading level0 row10\" >10</th>\n",
       "                        <td id=\"T_5b236_row10_col0\" class=\"data row10 col0\" >profile_feedback</td>\n",
       "                        <td id=\"T_5b236_row10_col1\" class=\"data row10 col1\" >The feedback response to the intervention directly from the profile though the channel preference</td>\n",
       "            </tr>\n",
       "            <tr>\n",
       "                        <th id=\"T_5b236_level0_row11\" class=\"row_heading level0 row11\" >11</th>\n",
       "                        <td id=\"T_5b236_row11_col0\" class=\"data row11 col0\" >profile_rating</td>\n",
       "                        <td id=\"T_5b236_row11_col1\" class=\"data row11 col1\" >The feedback rating score provided at feedback time</td>\n",
       "            </tr>\n",
       "            <tr>\n",
       "                        <th id=\"T_5b236_level0_row12\" class=\"row_heading level0 row12\" >12</th>\n",
       "                        <td id=\"T_5b236_row12_col0\" class=\"data row12 col0\" >reason_msg_id</td>\n",
       "                        <td id=\"T_5b236_row12_col1\" class=\"data row12 col1\" >A reference id to a finite set of internal message responses groupings relating to the feedback</td>\n",
       "            </tr>\n",
       "            <tr>\n",
       "                        <th id=\"T_5b236_level0_row13\" class=\"row_heading level0 row13\" >13</th>\n",
       "                        <td id=\"T_5b236_row13_col0\" class=\"data row13 col0\" >reporting_code</td>\n",
       "                        <td id=\"T_5b236_row13_col1\" class=\"data row13 col1\" >any reference code asocciated with the feedback response from that system</td>\n",
       "            </tr>\n",
       "            <tr>\n",
       "                        <th id=\"T_5b236_level0_row14\" class=\"row_heading level0 row14\" >14</th>\n",
       "                        <td id=\"T_5b236_row14_col0\" class=\"data row14 col0\" >reporting_system</td>\n",
       "                        <td id=\"T_5b236_row14_col1\" class=\"data row14 col1\" >The name or reference of the system the feedback originated from</td>\n",
       "            </tr>\n",
       "    </tbody></table>"
      ],
      "text/plain": [
       "<pandas.io.formats.style.Styler at 0x7fc54a6ced90>"
      ]
     },
     "execution_count": 24,
     "metadata": {},
     "output_type": "execute_result"
    }
   ],
   "source": [
    "builder.report_column_catalog()"
   ]
  },
  {
   "cell_type": "markdown",
   "metadata": {},
   "source": [
    "-------------------------\n",
    "-------------------------\n",
    "## Intervention Feedback"
   ]
  },
  {
   "cell_type": "code",
   "execution_count": 25,
   "metadata": {},
   "outputs": [],
   "source": [
    "tr = Transition.from_env('action_feedback')"
   ]
  },
  {
   "cell_type": "code",
   "execution_count": 26,
   "metadata": {},
   "outputs": [],
   "source": [
    "tr.pm.reset_intents()\n",
    "tr.pm_persist()"
   ]
  },
  {
   "cell_type": "code",
   "execution_count": 27,
   "metadata": {},
   "outputs": [],
   "source": [
    "df = tr.load_source_canonical()"
   ]
  },
  {
   "cell_type": "code",
   "execution_count": 28,
   "metadata": {},
   "outputs": [],
   "source": [
    "df = tr.intent_model.auto_clean_header(df, rename_map={'member_id': 'profile_id'})\n",
    "df = tr.intent_model.auto_transition(df)\n",
    "df = tr.intent_model.to_remove(df, headers=['city', 'channel_pref'])"
   ]
  },
  {
   "cell_type": "code",
   "execution_count": 29,
   "metadata": {},
   "outputs": [],
   "source": [
    "tr.upload_attributes(builder.report_column_catalog(stylise=False), label_key='column_name', text_key='description', constraints=list(df.columns))"
   ]
  },
  {
   "cell_type": "markdown",
   "metadata": {},
   "source": [
    "## Run the Pipeline  save the Schema and show the Schema Report"
   ]
  },
  {
   "cell_type": "code",
   "execution_count": 30,
   "metadata": {},
   "outputs": [
    {
     "data": {
      "text/html": [
       "<style  type=\"text/css\" >\n",
       "    #T_120e2_ th {\n",
       "          font-size: 120%;\n",
       "          text-align: center;\n",
       "    }    #T_120e2_ .row_heading, .blank {\n",
       "          display: none;;\n",
       "    }#T_120e2_row0_col0,#T_120e2_row1_col0,#T_120e2_row2_col0,#T_120e2_row3_col0,#T_120e2_row4_col0,#T_120e2_row5_col0,#T_120e2_row6_col0,#T_120e2_row7_col0,#T_120e2_row8_col0,#T_120e2_row9_col0,#T_120e2_row10_col0,#T_120e2_row11_col0,#T_120e2_row12_col0,#T_120e2_row13_col0,#T_120e2_row14_col0{\n",
       "            font-weight:  bold;\n",
       "            font-size:  120%;\n",
       "        }#T_120e2_row0_col1,#T_120e2_row7_col1,#T_120e2_row9_col1,#T_120e2_row11_col1,#T_120e2_row12_col1,#T_120e2_row14_col1{\n",
       "            color:  #208a0f;\n",
       "        }#T_120e2_row0_col2,#T_120e2_row0_col3,#T_120e2_row0_col4,#T_120e2_row1_col2,#T_120e2_row1_col3,#T_120e2_row1_col6,#T_120e2_row2_col2,#T_120e2_row2_col3,#T_120e2_row2_col6,#T_120e2_row3_col2,#T_120e2_row4_col2,#T_120e2_row4_col3,#T_120e2_row4_col6,#T_120e2_row5_col2,#T_120e2_row6_col2,#T_120e2_row6_col3,#T_120e2_row6_col4,#T_120e2_row7_col2,#T_120e2_row7_col3,#T_120e2_row7_col4,#T_120e2_row8_col2,#T_120e2_row8_col3,#T_120e2_row8_col6,#T_120e2_row9_col2,#T_120e2_row10_col2,#T_120e2_row10_col3,#T_120e2_row10_col6,#T_120e2_row11_col2,#T_120e2_row11_col3,#T_120e2_row11_col4,#T_120e2_row12_col2,#T_120e2_row12_col3,#T_120e2_row12_col4,#T_120e2_row13_col2,#T_120e2_row13_col3,#T_120e2_row13_col6,#T_120e2_row14_col2,#T_120e2_row14_col3,#T_120e2_row14_col4{\n",
       "            color:  black;\n",
       "        }#T_120e2_row0_col6,#T_120e2_row7_col6{\n",
       "            background-color:  #84cc83;\n",
       "            color:  black;\n",
       "        }#T_120e2_row1_col1{\n",
       "            color:  #790f8a;\n",
       "        }#T_120e2_row1_col4,#T_120e2_row2_col4,#T_120e2_row4_col4,#T_120e2_row8_col4,#T_120e2_row10_col4,#T_120e2_row13_col4{\n",
       "            background-color:  #ec382b;\n",
       "            color:  white;\n",
       "        }#T_120e2_row2_col1,#T_120e2_row10_col1{\n",
       "            color:  #0f398a;\n",
       "        }#T_120e2_row3_col1,#T_120e2_row5_col1,#T_120e2_row6_col1{\n",
       "            color:  #08488e;\n",
       "        }#T_120e2_row3_col3,#T_120e2_row3_col4,#T_120e2_row5_col3,#T_120e2_row5_col4{\n",
       "            background-color:  #fc9576;\n",
       "            color:  black;\n",
       "        }#T_120e2_row3_col6,#T_120e2_row5_col6,#T_120e2_row6_col6{\n",
       "            background-color:  #a1cbe2;\n",
       "            color:  black;\n",
       "        }#T_120e2_row9_col3,#T_120e2_row9_col4{\n",
       "            background-color:  #ffede5;\n",
       "            color:  black;\n",
       "        }#T_120e2_row9_col6,#T_120e2_row11_col6,#T_120e2_row14_col6{\n",
       "            background-color:  #a4da9e;\n",
       "            color:  black;\n",
       "        }#T_120e2_row12_col6{\n",
       "            background-color:  #e5f5e0;\n",
       "            color:  black;\n",
       "        }</style><table id=\"T_120e2_\" ><caption>%_Dom: The % most dominant element</caption><thead>    <tr>        <th class=\"blank level0\" ></th>        <th class=\"col_heading level0 col0\" >Attributes (15)</th>        <th class=\"col_heading level0 col1\" >dType</th>        <th class=\"col_heading level0 col2\" >%_Null</th>        <th class=\"col_heading level0 col3\" >%_Dom</th>        <th class=\"col_heading level0 col5\" >Count</th>        <th class=\"col_heading level0 col6\" >Unique</th>        <th class=\"col_heading level0 col7\" >Observations</th>    </tr></thead><tbody>\n",
       "                <tr>\n",
       "                        <th id=\"T_120e2_level0_row0\" class=\"row_heading level0 row0\" >0</th>\n",
       "                        <td id=\"T_120e2_row0_col0\" class=\"data row0 col0\" >actionable_id</td>\n",
       "                        <td id=\"T_120e2_row0_col1\" class=\"data row0 col1\" >category</td>\n",
       "                        <td id=\"T_120e2_row0_col2\" class=\"data row0 col2\" >0.0%</td>\n",
       "                        <td id=\"T_120e2_row0_col3\" class=\"data row0 col3\" >62.2%</td>\n",
       "                                <td id=\"T_120e2_row0_col5\" class=\"data row0 col5\" >1000</td>\n",
       "                        <td id=\"T_120e2_row0_col6\" class=\"data row0 col6\" >3</td>\n",
       "                        <td id=\"T_120e2_row0_col7\" class=\"data row0 col7\" >Sample: 47613313 | 61284651 | 92188326</td>\n",
       "            </tr>\n",
       "            <tr>\n",
       "                        <th id=\"T_120e2_level0_row1\" class=\"row_heading level0 row1\" >1</th>\n",
       "                        <td id=\"T_120e2_row1_col0\" class=\"data row1 col0\" >feedback_dt</td>\n",
       "                        <td id=\"T_120e2_row1_col1\" class=\"data row1 col1\" >datetime64[ns]</td>\n",
       "                        <td id=\"T_120e2_row1_col2\" class=\"data row1 col2\" >0.0%</td>\n",
       "                        <td id=\"T_120e2_row1_col3\" class=\"data row1 col3\" >0.1%</td>\n",
       "                                <td id=\"T_120e2_row1_col5\" class=\"data row1 col5\" >1000</td>\n",
       "                        <td id=\"T_120e2_row1_col6\" class=\"data row1 col6\" >1000</td>\n",
       "                        <td id=\"T_120e2_row1_col7\" class=\"data row1 col7\" >max=2021-02-10 06:50:57.835914 | min=2021-01-24 22:24:17.835832 | yr mean= 2021</td>\n",
       "            </tr>\n",
       "            <tr>\n",
       "                        <th id=\"T_120e2_level0_row2\" class=\"row_heading level0 row2\" >2</th>\n",
       "                        <td id=\"T_120e2_row2_col0\" class=\"data row2 col0\" >feedback_id</td>\n",
       "                        <td id=\"T_120e2_row2_col1\" class=\"data row2 col1\" >int64</td>\n",
       "                        <td id=\"T_120e2_row2_col2\" class=\"data row2 col2\" >0.0%</td>\n",
       "                        <td id=\"T_120e2_row2_col3\" class=\"data row2 col3\" >0.4%</td>\n",
       "                                <td id=\"T_120e2_row2_col5\" class=\"data row2 col5\" >1000</td>\n",
       "                        <td id=\"T_120e2_row2_col6\" class=\"data row2 col6\" >530</td>\n",
       "                        <td id=\"T_120e2_row2_col7\" class=\"data row2 col7\" >max=202102122159 | min=202102112120 | mean=202102120373.64 | dominant=[202102120020, 202102120225]</td>\n",
       "            </tr>\n",
       "            <tr>\n",
       "                        <th id=\"T_120e2_level0_row3\" class=\"row_heading level0 row3\" >3</th>\n",
       "                        <td id=\"T_120e2_row3_col0\" class=\"data row3 col0\" >has_interacted</td>\n",
       "                        <td id=\"T_120e2_row3_col1\" class=\"data row3 col1\" >bool</td>\n",
       "                        <td id=\"T_120e2_row3_col2\" class=\"data row3 col2\" >0.0%</td>\n",
       "                        <td id=\"T_120e2_row3_col3\" class=\"data row3 col3\" >96.9%</td>\n",
       "                                <td id=\"T_120e2_row3_col5\" class=\"data row3 col5\" >1000</td>\n",
       "                        <td id=\"T_120e2_row3_col6\" class=\"data row3 col6\" >2</td>\n",
       "                        <td id=\"T_120e2_row3_col7\" class=\"data row3 col7\" >True | False</td>\n",
       "            </tr>\n",
       "            <tr>\n",
       "                        <th id=\"T_120e2_level0_row4\" class=\"row_heading level0 row4\" >4</th>\n",
       "                        <td id=\"T_120e2_row4_col0\" class=\"data row4 col0\" >has_interacted_dt</td>\n",
       "                        <td id=\"T_120e2_row4_col1\" class=\"data row4 col1\" >object</td>\n",
       "                        <td id=\"T_120e2_row4_col2\" class=\"data row4 col2\" >3.1%</td>\n",
       "                        <td id=\"T_120e2_row4_col3\" class=\"data row4 col3\" >3.1%</td>\n",
       "                                <td id=\"T_120e2_row4_col5\" class=\"data row4 col5\" >1000</td>\n",
       "                        <td id=\"T_120e2_row4_col6\" class=\"data row4 col6\" >969</td>\n",
       "                        <td id=\"T_120e2_row4_col7\" class=\"data row4 col7\" >Sample:  | 2021-01-21 15:17:37 | 2021-01-23 11:30:28 | 2021-01-24 13:48:47 | 2021-01-28 23:09:21</td>\n",
       "            </tr>\n",
       "            <tr>\n",
       "                        <th id=\"T_120e2_level0_row5\" class=\"row_heading level0 row5\" >5</th>\n",
       "                        <td id=\"T_120e2_row5_col0\" class=\"data row5 col0\" >has_permission</td>\n",
       "                        <td id=\"T_120e2_row5_col1\" class=\"data row5 col1\" >bool</td>\n",
       "                        <td id=\"T_120e2_row5_col2\" class=\"data row5 col2\" >0.0%</td>\n",
       "                        <td id=\"T_120e2_row5_col3\" class=\"data row5 col3\" >95.8%</td>\n",
       "                                <td id=\"T_120e2_row5_col5\" class=\"data row5 col5\" >1000</td>\n",
       "                        <td id=\"T_120e2_row5_col6\" class=\"data row5 col6\" >2</td>\n",
       "                        <td id=\"T_120e2_row5_col7\" class=\"data row5 col7\" >True | False</td>\n",
       "            </tr>\n",
       "            <tr>\n",
       "                        <th id=\"T_120e2_level0_row6\" class=\"row_heading level0 row6\" >6</th>\n",
       "                        <td id=\"T_120e2_row6_col0\" class=\"data row6 col0\" >observed_action</td>\n",
       "                        <td id=\"T_120e2_row6_col1\" class=\"data row6 col1\" >bool</td>\n",
       "                        <td id=\"T_120e2_row6_col2\" class=\"data row6 col2\" >0.0%</td>\n",
       "                        <td id=\"T_120e2_row6_col3\" class=\"data row6 col3\" >59.8%</td>\n",
       "                                <td id=\"T_120e2_row6_col5\" class=\"data row6 col5\" >1000</td>\n",
       "                        <td id=\"T_120e2_row6_col6\" class=\"data row6 col6\" >2</td>\n",
       "                        <td id=\"T_120e2_row6_col7\" class=\"data row6 col7\" >False | True</td>\n",
       "            </tr>\n",
       "            <tr>\n",
       "                        <th id=\"T_120e2_level0_row7\" class=\"row_heading level0 row7\" >7</th>\n",
       "                        <td id=\"T_120e2_row7_col0\" class=\"data row7 col0\" >observed_channel</td>\n",
       "                        <td id=\"T_120e2_row7_col1\" class=\"data row7 col1\" >category</td>\n",
       "                        <td id=\"T_120e2_row7_col2\" class=\"data row7 col2\" >0.0%</td>\n",
       "                        <td id=\"T_120e2_row7_col3\" class=\"data row7 col3\" >54.6%</td>\n",
       "                                <td id=\"T_120e2_row7_col5\" class=\"data row7 col5\" >1000</td>\n",
       "                        <td id=\"T_120e2_row7_col6\" class=\"data row7 col6\" >4</td>\n",
       "                        <td id=\"T_120e2_row7_col7\" class=\"data row7 col7\" >Sample: claims | nan | gov | external</td>\n",
       "            </tr>\n",
       "            <tr>\n",
       "                        <th id=\"T_120e2_level0_row8\" class=\"row_heading level0 row8\" >8</th>\n",
       "                        <td id=\"T_120e2_row8_col0\" class=\"data row8 col0\" >observed_dt</td>\n",
       "                        <td id=\"T_120e2_row8_col1\" class=\"data row8 col1\" >object</td>\n",
       "                        <td id=\"T_120e2_row8_col2\" class=\"data row8 col2\" >40.2%</td>\n",
       "                        <td id=\"T_120e2_row8_col3\" class=\"data row8 col3\" >40.2%</td>\n",
       "                                <td id=\"T_120e2_row8_col5\" class=\"data row8 col5\" >1000</td>\n",
       "                        <td id=\"T_120e2_row8_col6\" class=\"data row8 col6\" >599</td>\n",
       "                        <td id=\"T_120e2_row8_col7\" class=\"data row8 col7\" >Sample:  | 2021-01-27 01:44:38 | 2021-01-22 23:05:58 | 2021-01-29 10:13:42 | 2021-01-25 16:15:54</td>\n",
       "            </tr>\n",
       "            <tr>\n",
       "                        <th id=\"T_120e2_level0_row9\" class=\"row_heading level0 row9\" >9</th>\n",
       "                        <td id=\"T_120e2_row9_col0\" class=\"data row9 col0\" >profile_feedback</td>\n",
       "                        <td id=\"T_120e2_row9_col1\" class=\"data row9 col1\" >category</td>\n",
       "                        <td id=\"T_120e2_row9_col2\" class=\"data row9 col2\" >0.0%</td>\n",
       "                        <td id=\"T_120e2_row9_col3\" class=\"data row9 col3\" >72.5%</td>\n",
       "                                <td id=\"T_120e2_row9_col5\" class=\"data row9 col5\" >1000</td>\n",
       "                        <td id=\"T_120e2_row9_col6\" class=\"data row9 col6\" >5</td>\n",
       "                        <td id=\"T_120e2_row9_col7\" class=\"data row9 col7\" >Sample: No Response | Neutral | Positive | NA | Negative</td>\n",
       "            </tr>\n",
       "            <tr>\n",
       "                        <th id=\"T_120e2_level0_row10\" class=\"row_heading level0 row10\" >10</th>\n",
       "                        <td id=\"T_120e2_row10_col0\" class=\"data row10 col0\" >profile_id</td>\n",
       "                        <td id=\"T_120e2_row10_col1\" class=\"data row10 col1\" >int64</td>\n",
       "                        <td id=\"T_120e2_row10_col2\" class=\"data row10 col2\" >0.0%</td>\n",
       "                        <td id=\"T_120e2_row10_col3\" class=\"data row10 col3\" >0.1%</td>\n",
       "                                <td id=\"T_120e2_row10_col5\" class=\"data row10 col5\" >1000</td>\n",
       "                        <td id=\"T_120e2_row10_col6\" class=\"data row10 col6\" >1000</td>\n",
       "                        <td id=\"T_120e2_row10_col7\" class=\"data row10 col7\" >max=999180789 | min=100080999 | mean=552519344.42 | dominant=[100080999, 101849499]</td>\n",
       "            </tr>\n",
       "            <tr>\n",
       "                        <th id=\"T_120e2_level0_row11\" class=\"row_heading level0 row11\" >11</th>\n",
       "                        <td id=\"T_120e2_row11_col0\" class=\"data row11 col0\" >profile_rating</td>\n",
       "                        <td id=\"T_120e2_row11_col1\" class=\"data row11 col1\" >category</td>\n",
       "                        <td id=\"T_120e2_row11_col2\" class=\"data row11 col2\" >0.0%</td>\n",
       "                        <td id=\"T_120e2_row11_col3\" class=\"data row11 col3\" >39.9%</td>\n",
       "                                <td id=\"T_120e2_row11_col5\" class=\"data row11 col5\" >1000</td>\n",
       "                        <td id=\"T_120e2_row11_col6\" class=\"data row11 col6\" >6</td>\n",
       "                        <td id=\"T_120e2_row11_col7\" class=\"data row11 col7\" >Sample: 4 | 3 | 2 | 5 | 1</td>\n",
       "            </tr>\n",
       "            <tr>\n",
       "                        <th id=\"T_120e2_level0_row12\" class=\"row_heading level0 row12\" >12</th>\n",
       "                        <td id=\"T_120e2_row12_col0\" class=\"data row12 col0\" >reason_msg_id</td>\n",
       "                        <td id=\"T_120e2_row12_col1\" class=\"data row12 col1\" >category</td>\n",
       "                        <td id=\"T_120e2_row12_col2\" class=\"data row12 col2\" >0.0%</td>\n",
       "                        <td id=\"T_120e2_row12_col3\" class=\"data row12 col3\" >25.9%</td>\n",
       "                                <td id=\"T_120e2_row12_col5\" class=\"data row12 col5\" >1000</td>\n",
       "                        <td id=\"T_120e2_row12_col6\" class=\"data row12 col6\" >20</td>\n",
       "                        <td id=\"T_120e2_row12_col7\" class=\"data row12 col7\" >Sample: 101 | 102 | 103 | 105 | 104</td>\n",
       "            </tr>\n",
       "            <tr>\n",
       "                        <th id=\"T_120e2_level0_row13\" class=\"row_heading level0 row13\" >13</th>\n",
       "                        <td id=\"T_120e2_row13_col0\" class=\"data row13 col0\" >reporting_code</td>\n",
       "                        <td id=\"T_120e2_row13_col1\" class=\"data row13 col1\" >object</td>\n",
       "                        <td id=\"T_120e2_row13_col2\" class=\"data row13 col2\" >0.0%</td>\n",
       "                        <td id=\"T_120e2_row13_col3\" class=\"data row13 col3\" >0.6%</td>\n",
       "                                <td id=\"T_120e2_row13_col5\" class=\"data row13 col5\" >1000</td>\n",
       "                        <td id=\"T_120e2_row13_col6\" class=\"data row13 col6\" >953</td>\n",
       "                        <td id=\"T_120e2_row13_col7\" class=\"data row13 col7\" >Sample: You did not keep me updated | Standard letter inappropriate | your customer portal is unhelp...</td>\n",
       "            </tr>\n",
       "            <tr>\n",
       "                        <th id=\"T_120e2_level0_row14\" class=\"row_heading level0 row14\" >14</th>\n",
       "                        <td id=\"T_120e2_row14_col0\" class=\"data row14 col0\" >reporting_system</td>\n",
       "                        <td id=\"T_120e2_row14_col1\" class=\"data row14 col1\" >category</td>\n",
       "                        <td id=\"T_120e2_row14_col2\" class=\"data row14 col2\" >0.0%</td>\n",
       "                        <td id=\"T_120e2_row14_col3\" class=\"data row14 col3\" >34.4%</td>\n",
       "                                <td id=\"T_120e2_row14_col5\" class=\"data row14 col5\" >1000</td>\n",
       "                        <td id=\"T_120e2_row14_col6\" class=\"data row14 col6\" >6</td>\n",
       "                        <td id=\"T_120e2_row14_col7\" class=\"data row14 col7\" >Sample: SydneyCare | RCS Analytics | Google Analytics | CCS | RCP</td>\n",
       "            </tr>\n",
       "    </tbody></table>"
      ],
      "text/plain": [
       "<pandas.io.formats.style.Styler at 0x7fc54a6cebe0>"
      ]
     },
     "execution_count": 30,
     "metadata": {},
     "output_type": "execute_result"
    }
   ],
   "source": [
    "# run the pipeline\n",
    "tr.run_transition_pipeline()\n",
    "\n",
    "# report the canonical\n",
    "tr.canonical_report(df)"
   ]
  },
  {
   "cell_type": "code",
   "execution_count": 31,
   "metadata": {},
   "outputs": [
    {
     "data": {
      "text/html": [
       "<style  type=\"text/css\" >\n",
       "    #T_fc8ea_ th {\n",
       "          font-size: 120%;\n",
       "          text-align: center;\n",
       "    }    #T_fc8ea_ .row_heading, .blank {\n",
       "          display: none;;\n",
       "    }#T_fc8ea_row0_col0,#T_fc8ea_row1_col0,#T_fc8ea_row2_col0,#T_fc8ea_row3_col0,#T_fc8ea_row4_col0,#T_fc8ea_row5_col0,#T_fc8ea_row6_col0,#T_fc8ea_row7_col0,#T_fc8ea_row8_col0,#T_fc8ea_row9_col0,#T_fc8ea_row10_col0,#T_fc8ea_row11_col0,#T_fc8ea_row12_col0,#T_fc8ea_row13_col0,#T_fc8ea_row14_col0{\n",
       "            font-weight:  bold;\n",
       "            font-size:  120%;\n",
       "        }#T_fc8ea_row0_col1,#T_fc8ea_row7_col1,#T_fc8ea_row9_col1,#T_fc8ea_row11_col1,#T_fc8ea_row12_col1,#T_fc8ea_row14_col1{\n",
       "            color:  #208a0f;\n",
       "        }#T_fc8ea_row0_col2,#T_fc8ea_row1_col2,#T_fc8ea_row2_col2,#T_fc8ea_row3_col2,#T_fc8ea_row4_col2,#T_fc8ea_row5_col2,#T_fc8ea_row6_col2,#T_fc8ea_row7_col2,#T_fc8ea_row8_col2,#T_fc8ea_row9_col2,#T_fc8ea_row10_col2,#T_fc8ea_row11_col2,#T_fc8ea_row12_col2,#T_fc8ea_row13_col2,#T_fc8ea_row14_col2{\n",
       "            text-align:  left;\n",
       "        }#T_fc8ea_row1_col1{\n",
       "            color:  #790f8a;\n",
       "        }#T_fc8ea_row2_col1,#T_fc8ea_row10_col1{\n",
       "            color:  #0f398a;\n",
       "        }#T_fc8ea_row3_col1,#T_fc8ea_row5_col1,#T_fc8ea_row6_col1{\n",
       "            color:  #08488e;\n",
       "        }</style><table id=\"T_fc8ea_\" ><thead>    <tr>        <th class=\"blank level0\" ></th>        <th class=\"col_heading level0 col0\" >Attributes (15)</th>        <th class=\"col_heading level0 col1\" >dType</th>        <th class=\"col_heading level0 col2\" >Description</th>    </tr></thead><tbody>\n",
       "                <tr>\n",
       "                        <th id=\"T_fc8ea_level0_row0\" class=\"row_heading level0 row0\" >0</th>\n",
       "                        <td id=\"T_fc8ea_row0_col0\" class=\"data row0 col0\" >actionable_id</td>\n",
       "                        <td id=\"T_fc8ea_row0_col1\" class=\"data row0 col1\" >category</td>\n",
       "                        <td id=\"T_fc8ea_row0_col2\" class=\"data row0 col2\" >an intervention reference id to the intervation this feedback relates too</td>\n",
       "            </tr>\n",
       "            <tr>\n",
       "                        <th id=\"T_fc8ea_level0_row1\" class=\"row_heading level0 row1\" >1</th>\n",
       "                        <td id=\"T_fc8ea_row1_col0\" class=\"data row1 col0\" >feedback_dt</td>\n",
       "                        <td id=\"T_fc8ea_row1_col1\" class=\"data row1 col1\" >datetime64[ns]</td>\n",
       "                        <td id=\"T_fc8ea_row1_col2\" class=\"data row1 col2\" >a date time when the feedback was constructed</td>\n",
       "            </tr>\n",
       "            <tr>\n",
       "                        <th id=\"T_fc8ea_level0_row2\" class=\"row_heading level0 row2\" >2</th>\n",
       "                        <td id=\"T_fc8ea_row2_col0\" class=\"data row2 col0\" >feedback_id</td>\n",
       "                        <td id=\"T_fc8ea_row2_col1\" class=\"data row2 col1\" >int64</td>\n",
       "                        <td id=\"T_fc8ea_row2_col2\" class=\"data row2 col2\" >a unique reference id from the feedback system unique across all feeback batches</td>\n",
       "            </tr>\n",
       "            <tr>\n",
       "                        <th id=\"T_fc8ea_level0_row3\" class=\"row_heading level0 row3\" >3</th>\n",
       "                        <td id=\"T_fc8ea_row3_col0\" class=\"data row3 col0\" >has_interacted</td>\n",
       "                        <td id=\"T_fc8ea_row3_col1\" class=\"data row3 col1\" >bool</td>\n",
       "                        <td id=\"T_fc8ea_row3_col2\" class=\"data row3 col2\" >If the member has interacted with the intervention, e.g. contacted, enacted upon an action or read a notification</td>\n",
       "            </tr>\n",
       "            <tr>\n",
       "                        <th id=\"T_fc8ea_level0_row4\" class=\"row_heading level0 row4\" >4</th>\n",
       "                        <td id=\"T_fc8ea_row4_col0\" class=\"data row4 col0\" >has_interacted_dt</td>\n",
       "                        <td id=\"T_fc8ea_row4_col1\" class=\"data row4 col1\" >object</td>\n",
       "                        <td id=\"T_fc8ea_row4_col2\" class=\"data row4 col2\" >a recorded date time when the recorded interaction occured</td>\n",
       "            </tr>\n",
       "            <tr>\n",
       "                        <th id=\"T_fc8ea_level0_row5\" class=\"row_heading level0 row5\" >5</th>\n",
       "                        <td id=\"T_fc8ea_row5_col0\" class=\"data row5 col0\" >has_permission</td>\n",
       "                        <td id=\"T_fc8ea_row5_col1\" class=\"data row5 col1\" >bool</td>\n",
       "                        <td id=\"T_fc8ea_row5_col2\" class=\"data row5 col2\" >If the profile has their permissions set favourably for this intervention</td>\n",
       "            </tr>\n",
       "            <tr>\n",
       "                        <th id=\"T_fc8ea_level0_row6\" class=\"row_heading level0 row6\" >6</th>\n",
       "                        <td id=\"T_fc8ea_row6_col0\" class=\"data row6 col0\" >observed_action</td>\n",
       "                        <td id=\"T_fc8ea_row6_col1\" class=\"data row6 col1\" >bool</td>\n",
       "                        <td id=\"T_fc8ea_row6_col2\" class=\"data row6 col2\" >An inferred action on the intervention from a transitive system e.g. claim made</td>\n",
       "            </tr>\n",
       "            <tr>\n",
       "                        <th id=\"T_fc8ea_level0_row7\" class=\"row_heading level0 row7\" >7</th>\n",
       "                        <td id=\"T_fc8ea_row7_col0\" class=\"data row7 col0\" >observed_channel</td>\n",
       "                        <td id=\"T_fc8ea_row7_col1\" class=\"data row7 col1\" >category</td>\n",
       "                        <td id=\"T_fc8ea_row7_col2\" class=\"data row7 col2\" >The channel from which the observation came</td>\n",
       "            </tr>\n",
       "            <tr>\n",
       "                        <th id=\"T_fc8ea_level0_row8\" class=\"row_heading level0 row8\" >8</th>\n",
       "                        <td id=\"T_fc8ea_row8_col0\" class=\"data row8 col0\" >observed_dt</td>\n",
       "                        <td id=\"T_fc8ea_row8_col1\" class=\"data row8 col1\" >object</td>\n",
       "                        <td id=\"T_fc8ea_row8_col2\" class=\"data row8 col2\" >The timestamp associated with the observed action</td>\n",
       "            </tr>\n",
       "            <tr>\n",
       "                        <th id=\"T_fc8ea_level0_row9\" class=\"row_heading level0 row9\" >9</th>\n",
       "                        <td id=\"T_fc8ea_row9_col0\" class=\"data row9 col0\" >profile_feedback</td>\n",
       "                        <td id=\"T_fc8ea_row9_col1\" class=\"data row9 col1\" >category</td>\n",
       "                        <td id=\"T_fc8ea_row9_col2\" class=\"data row9 col2\" >The feedback response to the intervention directly from the profile though the channel preference</td>\n",
       "            </tr>\n",
       "            <tr>\n",
       "                        <th id=\"T_fc8ea_level0_row10\" class=\"row_heading level0 row10\" >10</th>\n",
       "                        <td id=\"T_fc8ea_row10_col0\" class=\"data row10 col0\" >profile_id</td>\n",
       "                        <td id=\"T_fc8ea_row10_col1\" class=\"data row10 col1\" >int64</td>\n",
       "                        <td id=\"T_fc8ea_row10_col2\" class=\"data row10 col2\" ></td>\n",
       "            </tr>\n",
       "            <tr>\n",
       "                        <th id=\"T_fc8ea_level0_row11\" class=\"row_heading level0 row11\" >11</th>\n",
       "                        <td id=\"T_fc8ea_row11_col0\" class=\"data row11 col0\" >profile_rating</td>\n",
       "                        <td id=\"T_fc8ea_row11_col1\" class=\"data row11 col1\" >category</td>\n",
       "                        <td id=\"T_fc8ea_row11_col2\" class=\"data row11 col2\" >The feedback rating score provided at feedback time</td>\n",
       "            </tr>\n",
       "            <tr>\n",
       "                        <th id=\"T_fc8ea_level0_row12\" class=\"row_heading level0 row12\" >12</th>\n",
       "                        <td id=\"T_fc8ea_row12_col0\" class=\"data row12 col0\" >reason_msg_id</td>\n",
       "                        <td id=\"T_fc8ea_row12_col1\" class=\"data row12 col1\" >category</td>\n",
       "                        <td id=\"T_fc8ea_row12_col2\" class=\"data row12 col2\" >A reference id to a finite set of internal message responses groupings relating to the feedback</td>\n",
       "            </tr>\n",
       "            <tr>\n",
       "                        <th id=\"T_fc8ea_level0_row13\" class=\"row_heading level0 row13\" >13</th>\n",
       "                        <td id=\"T_fc8ea_row13_col0\" class=\"data row13 col0\" >reporting_code</td>\n",
       "                        <td id=\"T_fc8ea_row13_col1\" class=\"data row13 col1\" >object</td>\n",
       "                        <td id=\"T_fc8ea_row13_col2\" class=\"data row13 col2\" >any reference code asocciated with the feedback response from that system</td>\n",
       "            </tr>\n",
       "            <tr>\n",
       "                        <th id=\"T_fc8ea_level0_row14\" class=\"row_heading level0 row14\" >14</th>\n",
       "                        <td id=\"T_fc8ea_row14_col0\" class=\"data row14 col0\" >reporting_system</td>\n",
       "                        <td id=\"T_fc8ea_row14_col1\" class=\"data row14 col1\" >category</td>\n",
       "                        <td id=\"T_fc8ea_row14_col2\" class=\"data row14 col2\" >The name or reference of the system the feedback originated from</td>\n",
       "            </tr>\n",
       "    </tbody></table>"
      ],
      "text/plain": [
       "<pandas.io.formats.style.Styler at 0x7fc54a6baee0>"
      ]
     },
     "execution_count": 31,
     "metadata": {},
     "output_type": "execute_result"
    }
   ],
   "source": [
    "tr.report_attributes(df)"
   ]
  },
  {
   "cell_type": "code",
   "execution_count": null,
   "metadata": {},
   "outputs": [],
   "source": []
  }
 ],
 "metadata": {
  "kernelspec": {
   "display_name": "Python 3",
   "language": "python",
   "name": "python3"
  },
  "language_info": {
   "codemirror_mode": {
    "name": "ipython",
    "version": 3
   },
   "file_extension": ".py",
   "mimetype": "text/x-python",
   "name": "python",
   "nbconvert_exporter": "python",
   "pygments_lexer": "ipython3",
   "version": "3.8.5"
  }
 },
 "nbformat": 4,
 "nbformat_minor": 4
}
