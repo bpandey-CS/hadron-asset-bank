{
 "cells": [
  {
   "cell_type": "code",
   "execution_count": 8,
   "metadata": {},
   "outputs": [
    {
     "name": "stdout",
     "output_type": "stream",
     "text": [
      "Foundation: 2.11.030\n",
      "Transition: 3.02.029\n"
     ]
    }
   ],
   "source": [
    "%run task_setup.ipynb"
   ]
  },
  {
   "cell_type": "code",
   "execution_count": 9,
   "metadata": {},
   "outputs": [],
   "source": [
    "# Build status\n",
    "has_contract = False\n",
    "default_save = True"
   ]
  },
  {
   "cell_type": "markdown",
   "metadata": {},
   "source": [
    "------------------\n",
    "-----------------\n",
    "# Domain Contract Initialisation"
   ]
  },
  {
   "cell_type": "markdown",
   "metadata": {
    "pycharm": {
     "name": "#%% md\n"
    }
   },
   "source": [
    "--------------------\n",
    "##  Transaction setup"
   ]
  },
  {
   "cell_type": "code",
   "execution_count": 10,
   "metadata": {},
   "outputs": [],
   "source": [
    "for task in ['members', 'cln_members', 'ins_members', 'prf_members', 'flu_risk']:\n",
    "    project = 'datalake_gen' if task == 'flu_risk' else 'factory'\n",
    "    version = 'v06' if task == 'flu_risk' else 'v05'\n",
    "    # setup the source inputs\n",
    "    tr = Transition.from_env(task, default_save=default_save, has_contract=has_contract)\n",
    "    tr.set_version(VERSION)\n",
    "    tr.set_source_uri(uri=f\"s3://project-hadron-cs-repo/domain/helloworld/data/datalake_sim/members/{project}_transition_{task}_dataset_{version}.parquet\")\n",
    "    tr.setup_bootstrap(domain=domain, project_name=project_name, path=None)\n",
    "    tr.set_provenance(provider_name=\"System of Records\")"
   ]
  },
  {
   "cell_type": "markdown",
   "metadata": {
    "pycharm": {
     "name": "#%% md\n"
    }
   },
   "source": [
    "--------------------\n",
    "##  Wrangle setup"
   ]
  },
  {
   "cell_type": "code",
   "execution_count": 11,
   "metadata": {},
   "outputs": [],
   "source": [
    "wr = Wrangle.from_env('profile', default_save=default_save, has_contract=has_contract)"
   ]
  },
  {
   "cell_type": "code",
   "execution_count": 12,
   "metadata": {},
   "outputs": [],
   "source": [
    "wr.set_version(VERSION)\n",
    "wr.setup_bootstrap(domain=domain, project_name=project_name, path=None)\n",
    "# set the source as the members dataset\n",
    "wr.set_source_uri(uri=Transition.from_env('members').get_persist_contract().raw_uri, template_aligned=True)\n",
    "\n",
    "# set the other connector \n",
    "for task in ['cln_members', 'ins_members', 'prf_members', 'flu_risk']:\n",
    "    wr.add_connector_uri(connector_name=task, uri=Transition.from_env(task).get_persist_contract().raw_uri, template_aligned=True)\n"
   ]
  },
  {
   "cell_type": "markdown",
   "metadata": {
    "pycharm": {
     "name": "#%% md\n"
    }
   },
   "source": [
    "--------------------\n",
    "##  Transaction setup"
   ]
  },
  {
   "cell_type": "code",
   "execution_count": 13,
   "metadata": {},
   "outputs": [],
   "source": [
    "tr = Transition.from_env('profile', default_save=default_save, has_contract=has_contract)"
   ]
  },
  {
   "cell_type": "code",
   "execution_count": 14,
   "metadata": {},
   "outputs": [],
   "source": [
    "tr.set_version(VERSION)\n",
    "tr.setup_bootstrap(domain=domain, project_name=project_name, path=None)\n",
    "tr.set_provenance(provider_name=\"Profile AI\", author_name='doatridge')\n",
    "tr.set_source_uri(uri=wr.from_env('profile').get_persist_contract().raw_uri, template_aligned=True)\n"
   ]
  },
  {
   "cell_type": "code",
   "execution_count": null,
   "metadata": {},
   "outputs": [],
   "source": []
  }
 ],
 "metadata": {
  "kernelspec": {
   "display_name": "Python 3",
   "language": "python",
   "name": "python3"
  },
  "language_info": {
   "codemirror_mode": {
    "name": "ipython",
    "version": 3
   },
   "file_extension": ".py",
   "mimetype": "text/x-python",
   "name": "python",
   "nbconvert_exporter": "python",
   "pygments_lexer": "ipython3",
   "version": "3.8.5"
  }
 },
 "nbformat": 4,
 "nbformat_minor": 4
}
