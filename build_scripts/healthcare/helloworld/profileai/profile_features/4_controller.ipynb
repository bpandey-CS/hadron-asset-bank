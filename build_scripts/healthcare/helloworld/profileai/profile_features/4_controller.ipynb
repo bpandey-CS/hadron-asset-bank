{
 "cells": [
  {
   "cell_type": "code",
   "execution_count": 10,
   "metadata": {},
   "outputs": [
    {
     "name": "stdout",
     "output_type": "stream",
     "text": [
      "Foundation: 2.11.030\n",
      "Transition: 3.02.029\n"
     ]
    }
   ],
   "source": [
    "%run task_setup.ipynb"
   ]
  },
  {
   "cell_type": "markdown",
   "metadata": {},
   "source": [
    "----------------------\n",
    "## Controller\n",
    "----------------------"
   ]
  },
  {
   "cell_type": "code",
   "execution_count": 11,
   "metadata": {},
   "outputs": [],
   "source": [
    "controller = Controller.from_env(has_contract=False, default_save=True)"
   ]
  },
  {
   "cell_type": "code",
   "execution_count": 12,
   "metadata": {},
   "outputs": [],
   "source": [
    "controller.set_version(VERSION)"
   ]
  },
  {
   "cell_type": "code",
   "execution_count": 13,
   "metadata": {},
   "outputs": [],
   "source": [
    "controller.pm_persist()"
   ]
  },
  {
   "cell_type": "markdown",
   "metadata": {},
   "source": [
    "--------------------------\n",
    "### Transition In"
   ]
  },
  {
   "cell_type": "code",
   "execution_count": 14,
   "metadata": {},
   "outputs": [],
   "source": [
    "for task in ['members', 'cln_members', 'ins_members', 'prf_members', 'flu_risk']:\n",
    "    controller.intent_model.transition(canonical=pd.DataFrame(), task_name=task, intent_level=f'{task}_transition')"
   ]
  },
  {
   "cell_type": "markdown",
   "metadata": {},
   "source": [
    "--------------------------\n",
    "### Wrangle"
   ]
  },
  {
   "cell_type": "code",
   "execution_count": 15,
   "metadata": {},
   "outputs": [],
   "source": [
    "controller.intent_model.wrangle(canonical=pd.DataFrame(), task_name='profile', intent_level='profile_wrangle')"
   ]
  },
  {
   "cell_type": "markdown",
   "metadata": {},
   "source": [
    "--------------------------\n",
    "### Transition Out"
   ]
  },
  {
   "cell_type": "code",
   "execution_count": 16,
   "metadata": {},
   "outputs": [],
   "source": [
    "controller.intent_model.transition(canonical=pd.DataFrame(), task_name='profile', intent_level='profile_transition')"
   ]
  },
  {
   "cell_type": "markdown",
   "metadata": {},
   "source": [
    "--------------------------\n",
    "### Report"
   ]
  },
  {
   "cell_type": "code",
   "execution_count": 17,
   "metadata": {},
   "outputs": [
    {
     "data": {
      "text/html": [
       "<style  type=\"text/css\" >\n",
       "    #T_86ad3_ th {\n",
       "          font-size: 120%;\n",
       "          text-align: center;\n",
       "    }    #T_86ad3_ .row_heading, .blank {\n",
       "          display: none;;\n",
       "    }#T_86ad3_row0_col0,#T_86ad3_row1_col0,#T_86ad3_row2_col0,#T_86ad3_row3_col0,#T_86ad3_row4_col0,#T_86ad3_row5_col0,#T_86ad3_row6_col0{\n",
       "            text-align:  left;\n",
       "            font-weight:  bold;\n",
       "            font-size:  120%;\n",
       "        }#T_86ad3_row0_col1,#T_86ad3_row0_col2,#T_86ad3_row0_col3,#T_86ad3_row0_col4,#T_86ad3_row0_col5,#T_86ad3_row1_col1,#T_86ad3_row1_col2,#T_86ad3_row1_col3,#T_86ad3_row1_col4,#T_86ad3_row1_col5,#T_86ad3_row2_col1,#T_86ad3_row2_col2,#T_86ad3_row2_col3,#T_86ad3_row2_col4,#T_86ad3_row2_col5,#T_86ad3_row3_col1,#T_86ad3_row3_col2,#T_86ad3_row3_col3,#T_86ad3_row3_col4,#T_86ad3_row3_col5,#T_86ad3_row4_col1,#T_86ad3_row4_col2,#T_86ad3_row4_col3,#T_86ad3_row4_col4,#T_86ad3_row4_col5,#T_86ad3_row5_col1,#T_86ad3_row5_col2,#T_86ad3_row5_col3,#T_86ad3_row5_col4,#T_86ad3_row5_col5,#T_86ad3_row6_col1,#T_86ad3_row6_col2,#T_86ad3_row6_col3,#T_86ad3_row6_col4,#T_86ad3_row6_col5{\n",
       "            text-align:  left;\n",
       "        }</style><table id=\"T_86ad3_\" ><thead>    <tr>        <th class=\"blank level0\" ></th>        <th class=\"col_heading level0 col0\" >level</th>        <th class=\"col_heading level0 col1\" >order</th>        <th class=\"col_heading level0 col2\" >component</th>        <th class=\"col_heading level0 col3\" >task</th>        <th class=\"col_heading level0 col4\" >parameters</th>        <th class=\"col_heading level0 col5\" >creator</th>    </tr></thead><tbody>\n",
       "                <tr>\n",
       "                        <th id=\"T_86ad3_level0_row0\" class=\"row_heading level0 row0\" >0</th>\n",
       "                        <td id=\"T_86ad3_row0_col0\" class=\"data row0 col0\" >cln_members_transition</td>\n",
       "                        <td id=\"T_86ad3_row0_col1\" class=\"data row0 col1\" >0</td>\n",
       "                        <td id=\"T_86ad3_row0_col2\" class=\"data row0 col2\" >transition</td>\n",
       "                        <td id=\"T_86ad3_row0_col3\" class=\"data row0 col3\" >'cln_members'</td>\n",
       "                        <td id=\"T_86ad3_row0_col4\" class=\"data row0 col4\" >[]</td>\n",
       "                        <td id=\"T_86ad3_row0_col5\" class=\"data row0 col5\" >doatridge</td>\n",
       "            </tr>\n",
       "            <tr>\n",
       "                        <th id=\"T_86ad3_level0_row1\" class=\"row_heading level0 row1\" >1</th>\n",
       "                        <td id=\"T_86ad3_row1_col0\" class=\"data row1 col0\" >flu_risk_transition</td>\n",
       "                        <td id=\"T_86ad3_row1_col1\" class=\"data row1 col1\" >0</td>\n",
       "                        <td id=\"T_86ad3_row1_col2\" class=\"data row1 col2\" >transition</td>\n",
       "                        <td id=\"T_86ad3_row1_col3\" class=\"data row1 col3\" >'flu_risk'</td>\n",
       "                        <td id=\"T_86ad3_row1_col4\" class=\"data row1 col4\" >[]</td>\n",
       "                        <td id=\"T_86ad3_row1_col5\" class=\"data row1 col5\" >doatridge</td>\n",
       "            </tr>\n",
       "            <tr>\n",
       "                        <th id=\"T_86ad3_level0_row2\" class=\"row_heading level0 row2\" >2</th>\n",
       "                        <td id=\"T_86ad3_row2_col0\" class=\"data row2 col0\" >ins_members_transition</td>\n",
       "                        <td id=\"T_86ad3_row2_col1\" class=\"data row2 col1\" >0</td>\n",
       "                        <td id=\"T_86ad3_row2_col2\" class=\"data row2 col2\" >transition</td>\n",
       "                        <td id=\"T_86ad3_row2_col3\" class=\"data row2 col3\" >'ins_members'</td>\n",
       "                        <td id=\"T_86ad3_row2_col4\" class=\"data row2 col4\" >[]</td>\n",
       "                        <td id=\"T_86ad3_row2_col5\" class=\"data row2 col5\" >doatridge</td>\n",
       "            </tr>\n",
       "            <tr>\n",
       "                        <th id=\"T_86ad3_level0_row3\" class=\"row_heading level0 row3\" >3</th>\n",
       "                        <td id=\"T_86ad3_row3_col0\" class=\"data row3 col0\" >members_transition</td>\n",
       "                        <td id=\"T_86ad3_row3_col1\" class=\"data row3 col1\" >0</td>\n",
       "                        <td id=\"T_86ad3_row3_col2\" class=\"data row3 col2\" >transition</td>\n",
       "                        <td id=\"T_86ad3_row3_col3\" class=\"data row3 col3\" >'members'</td>\n",
       "                        <td id=\"T_86ad3_row3_col4\" class=\"data row3 col4\" >[]</td>\n",
       "                        <td id=\"T_86ad3_row3_col5\" class=\"data row3 col5\" >doatridge</td>\n",
       "            </tr>\n",
       "            <tr>\n",
       "                        <th id=\"T_86ad3_level0_row4\" class=\"row_heading level0 row4\" >4</th>\n",
       "                        <td id=\"T_86ad3_row4_col0\" class=\"data row4 col0\" >prf_members_transition</td>\n",
       "                        <td id=\"T_86ad3_row4_col1\" class=\"data row4 col1\" >0</td>\n",
       "                        <td id=\"T_86ad3_row4_col2\" class=\"data row4 col2\" >transition</td>\n",
       "                        <td id=\"T_86ad3_row4_col3\" class=\"data row4 col3\" >'prf_members'</td>\n",
       "                        <td id=\"T_86ad3_row4_col4\" class=\"data row4 col4\" >[]</td>\n",
       "                        <td id=\"T_86ad3_row4_col5\" class=\"data row4 col5\" >doatridge</td>\n",
       "            </tr>\n",
       "            <tr>\n",
       "                        <th id=\"T_86ad3_level0_row5\" class=\"row_heading level0 row5\" >5</th>\n",
       "                        <td id=\"T_86ad3_row5_col0\" class=\"data row5 col0\" >profile_transition</td>\n",
       "                        <td id=\"T_86ad3_row5_col1\" class=\"data row5 col1\" >0</td>\n",
       "                        <td id=\"T_86ad3_row5_col2\" class=\"data row5 col2\" >transition</td>\n",
       "                        <td id=\"T_86ad3_row5_col3\" class=\"data row5 col3\" >'profile'</td>\n",
       "                        <td id=\"T_86ad3_row5_col4\" class=\"data row5 col4\" >[]</td>\n",
       "                        <td id=\"T_86ad3_row5_col5\" class=\"data row5 col5\" >doatridge</td>\n",
       "            </tr>\n",
       "            <tr>\n",
       "                        <th id=\"T_86ad3_level0_row6\" class=\"row_heading level0 row6\" >6</th>\n",
       "                        <td id=\"T_86ad3_row6_col0\" class=\"data row6 col0\" >profile_wrangle</td>\n",
       "                        <td id=\"T_86ad3_row6_col1\" class=\"data row6 col1\" >0</td>\n",
       "                        <td id=\"T_86ad3_row6_col2\" class=\"data row6 col2\" >Wrangle</td>\n",
       "                        <td id=\"T_86ad3_row6_col3\" class=\"data row6 col3\" >'profile'</td>\n",
       "                        <td id=\"T_86ad3_row6_col4\" class=\"data row6 col4\" >[]</td>\n",
       "                        <td id=\"T_86ad3_row6_col5\" class=\"data row6 col5\" >doatridge</td>\n",
       "            </tr>\n",
       "    </tbody></table>"
      ],
      "text/plain": [
       "<pandas.io.formats.style.Styler at 0x7fd2f7edd610>"
      ]
     },
     "execution_count": 17,
     "metadata": {},
     "output_type": "execute_result"
    }
   ],
   "source": [
    "controller.report_tasks()"
   ]
  },
  {
   "cell_type": "markdown",
   "metadata": {},
   "source": [
    "### Run Pipeline"
   ]
  },
  {
   "cell_type": "code",
   "execution_count": 18,
   "metadata": {},
   "outputs": [],
   "source": [
    "controller.run_controller()"
   ]
  },
  {
   "cell_type": "code",
   "execution_count": null,
   "metadata": {},
   "outputs": [],
   "source": []
  }
 ],
 "metadata": {
  "kernelspec": {
   "display_name": "Python 3",
   "language": "python",
   "name": "python3"
  },
  "language_info": {
   "codemirror_mode": {
    "name": "ipython",
    "version": 3
   },
   "file_extension": ".py",
   "mimetype": "text/x-python",
   "name": "python",
   "nbconvert_exporter": "python",
   "pygments_lexer": "ipython3",
   "version": "3.8.5"
  }
 },
 "nbformat": 4,
 "nbformat_minor": 4
}
