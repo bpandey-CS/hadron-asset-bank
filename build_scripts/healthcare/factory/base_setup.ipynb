{
 "cells": [
  {
   "cell_type": "markdown",
   "metadata": {},
   "source": [
    "## Base Scriptlets Notebook"
   ]
  },
  {
   "cell_type": "code",
   "execution_count": null,
   "metadata": {},
   "outputs": [],
   "source": [
    "# set the project name\n",
    "domain = 'healthcare'\n",
    "project_name = 'factory'\n",
    "VERSION = 'v05'"
   ]
  },
  {
   "cell_type": "code",
   "execution_count": null,
   "metadata": {},
   "outputs": [],
   "source": [
    "# set the Domain Contract URI if using a GitHub repository as reference domain contract\n",
    "_git_hub = ''\n",
    "_git_repo = ''\n",
    "_git_project_path = ''\n",
    "\n",
    "DOMAIN_CONTRACTS_URL = f\"https://raw.githubusercontent.com/{_git_hub}/{_git_repo}/master/{_git_project_path}/contracts/\""
   ]
  },
  {
   "cell_type": "code",
   "execution_count": null,
   "metadata": {},
   "outputs": [],
   "source": [
    "# saves you having to use print as all exposed variables are printed in the cell\n",
    "from IPython.core.interactiveshell import InteractiveShell\n",
    "InteractiveShell.ast_node_interactivity = \"all\"\n",
    "\n",
    "# core libraries\n",
    "import numpy as np\n",
    "import pandas as pd\n",
    "import os\n",
    "from pathlib import Path\n",
    "import seaborn as sns\n",
    "import matplotlib.pyplot as plt\n",
    "\n",
    "# matpolitlib config\n",
    "%matplotlib inline\n",
    "\n",
    "# Style setup\n",
    "plt.style.use('ggplot')\n",
    "sns.set()\n",
    "\n",
    "# Pandas setup\n",
    "pd.set_option('max_colwidth', 200)\n",
    "pd.set_option('display.max_rows', 500)\n",
    "pd.set_option('display.max_columns', 99)\n",
    "pd.set_option('expand_frame_repr', True)\n",
    "# Limiting floats output to 3 decimal points\n",
    "pd.set_option('display.float_format', lambda x: '{:.3f}'.format(x))\n",
    "\n",
    "# suppress warning message\n",
    "import warnings\n",
    "warnings.filterwarnings('ignore')"
   ]
  },
  {
   "cell_type": "code",
   "execution_count": null,
   "metadata": {},
   "outputs": [],
   "source": [
    "%reload_ext autoreload\n",
    "%autoreload 2\n",
    "\n",
    "# Connector Contract\n",
    "from aistac.handlers.abstract_handlers import ConnectorContract\n",
    "from aistac.components.aistac_commons import DataAnalytics\n",
    "\n",
    "# Controller and Events\n",
    "from ds_engines import Controller\n",
    "from ds_engines import EventBookPortfolio\n",
    "\n",
    "# Discovery Components\n",
    "from ds_discovery import SyntheticBuilder\n",
    "from ds_discovery import Transition\n",
    "from ds_discovery import Wrangle\n",
    "from ds_discovery import FeatureCatalog\n",
    "from ds_discovery import DataDrift\n",
    "from ds_discovery.components.commons import Commons\n",
    "from ds_discovery.components.discovery import DataDiscovery\n",
    "\n",
    "import aistac\n",
    "import ds_discovery\n",
    "import ds_engines\n",
    "print('Foundation: {}'.format(aistac.__version__))\n",
    "print('Transition: {}'.format(ds_discovery.__version__))\n",
    "print('Engines   : {}'.format(ds_engines.__version__))"
   ]
  },
  {
   "cell_type": "code",
   "execution_count": null,
   "metadata": {},
   "outputs": [],
   "source": [
    "# clean out any old environments\n",
    "for key in os.environ.keys():\n",
    "    if key.startswith('HADRON'):\n",
    "        del os.environ[key]"
   ]
  },
  {
   "cell_type": "code",
   "execution_count": null,
   "metadata": {},
   "outputs": [],
   "source": [
    "# set environment variables\n",
    "\n",
    "# NOTE: if running on windows, PWD doesn't exist so you need to manually set it\n",
    "# uncomment the line bleow and add your jupyter project root path\n",
    "# os.environ['PWD'] = Path('<<Your_Project_path>>').as_posix()\n",
    "\n",
    "os.environ['HADRON_PM_PATH'] = Path('${PWD}', domain, project_name, 'contracts').as_posix() \n",
    "# os.environ['HADRON_PM_MODULE'] = 'ds_discovery.handlers.pandas_handlers'\n",
    "# os.environ['HADRON_PM_PERSIST_HANDLER'] = 'PandasPersistHandler'\n",
    "os.environ['HADRON_PM_TYPE'] = 'json'\n",
    "\n",
    "\n",
    "# Pandas\n",
    "os.environ['HADRON_DEFAULT_PATH'] = Path('${PWD}', domain, project_name, 'data', 'persist').as_posix()\n",
    "os.environ['HADRON_DEFAULT_MODULE'] = 'ds_discovery.handlers.pandas_handlers'\n",
    "os.environ['HADRON_DEFAULT_SOURCE_HANDLER'] = 'PandasSourceHandler'\n",
    "os.environ['HADRON_DEFAULT_PERSIST_HANDLER'] = 'PandasPersistHandler'\n",
    "\n",
    "\n",
    "# EventBook\n",
    "# os.environ['HADRON_DEFAULT_PATH'] = 'eb://'\n",
    "# os.environ['HADRON_DEFAULT_MODULE'] = 'ds_engines.handlers.event_handlers'\n",
    "# os.environ['HADRON_DEFAULT_SOURCE_HANDLER'] = 'EventSourceHandler'\n",
    "# os.environ['HADRON_DEFAULT_PERSIST_HANDLER'] = 'EventPersistHandler'\n",
    "\n",
    "# os.environ['HADRON_TRANSITION_PERSIST_PATH'] = Path('${PWD}', domain, project_name, 'data', 'persist').as_posix()\n",
    "# os.environ['HADRON_TRANSITION_PERSIST_MODULE'] = 'ds_discovery.handlers.pandas_handlers'\n",
    "# os.environ['HADRON_TRANSITION_PERSIST_HANDLER'] = 'PandasPersistHandler'\n",
    "\n",
    "\n",
    "# S3\n",
    "# os.environ['HADRON_PM_PATH'] = f's3://aistac-discovery-persist/{domain}/{project_name}/contracts'\n",
    "# os.environ['HADRON_PM_TYPE'] = 'json'\n",
    "\n",
    "# os.environ['HADRON_DEFAULT_PATH'] = 's3://aistac-discovery-persist/{domain}/{project_name}/data/persist/'\n",
    "# os.environ['HADRON_DEFAULT_MODULE'] = 'ds_connectors.handlers.aws_s3_handlers'\n",
    "# os.environ['HADRON_DEFAULT_SOURCE_HANDLER'] = 'AwsS3SourceHandler'\n",
    "# os.environ['HADRON_DEFAULT_PERSIST_HANDLER'] = 'AwsS3PersistHandler'\n",
    "\n",
    "# os.environ['HADRON_TRANSITION_SOURCE_PATH'] = 's3://aistac-discovery-persist/{domain}/{project_name}/data/raw/'\n",
    "\n",
    "\n",
    "# Managed Content\n",
    "# os.environ['AISTAC_PM_PATH'] = \"c12emc:///hadron/hello-world/contracts?api_endpoint=${API_ENDPOINT}&token=${TOKEN}\"\n",
    "# os.environ['AISTAC_PM_TYPE'] = 'json'\n",
    "# os.environ['AISTAC_PM_MODULE'] = 'ds_connectors.handlers.managed_content_handlers'\n",
    "# os.environ['AISTAC_PM_HANDLER']= 'ManagedContentPersistHandler'\n",
    "\n",
    "# os.environ['AISTAC_DEFAULT_PATH'] = \"c12emc:///hadron/hello-world/data?api_endpoint=${API_ENDPOINT}&token=${TOKEN}\"\n",
    "# os.environ['AISTAC_DEFAULT_MODULE'] = 'ds_connectors.handlers.managed_content_handlers'\n",
    "# os.environ['AISTAC_DEFAULT_SOURCE_HANDLER'] = 'ManagedContentSourceHandler'\n",
    "# os.environ['AISTAC_DEFAULT_PERSIST_HANDLER']= 'ManagedContentPersistHandler'\n",
    "\n",
    "# run time enviroment variables\n",
    "# os.environ['TOKEN'] = \"eyJhbGciOiJIUzI1NiIsInR5cCI6IkpXVCJ9.eyJpc3MiOiJjb2duaXRpdmVzY2FsZS5jb20iLCJhdWQiOiJjb3J0ZXgiLCJzdWIiOiJzbXVsbGFuZ2kiLCJ0ZW5hbnQiOiJkZW1vIiwiYmVhcmVyIjoicHVibGljIiwia2V5IjoibkFJaE4zSUIybmVpQlVZeWVpd3VBRTNpZmwwbHRzeW8iLCJleHAiOjE2MDE1MzAwNjIsImFjbCI6eyIuKiI6WyJSRUFEIiwiUlVOIiwiV1JJVEUiLCJERUxFVEUiXSwiL3YzL2NhdGFsb2cvLioiOlsiUkVBRCIsIlJVTiIsIldSSVRFIiwiREVMRVRFIl0sIi92My9hZ2VudHMvZW52aXJvbm1lbnRzL2NvcnRleC9kZWZhdWx0IjpbIlJFQUQiLCJSVU4iLCJXUklURSJdLCIvdjMvYWdlbnRzL2Vudmlyb25tZW50cy8uKiI6WyJERU5ZIl0sIi92Mi9hZG1pbi8uKiI6WyJERU5ZIl0sIi92Mi90ZW5hbnRzLy4qIjpbIkRFTlkiXSwiL3YyL2FjY291bnRzLy4qIjpbIkRFTlkiXSwiL3YyL2FjY291bnRzL3Rva2Vucy8uKiI6WyJSRUFEIiwiUlVOIiwiV1JJVEUiXSwiL3YyL3RlbmFudHMvc2VjcmV0cy8uKiI6WyJSRUFEIiwiUlVOIiwiV1JJVEUiXSwiL3YyL3RlbmFudHMvY3VycmVudC11c2VyLWRldGFpbHMiOlsiUkVBRCJdLCIvdjMvZ3JhcGgvLioiOlsiUkVBRCIsIlJVTiIsIldSSVRFIiwiREVMRVRFIl19LCJpYXQiOjE2MDAzMjA0NjJ9.EQk5VNdQJM2l7yAvTaJiuZj_HjVxL77C5yL-9OFROX4\"\n",
    "# os.environ['API_ENDPOINT'] = 'https://api.prod.accelerators-dci.insights.ai/'\n"
   ]
  },
  {
   "cell_type": "code",
   "execution_count": null,
   "metadata": {},
   "outputs": [],
   "source": []
  }
 ],
 "metadata": {
  "kernelspec": {
   "display_name": "Python 3",
   "language": "python",
   "name": "python3"
  },
  "language_info": {
   "codemirror_mode": {
    "name": "ipython",
    "version": 3
   },
   "file_extension": ".py",
   "mimetype": "text/x-python",
   "name": "python",
   "nbconvert_exporter": "python",
   "pygments_lexer": "ipython3",
   "version": "3.8.5"
  }
 },
 "nbformat": 4,
 "nbformat_minor": 4
}
