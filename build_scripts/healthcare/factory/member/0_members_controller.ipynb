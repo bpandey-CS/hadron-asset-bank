{
 "cells": [
  {
   "cell_type": "code",
   "execution_count": 1,
   "metadata": {},
   "outputs": [
    {
     "name": "stdout",
     "output_type": "stream",
     "text": [
      "Foundation: 2.11.012\n",
      "Transition: 2.11.014\n",
      "Engines   : 2.03.027\n",
      "Behavioral: 2.06.033\n"
     ]
    }
   ],
   "source": [
    "%run ../base_setup.ipynb"
   ]
  },
  {
   "cell_type": "markdown",
   "metadata": {},
   "source": [
    "----------------------\n",
    "## Controller\n",
    "----------------------"
   ]
  },
  {
   "cell_type": "code",
   "execution_count": 2,
   "metadata": {},
   "outputs": [],
   "source": [
    "controller = Controller.from_env(has_contract=False, default_save=True)"
   ]
  },
  {
   "cell_type": "code",
   "execution_count": 3,
   "metadata": {},
   "outputs": [],
   "source": [
    "controller.set_version(VERSION)"
   ]
  },
  {
   "cell_type": "code",
   "execution_count": 4,
   "metadata": {},
   "outputs": [],
   "source": [
    "controller.pm_persist()"
   ]
  },
  {
   "cell_type": "markdown",
   "metadata": {},
   "source": [
    "--------------------------\n",
    "### Synthetic Builder"
   ]
  },
  {
   "cell_type": "code",
   "execution_count": 5,
   "metadata": {},
   "outputs": [],
   "source": [
    "sample_size = 100000"
   ]
  },
  {
   "cell_type": "code",
   "execution_count": 6,
   "metadata": {},
   "outputs": [],
   "source": [
    "controller.intent_model.synthetic_builder(task_name='members', size=sample_size, intent_level='members_gen')\n",
    "controller.intent_model.synthetic_builder(task_name='practitioners', size=0, intent_level='practitioners_gen')"
   ]
  },
  {
   "cell_type": "markdown",
   "metadata": {},
   "source": [
    "--------------------------\n",
    "### Transition Builder"
   ]
  },
  {
   "cell_type": "code",
   "execution_count": 7,
   "metadata": {},
   "outputs": [],
   "source": [
    "controller.intent_model.transition(canonical=pd.DataFrame(), task_name='members', intent_level='members')\n",
    "controller.intent_model.transition(canonical=pd.DataFrame(), task_name='hello_world_members', intent_level='members_hello_world')\n",
    "controller.intent_model.transition(canonical=pd.DataFrame(), task_name='practitioners', intent_level='practitioners')"
   ]
  },
  {
   "cell_type": "markdown",
   "metadata": {},
   "source": [
    "--------------------------\n",
    "### Report"
   ]
  },
  {
   "cell_type": "code",
   "execution_count": 8,
   "metadata": {},
   "outputs": [
    {
     "data": {
      "text/html": [
       "<style  type=\"text/css\" >\n",
       "    #T_60773_ th {\n",
       "          font-size: 120%;\n",
       "          text-align: center;\n",
       "    }    #T_60773_ .row_heading, .blank {\n",
       "          display: none;;\n",
       "    }#T_60773_row0_col0,#T_60773_row1_col0,#T_60773_row2_col0,#T_60773_row3_col0,#T_60773_row4_col0{\n",
       "            text-align:  left;\n",
       "            font-weight:  bold;\n",
       "            font-size:  120%;\n",
       "        }#T_60773_row0_col1,#T_60773_row0_col2,#T_60773_row0_col3,#T_60773_row0_col4,#T_60773_row0_col5,#T_60773_row1_col1,#T_60773_row1_col2,#T_60773_row1_col3,#T_60773_row1_col4,#T_60773_row1_col5,#T_60773_row2_col1,#T_60773_row2_col2,#T_60773_row2_col3,#T_60773_row2_col4,#T_60773_row2_col5,#T_60773_row3_col1,#T_60773_row3_col2,#T_60773_row3_col3,#T_60773_row3_col4,#T_60773_row3_col5,#T_60773_row4_col1,#T_60773_row4_col2,#T_60773_row4_col3,#T_60773_row4_col4,#T_60773_row4_col5{\n",
       "            text-align:  left;\n",
       "        }</style><table id=\"T_60773_\" ><thead>    <tr>        <th class=\"blank level0\" ></th>        <th class=\"col_heading level0 col0\" >level</th>        <th class=\"col_heading level0 col1\" >order</th>        <th class=\"col_heading level0 col2\" >component</th>        <th class=\"col_heading level0 col3\" >task</th>        <th class=\"col_heading level0 col4\" >parameters</th>        <th class=\"col_heading level0 col5\" >creator</th>    </tr></thead><tbody>\n",
       "                <tr>\n",
       "                        <th id=\"T_60773_level0_row0\" class=\"row_heading level0 row0\" >0</th>\n",
       "                        <td id=\"T_60773_row0_col0\" class=\"data row0 col0\" >members</td>\n",
       "                        <td id=\"T_60773_row0_col1\" class=\"data row0 col1\" >0</td>\n",
       "                        <td id=\"T_60773_row0_col2\" class=\"data row0 col2\" >Transition</td>\n",
       "                        <td id=\"T_60773_row0_col3\" class=\"data row0 col3\" >'members'</td>\n",
       "                        <td id=\"T_60773_row0_col4\" class=\"data row0 col4\" >[]</td>\n",
       "                        <td id=\"T_60773_row0_col5\" class=\"data row0 col5\" >doatridge</td>\n",
       "            </tr>\n",
       "            <tr>\n",
       "                        <th id=\"T_60773_level0_row1\" class=\"row_heading level0 row1\" >1</th>\n",
       "                        <td id=\"T_60773_row1_col0\" class=\"data row1 col0\" >members_gen</td>\n",
       "                        <td id=\"T_60773_row1_col1\" class=\"data row1 col1\" >0</td>\n",
       "                        <td id=\"T_60773_row1_col2\" class=\"data row1 col2\" >SyntheticBuilder</td>\n",
       "                        <td id=\"T_60773_row1_col3\" class=\"data row1 col3\" >'members'</td>\n",
       "                        <td id=\"T_60773_row1_col4\" class=\"data row1 col4\" >['size=100000']</td>\n",
       "                        <td id=\"T_60773_row1_col5\" class=\"data row1 col5\" >doatridge</td>\n",
       "            </tr>\n",
       "            <tr>\n",
       "                        <th id=\"T_60773_level0_row2\" class=\"row_heading level0 row2\" >2</th>\n",
       "                        <td id=\"T_60773_row2_col0\" class=\"data row2 col0\" >members_hello_world</td>\n",
       "                        <td id=\"T_60773_row2_col1\" class=\"data row2 col1\" >0</td>\n",
       "                        <td id=\"T_60773_row2_col2\" class=\"data row2 col2\" >Transition</td>\n",
       "                        <td id=\"T_60773_row2_col3\" class=\"data row2 col3\" >'hello_world_members'</td>\n",
       "                        <td id=\"T_60773_row2_col4\" class=\"data row2 col4\" >[]</td>\n",
       "                        <td id=\"T_60773_row2_col5\" class=\"data row2 col5\" >doatridge</td>\n",
       "            </tr>\n",
       "            <tr>\n",
       "                        <th id=\"T_60773_level0_row3\" class=\"row_heading level0 row3\" >3</th>\n",
       "                        <td id=\"T_60773_row3_col0\" class=\"data row3 col0\" >practitioners</td>\n",
       "                        <td id=\"T_60773_row3_col1\" class=\"data row3 col1\" >0</td>\n",
       "                        <td id=\"T_60773_row3_col2\" class=\"data row3 col2\" >Transition</td>\n",
       "                        <td id=\"T_60773_row3_col3\" class=\"data row3 col3\" >'practitioners'</td>\n",
       "                        <td id=\"T_60773_row3_col4\" class=\"data row3 col4\" >[]</td>\n",
       "                        <td id=\"T_60773_row3_col5\" class=\"data row3 col5\" >doatridge</td>\n",
       "            </tr>\n",
       "            <tr>\n",
       "                        <th id=\"T_60773_level0_row4\" class=\"row_heading level0 row4\" >4</th>\n",
       "                        <td id=\"T_60773_row4_col0\" class=\"data row4 col0\" >practitioners_gen</td>\n",
       "                        <td id=\"T_60773_row4_col1\" class=\"data row4 col1\" >0</td>\n",
       "                        <td id=\"T_60773_row4_col2\" class=\"data row4 col2\" >SyntheticBuilder</td>\n",
       "                        <td id=\"T_60773_row4_col3\" class=\"data row4 col3\" >'practitioners'</td>\n",
       "                        <td id=\"T_60773_row4_col4\" class=\"data row4 col4\" >['size=0']</td>\n",
       "                        <td id=\"T_60773_row4_col5\" class=\"data row4 col5\" >doatridge</td>\n",
       "            </tr>\n",
       "    </tbody></table>"
      ],
      "text/plain": [
       "<pandas.io.formats.style.Styler at 0x7faf4e97fd00>"
      ]
     },
     "execution_count": 8,
     "metadata": {},
     "output_type": "execute_result"
    }
   ],
   "source": [
    "controller.report_tasks()"
   ]
  },
  {
   "cell_type": "code",
   "execution_count": 9,
   "metadata": {},
   "outputs": [],
   "source": [
    "controller.add_run_book(book_name='hello_world', run_levels=['members_gen', 'practitioners_gen', 'members_hello_world', 'practitioners'])"
   ]
  },
  {
   "cell_type": "code",
   "execution_count": 10,
   "metadata": {},
   "outputs": [
    {
     "data": {
      "text/html": [
       "<style  type=\"text/css\" >\n",
       "    #T_a6654_ th {\n",
       "          font-size: 120%;\n",
       "          text-align: center;\n",
       "    }    #T_a6654_ .row_heading, .blank {\n",
       "          display: none;;\n",
       "    }#T_a6654_row0_col0{\n",
       "            text-align:  left;\n",
       "            font-weight:  bold;\n",
       "            font-size:  120%;\n",
       "        }#T_a6654_row0_col1{\n",
       "            text-align:  left;\n",
       "        }</style><table id=\"T_a6654_\" ><thead>    <tr>        <th class=\"blank level0\" ></th>        <th class=\"col_heading level0 col0\" >name</th>        <th class=\"col_heading level0 col1\" >run_book</th>    </tr></thead><tbody>\n",
       "                <tr>\n",
       "                        <th id=\"T_a6654_level0_row0\" class=\"row_heading level0 row0\" >0</th>\n",
       "                        <td id=\"T_a6654_row0_col0\" class=\"data row0 col0\" >hello_world</td>\n",
       "                        <td id=\"T_a6654_row0_col1\" class=\"data row0 col1\" >members_gen, practitioners_gen, members_hello_world, practitioners</td>\n",
       "            </tr>\n",
       "    </tbody></table>"
      ],
      "text/plain": [
       "<pandas.io.formats.style.Styler at 0x7faf52c63ee0>"
      ]
     },
     "execution_count": 10,
     "metadata": {},
     "output_type": "execute_result"
    }
   ],
   "source": [
    "controller.report_run_book()"
   ]
  },
  {
   "cell_type": "code",
   "execution_count": 11,
   "metadata": {},
   "outputs": [],
   "source": [
    "controller.run_controller()"
   ]
  },
  {
   "cell_type": "code",
   "execution_count": null,
   "metadata": {},
   "outputs": [],
   "source": []
  }
 ],
 "metadata": {
  "kernelspec": {
   "display_name": "Python 3",
   "language": "python",
   "name": "python3"
  },
  "language_info": {
   "codemirror_mode": {
    "name": "ipython",
    "version": 3
   },
   "file_extension": ".py",
   "mimetype": "text/x-python",
   "name": "python",
   "nbconvert_exporter": "python",
   "pygments_lexer": "ipython3",
   "version": "3.8.5"
  }
 },
 "nbformat": 4,
 "nbformat_minor": 4
}
