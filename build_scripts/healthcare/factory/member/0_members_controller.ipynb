{
 "cells": [
  {
   "cell_type": "code",
   "execution_count": 38,
   "metadata": {},
   "outputs": [
    {
     "name": "stdout",
     "output_type": "stream",
     "text": [
      "Foundation: 2.11.003\n",
      "Transition: 2.11.010\n",
      "Engines   : 2.03.022\n",
      "Behavioral: 2.06.020\n"
     ]
    }
   ],
   "source": [
    "%run ../base_setup.ipynb"
   ]
  },
  {
   "cell_type": "markdown",
   "metadata": {},
   "source": [
    "----------------------\n",
    "## Controller\n",
    "----------------------"
   ]
  },
  {
   "cell_type": "code",
   "execution_count": 39,
   "metadata": {},
   "outputs": [],
   "source": [
    "controller = Controller.from_env(has_contract=False, default_save=True)"
   ]
  },
  {
   "cell_type": "code",
   "execution_count": 40,
   "metadata": {},
   "outputs": [],
   "source": [
    "controller.set_version(VERSION)"
   ]
  },
  {
   "cell_type": "code",
   "execution_count": 41,
   "metadata": {},
   "outputs": [],
   "source": [
    "controller.pm_persist()"
   ]
  },
  {
   "cell_type": "markdown",
   "metadata": {},
   "source": [
    "--------------------------\n",
    "### Synthetic Builder"
   ]
  },
  {
   "cell_type": "code",
   "execution_count": 42,
   "metadata": {},
   "outputs": [],
   "source": [
    "sample_size = 100000"
   ]
  },
  {
   "cell_type": "code",
   "execution_count": 43,
   "metadata": {},
   "outputs": [],
   "source": [
    "controller.intent_model.synthetic_builder(task_name='members', size=sample_size, intent_level='generator')"
   ]
  },
  {
   "cell_type": "markdown",
   "metadata": {},
   "source": [
    "--------------------------\n",
    "### Transition Builder"
   ]
  },
  {
   "cell_type": "code",
   "execution_count": 44,
   "metadata": {},
   "outputs": [],
   "source": [
    "controller.intent_model.transition(canonical=pd.DataFrame(), task_name='members', intent_level='factory_members')\n",
    "controller.intent_model.transition(canonical=pd.DataFrame(), task_name='hello_world_members', intent_level='hello_world')"
   ]
  },
  {
   "cell_type": "markdown",
   "metadata": {},
   "source": [
    "--------------------------\n",
    "### Report"
   ]
  },
  {
   "cell_type": "code",
   "execution_count": 45,
   "metadata": {},
   "outputs": [
    {
     "data": {
      "text/html": [
       "<div>\n",
       "<style scoped>\n",
       "    .dataframe tbody tr th:only-of-type {\n",
       "        vertical-align: middle;\n",
       "    }\n",
       "\n",
       "    .dataframe tbody tr th {\n",
       "        vertical-align: top;\n",
       "    }\n",
       "\n",
       "    .dataframe thead th {\n",
       "        text-align: right;\n",
       "    }\n",
       "</style>\n",
       "<table border=\"1\" class=\"dataframe\">\n",
       "  <thead>\n",
       "    <tr style=\"text-align: right;\">\n",
       "      <th></th>\n",
       "      <th>order</th>\n",
       "      <th>intent</th>\n",
       "      <th>parameters</th>\n",
       "      <th>creator</th>\n",
       "    </tr>\n",
       "    <tr>\n",
       "      <th>level</th>\n",
       "      <th></th>\n",
       "      <th></th>\n",
       "      <th></th>\n",
       "      <th></th>\n",
       "    </tr>\n",
       "  </thead>\n",
       "  <tbody>\n",
       "    <tr>\n",
       "      <th>factory_members</th>\n",
       "      <td>0</td>\n",
       "      <td>transition</td>\n",
       "      <td>[task_name='members']</td>\n",
       "      <td>doatridge</td>\n",
       "    </tr>\n",
       "    <tr>\n",
       "      <th>generator</th>\n",
       "      <td>0</td>\n",
       "      <td>synthetic_builder</td>\n",
       "      <td>[task_name='members', size=100000]</td>\n",
       "      <td>doatridge</td>\n",
       "    </tr>\n",
       "    <tr>\n",
       "      <th>hello_world</th>\n",
       "      <td>0</td>\n",
       "      <td>transition</td>\n",
       "      <td>[task_name='hello_world_members']</td>\n",
       "      <td>doatridge</td>\n",
       "    </tr>\n",
       "  </tbody>\n",
       "</table>\n",
       "</div>"
      ],
      "text/plain": [
       "                order             intent                          parameters  \\\n",
       "level                                                                          \n",
       "factory_members     0         transition               [task_name='members']   \n",
       "generator           0  synthetic_builder  [task_name='members', size=100000]   \n",
       "hello_world         0         transition   [task_name='hello_world_members']   \n",
       "\n",
       "                   creator  \n",
       "level                       \n",
       "factory_members  doatridge  \n",
       "generator        doatridge  \n",
       "hello_world      doatridge  "
      ]
     },
     "execution_count": 45,
     "metadata": {},
     "output_type": "execute_result"
    }
   ],
   "source": [
    "controller.report_tasks()"
   ]
  },
  {
   "cell_type": "code",
   "execution_count": 25,
   "metadata": {},
   "outputs": [],
   "source": [
    "controller.run_controller(intent_levels=['generator', 'hello_world'])"
   ]
  },
  {
   "cell_type": "code",
   "execution_count": null,
   "metadata": {},
   "outputs": [],
   "source": []
  }
 ],
 "metadata": {
  "kernelspec": {
   "display_name": "Python 3",
   "language": "python",
   "name": "python3"
  },
  "language_info": {
   "codemirror_mode": {
    "name": "ipython",
    "version": 3
   },
   "file_extension": ".py",
   "mimetype": "text/x-python",
   "name": "python",
   "nbconvert_exporter": "python",
   "pygments_lexer": "ipython3",
   "version": "3.8.5"
  }
 },
 "nbformat": 4,
 "nbformat_minor": 4
}
