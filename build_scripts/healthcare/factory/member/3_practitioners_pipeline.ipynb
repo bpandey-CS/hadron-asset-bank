{
 "cells": [
  {
   "cell_type": "code",
   "execution_count": 1,
   "metadata": {},
   "outputs": [
    {
     "name": "stdout",
     "output_type": "stream",
     "text": [
      "Foundation: 2.11.018\n",
      "Transition: 3.01.005\n",
      "Engines   : 2.03.028\n"
     ]
    }
   ],
   "source": [
    "%run ../base_setup.ipynb"
   ]
  },
  {
   "cell_type": "code",
   "execution_count": 2,
   "metadata": {},
   "outputs": [],
   "source": [
    "sample_size = 10000\n",
    "seed = None"
   ]
  },
  {
   "cell_type": "markdown",
   "metadata": {},
   "source": [
    "-------------------------\n",
    "## Synthetic Builder"
   ]
  },
  {
   "cell_type": "code",
   "execution_count": 3,
   "metadata": {},
   "outputs": [],
   "source": [
    "builder = SyntheticBuilder.from_env('practitioners')"
   ]
  },
  {
   "cell_type": "markdown",
   "metadata": {},
   "source": [
    "### Run the Pipeline  save the Schema and show the Canonical Report"
   ]
  },
  {
   "cell_type": "code",
   "execution_count": 4,
   "metadata": {},
   "outputs": [
    {
     "data": {
      "text/html": [
       "<style  type=\"text/css\" >\n",
       "    #T_c310a_ th {\n",
       "          font-size: 120%;\n",
       "          text-align: center;\n",
       "    }    #T_c310a_ .row_heading, .blank {\n",
       "          display: none;;\n",
       "    }#T_c310a_row0_col0,#T_c310a_row1_col0,#T_c310a_row2_col0,#T_c310a_row3_col0,#T_c310a_row4_col0,#T_c310a_row5_col0{\n",
       "            font-weight:  bold;\n",
       "            font-size:  120%;\n",
       "        }#T_c310a_row0_col2,#T_c310a_row0_col3,#T_c310a_row0_col6,#T_c310a_row1_col2,#T_c310a_row1_col3,#T_c310a_row1_col6,#T_c310a_row2_col2,#T_c310a_row2_col3,#T_c310a_row2_col6,#T_c310a_row3_col2,#T_c310a_row3_col3,#T_c310a_row3_col6,#T_c310a_row4_col2,#T_c310a_row4_col3,#T_c310a_row5_col2,#T_c310a_row5_col3,#T_c310a_row5_col6{\n",
       "            color:  black;\n",
       "        }#T_c310a_row0_col4,#T_c310a_row1_col4,#T_c310a_row2_col4,#T_c310a_row3_col4,#T_c310a_row5_col4{\n",
       "            background-color:  #ec382b;\n",
       "            color:  white;\n",
       "        }#T_c310a_row3_col1{\n",
       "            color:  #0f398a;\n",
       "        }#T_c310a_row4_col4{\n",
       "            background-color:  #fdcdb9;\n",
       "            color:  black;\n",
       "        }#T_c310a_row4_col6{\n",
       "            background-color:  #f0f9ed;\n",
       "            color:  black;\n",
       "        }</style><table id=\"T_c310a_\" ><caption>%_Dom: The % most dominant element</caption><thead>    <tr>        <th class=\"blank level0\" ></th>        <th class=\"col_heading level0 col0\" >Attributes (6)</th>        <th class=\"col_heading level0 col1\" >dType</th>        <th class=\"col_heading level0 col2\" >%_Null</th>        <th class=\"col_heading level0 col3\" >%_Dom</th>        <th class=\"col_heading level0 col5\" >Count</th>        <th class=\"col_heading level0 col6\" >Unique</th>        <th class=\"col_heading level0 col7\" >Observations</th>    </tr></thead><tbody>\n",
       "                <tr>\n",
       "                        <th id=\"T_c310a_level0_row0\" class=\"row_heading level0 row0\" >0</th>\n",
       "                        <td id=\"T_c310a_row0_col0\" class=\"data row0 col0\" >address</td>\n",
       "                        <td id=\"T_c310a_row0_col1\" class=\"data row0 col1\" >object</td>\n",
       "                        <td id=\"T_c310a_row0_col2\" class=\"data row0 col2\" >0.0%</td>\n",
       "                        <td id=\"T_c310a_row0_col3\" class=\"data row0 col3\" >0.0%</td>\n",
       "                                <td id=\"T_c310a_row0_col5\" class=\"data row0 col5\" >192865</td>\n",
       "                        <td id=\"T_c310a_row0_col6\" class=\"data row0 col6\" >180185</td>\n",
       "                        <td id=\"T_c310a_row0_col7\" class=\"data row0 col7\" >Sample: 100 N Main St | 101 N Main St | 100 E Main St | 101 S Main St | 1 Main St</td>\n",
       "            </tr>\n",
       "            <tr>\n",
       "                        <th id=\"T_c310a_level0_row1\" class=\"row_heading level0 row1\" >1</th>\n",
       "                        <td id=\"T_c310a_row1_col0\" class=\"data row1 col0\" >city</td>\n",
       "                        <td id=\"T_c310a_row1_col1\" class=\"data row1 col1\" >object</td>\n",
       "                        <td id=\"T_c310a_row1_col2\" class=\"data row1 col2\" >0.0%</td>\n",
       "                        <td id=\"T_c310a_row1_col3\" class=\"data row1 col3\" >1.3%</td>\n",
       "                                <td id=\"T_c310a_row1_col5\" class=\"data row1 col5\" >192865</td>\n",
       "                        <td id=\"T_c310a_row1_col6\" class=\"data row1 col6\" >9691</td>\n",
       "                        <td id=\"T_c310a_row1_col7\" class=\"data row1 col7\" >Sample: Houston | Chicago | Dallas | Atlanta | New York</td>\n",
       "            </tr>\n",
       "            <tr>\n",
       "                        <th id=\"T_c310a_level0_row2\" class=\"row_heading level0 row2\" >2</th>\n",
       "                        <td id=\"T_c310a_row2_col0\" class=\"data row2 col0\" >name</td>\n",
       "                        <td id=\"T_c310a_row2_col1\" class=\"data row2 col1\" >object</td>\n",
       "                        <td id=\"T_c310a_row2_col2\" class=\"data row2 col2\" >0.0%</td>\n",
       "                        <td id=\"T_c310a_row2_col3\" class=\"data row2 col3\" >0.0%</td>\n",
       "                                <td id=\"T_c310a_row2_col5\" class=\"data row2 col5\" >192865</td>\n",
       "                        <td id=\"T_c310a_row2_col6\" class=\"data row2 col6\" >192865</td>\n",
       "                        <td id=\"T_c310a_row2_col7\" class=\"data row2 col7\" >Sample: Aaden Poo MD | Bricen Preteroti MD | Uziah Szczecinski DNP | Navarro Deible DNP | Coop Picke...</td>\n",
       "            </tr>\n",
       "            <tr>\n",
       "                        <th id=\"T_c310a_level0_row3\" class=\"row_heading level0 row3\" >3</th>\n",
       "                        <td id=\"T_c310a_row3_col0\" class=\"data row3 col0\" >pcp_tax_id</td>\n",
       "                        <td id=\"T_c310a_row3_col1\" class=\"data row3 col1\" >int64</td>\n",
       "                        <td id=\"T_c310a_row3_col2\" class=\"data row3 col2\" >0.0%</td>\n",
       "                        <td id=\"T_c310a_row3_col3\" class=\"data row3 col3\" >0.0%</td>\n",
       "                                <td id=\"T_c310a_row3_col5\" class=\"data row3 col5\" >192865</td>\n",
       "                        <td id=\"T_c310a_row3_col6\" class=\"data row3 col6\" >192865</td>\n",
       "                        <td id=\"T_c310a_row3_col7\" class=\"data row3 col7\" >max=899995956 | min=100000138 | mean=499998474.77 | dominant=[100000138, 100004811]</td>\n",
       "            </tr>\n",
       "            <tr>\n",
       "                        <th id=\"T_c310a_level0_row4\" class=\"row_heading level0 row4\" >4</th>\n",
       "                        <td id=\"T_c310a_row4_col0\" class=\"data row4 col0\" >state</td>\n",
       "                        <td id=\"T_c310a_row4_col1\" class=\"data row4 col1\" >object</td>\n",
       "                        <td id=\"T_c310a_row4_col2\" class=\"data row4 col2\" >0.0%</td>\n",
       "                        <td id=\"T_c310a_row4_col3\" class=\"data row4 col3\" >10.2%</td>\n",
       "                                <td id=\"T_c310a_row4_col5\" class=\"data row4 col5\" >192865</td>\n",
       "                        <td id=\"T_c310a_row4_col6\" class=\"data row4 col6\" >56</td>\n",
       "                        <td id=\"T_c310a_row4_col7\" class=\"data row4 col7\" >Sample: CA | TX | FL | NY | IL</td>\n",
       "            </tr>\n",
       "            <tr>\n",
       "                        <th id=\"T_c310a_level0_row5\" class=\"row_heading level0 row5\" >5</th>\n",
       "                        <td id=\"T_c310a_row5_col0\" class=\"data row5 col0\" >zipcode</td>\n",
       "                        <td id=\"T_c310a_row5_col1\" class=\"data row5 col1\" >object</td>\n",
       "                        <td id=\"T_c310a_row5_col2\" class=\"data row5 col2\" >0.0%</td>\n",
       "                        <td id=\"T_c310a_row5_col3\" class=\"data row5 col3\" >0.1%</td>\n",
       "                                <td id=\"T_c310a_row5_col5\" class=\"data row5 col5\" >192865</td>\n",
       "                        <td id=\"T_c310a_row5_col6\" class=\"data row5 col6\" >46964</td>\n",
       "                        <td id=\"T_c310a_row5_col7\" class=\"data row5 col7\" >Sample: 43215 | 30339 | 45202 | 80202 | 07054</td>\n",
       "            </tr>\n",
       "    </tbody></table>"
      ],
      "text/plain": [
       "<pandas.io.formats.style.Styler at 0x7f851864dbe0>"
      ]
     },
     "execution_count": 4,
     "metadata": {},
     "output_type": "execute_result"
    }
   ],
   "source": [
    "# set the version\n",
    "builder.set_version(VERSION)\n",
    "\n",
    "# run the pipeline\n",
    "builder.run_synthetic_pipeline(size=sample_size)\n",
    "\n",
    "# report\n",
    "builder.canonical_report(builder.load_synthetic_canonical(), stylise=True)"
   ]
  },
  {
   "cell_type": "markdown",
   "metadata": {},
   "source": [
    "### Save Reports"
   ]
  },
  {
   "cell_type": "code",
   "execution_count": 5,
   "metadata": {},
   "outputs": [],
   "source": [
    "builder.save_report_canonical(report_connector_name=builder.REPORT_INTENT, report=builder.report_intent(stylise=False))\n",
    "builder.save_report_canonical(report_connector_name=builder.REPORT_CATALOG, report=builder.report_column_catalog(stylise=False))"
   ]
  },
  {
   "cell_type": "markdown",
   "metadata": {},
   "source": [
    "-------------------------\n",
    "## Members Transition"
   ]
  },
  {
   "cell_type": "code",
   "execution_count": 6,
   "metadata": {},
   "outputs": [],
   "source": [
    "tr = Transition.from_env('practitioners')"
   ]
  },
  {
   "cell_type": "code",
   "execution_count": 7,
   "metadata": {},
   "outputs": [
    {
     "data": {
      "text/html": [
       "<style  type=\"text/css\" >\n",
       "    #T_f89a6_ th {\n",
       "          font-size: 120%;\n",
       "          text-align: center;\n",
       "    }    #T_f89a6_ .row_heading, .blank {\n",
       "          display: none;;\n",
       "    }#T_f89a6_row0_col0,#T_f89a6_row1_col0,#T_f89a6_row2_col0,#T_f89a6_row3_col0,#T_f89a6_row4_col0,#T_f89a6_row5_col0{\n",
       "            font-weight:  bold;\n",
       "            font-size:  120%;\n",
       "        }#T_f89a6_row0_col2,#T_f89a6_row0_col3,#T_f89a6_row0_col6,#T_f89a6_row1_col2,#T_f89a6_row1_col3,#T_f89a6_row1_col6,#T_f89a6_row2_col2,#T_f89a6_row2_col3,#T_f89a6_row2_col6,#T_f89a6_row3_col2,#T_f89a6_row3_col3,#T_f89a6_row3_col6,#T_f89a6_row4_col2,#T_f89a6_row4_col3,#T_f89a6_row5_col2,#T_f89a6_row5_col3,#T_f89a6_row5_col6{\n",
       "            color:  black;\n",
       "        }#T_f89a6_row0_col4,#T_f89a6_row1_col4,#T_f89a6_row2_col4,#T_f89a6_row3_col4,#T_f89a6_row5_col4{\n",
       "            background-color:  #ec382b;\n",
       "            color:  white;\n",
       "        }#T_f89a6_row3_col1,#T_f89a6_row5_col1{\n",
       "            color:  #0f398a;\n",
       "        }#T_f89a6_row4_col1{\n",
       "            color:  #208a0f;\n",
       "        }#T_f89a6_row4_col4{\n",
       "            background-color:  #fdcdb9;\n",
       "            color:  black;\n",
       "        }#T_f89a6_row4_col6{\n",
       "            background-color:  #f0f9ed;\n",
       "            color:  black;\n",
       "        }</style><table id=\"T_f89a6_\" ><caption>%_Dom: The % most dominant element</caption><thead>    <tr>        <th class=\"blank level0\" ></th>        <th class=\"col_heading level0 col0\" >Attributes (6)</th>        <th class=\"col_heading level0 col1\" >dType</th>        <th class=\"col_heading level0 col2\" >%_Null</th>        <th class=\"col_heading level0 col3\" >%_Dom</th>        <th class=\"col_heading level0 col5\" >Count</th>        <th class=\"col_heading level0 col6\" >Unique</th>        <th class=\"col_heading level0 col7\" >Observations</th>    </tr></thead><tbody>\n",
       "                <tr>\n",
       "                        <th id=\"T_f89a6_level0_row0\" class=\"row_heading level0 row0\" >0</th>\n",
       "                        <td id=\"T_f89a6_row0_col0\" class=\"data row0 col0\" >address</td>\n",
       "                        <td id=\"T_f89a6_row0_col1\" class=\"data row0 col1\" >object</td>\n",
       "                        <td id=\"T_f89a6_row0_col2\" class=\"data row0 col2\" >0.0%</td>\n",
       "                        <td id=\"T_f89a6_row0_col3\" class=\"data row0 col3\" >0.0%</td>\n",
       "                                <td id=\"T_f89a6_row0_col5\" class=\"data row0 col5\" >192865</td>\n",
       "                        <td id=\"T_f89a6_row0_col6\" class=\"data row0 col6\" >180185</td>\n",
       "                        <td id=\"T_f89a6_row0_col7\" class=\"data row0 col7\" >Sample: 100 N Main St | 101 N Main St | 100 E Main St | 101 S Main St | 1 Main St</td>\n",
       "            </tr>\n",
       "            <tr>\n",
       "                        <th id=\"T_f89a6_level0_row1\" class=\"row_heading level0 row1\" >1</th>\n",
       "                        <td id=\"T_f89a6_row1_col0\" class=\"data row1 col0\" >city</td>\n",
       "                        <td id=\"T_f89a6_row1_col1\" class=\"data row1 col1\" >object</td>\n",
       "                        <td id=\"T_f89a6_row1_col2\" class=\"data row1 col2\" >0.0%</td>\n",
       "                        <td id=\"T_f89a6_row1_col3\" class=\"data row1 col3\" >1.3%</td>\n",
       "                                <td id=\"T_f89a6_row1_col5\" class=\"data row1 col5\" >192865</td>\n",
       "                        <td id=\"T_f89a6_row1_col6\" class=\"data row1 col6\" >9691</td>\n",
       "                        <td id=\"T_f89a6_row1_col7\" class=\"data row1 col7\" >Sample: Houston | Chicago | Dallas | Atlanta | New York</td>\n",
       "            </tr>\n",
       "            <tr>\n",
       "                        <th id=\"T_f89a6_level0_row2\" class=\"row_heading level0 row2\" >2</th>\n",
       "                        <td id=\"T_f89a6_row2_col0\" class=\"data row2 col0\" >name</td>\n",
       "                        <td id=\"T_f89a6_row2_col1\" class=\"data row2 col1\" >object</td>\n",
       "                        <td id=\"T_f89a6_row2_col2\" class=\"data row2 col2\" >0.0%</td>\n",
       "                        <td id=\"T_f89a6_row2_col3\" class=\"data row2 col3\" >0.0%</td>\n",
       "                                <td id=\"T_f89a6_row2_col5\" class=\"data row2 col5\" >192865</td>\n",
       "                        <td id=\"T_f89a6_row2_col6\" class=\"data row2 col6\" >192865</td>\n",
       "                        <td id=\"T_f89a6_row2_col7\" class=\"data row2 col7\" >Sample: Aaden Poo MD | Bricen Preteroti MD | Uziah Szczecinski DNP | Navarro Deible DNP | Coop Picke...</td>\n",
       "            </tr>\n",
       "            <tr>\n",
       "                        <th id=\"T_f89a6_level0_row3\" class=\"row_heading level0 row3\" >3</th>\n",
       "                        <td id=\"T_f89a6_row3_col0\" class=\"data row3 col0\" >pcp_tax_id</td>\n",
       "                        <td id=\"T_f89a6_row3_col1\" class=\"data row3 col1\" >int64</td>\n",
       "                        <td id=\"T_f89a6_row3_col2\" class=\"data row3 col2\" >0.0%</td>\n",
       "                        <td id=\"T_f89a6_row3_col3\" class=\"data row3 col3\" >0.0%</td>\n",
       "                                <td id=\"T_f89a6_row3_col5\" class=\"data row3 col5\" >192865</td>\n",
       "                        <td id=\"T_f89a6_row3_col6\" class=\"data row3 col6\" >192865</td>\n",
       "                        <td id=\"T_f89a6_row3_col7\" class=\"data row3 col7\" >max=899995956 | min=100000138 | mean=499998474.77 | dominant=[100000138, 100004811]</td>\n",
       "            </tr>\n",
       "            <tr>\n",
       "                        <th id=\"T_f89a6_level0_row4\" class=\"row_heading level0 row4\" >4</th>\n",
       "                        <td id=\"T_f89a6_row4_col0\" class=\"data row4 col0\" >state</td>\n",
       "                        <td id=\"T_f89a6_row4_col1\" class=\"data row4 col1\" >category</td>\n",
       "                        <td id=\"T_f89a6_row4_col2\" class=\"data row4 col2\" >0.0%</td>\n",
       "                        <td id=\"T_f89a6_row4_col3\" class=\"data row4 col3\" >10.2%</td>\n",
       "                                <td id=\"T_f89a6_row4_col5\" class=\"data row4 col5\" >192865</td>\n",
       "                        <td id=\"T_f89a6_row4_col6\" class=\"data row4 col6\" >56</td>\n",
       "                        <td id=\"T_f89a6_row4_col7\" class=\"data row4 col7\" >Sample: CA | TX | FL | NY | IL</td>\n",
       "            </tr>\n",
       "            <tr>\n",
       "                        <th id=\"T_f89a6_level0_row5\" class=\"row_heading level0 row5\" >5</th>\n",
       "                        <td id=\"T_f89a6_row5_col0\" class=\"data row5 col0\" >zipcode</td>\n",
       "                        <td id=\"T_f89a6_row5_col1\" class=\"data row5 col1\" >int64</td>\n",
       "                        <td id=\"T_f89a6_row5_col2\" class=\"data row5 col2\" >0.0%</td>\n",
       "                        <td id=\"T_f89a6_row5_col3\" class=\"data row5 col3\" >0.1%</td>\n",
       "                                <td id=\"T_f89a6_row5_col5\" class=\"data row5 col5\" >192865</td>\n",
       "                        <td id=\"T_f89a6_row5_col6\" class=\"data row5 col6\" >46964</td>\n",
       "                        <td id=\"T_f89a6_row5_col7\" class=\"data row5 col7\" >max=999019047 | min=601 | mean=82430610.8 | dominant=43215</td>\n",
       "            </tr>\n",
       "    </tbody></table>"
      ],
      "text/plain": [
       "<pandas.io.formats.style.Styler at 0x7f8519be8040>"
      ]
     },
     "execution_count": 7,
     "metadata": {},
     "output_type": "execute_result"
    }
   ],
   "source": [
    "# set the version\n",
    "tr.set_version(VERSION)\n",
    "\n",
    "# run the pipeline\n",
    "tr.run_transition_pipeline()\n",
    "\n",
    "# report\n",
    "tr.canonical_report(tr.load_clean_canonical(), stylise=True)"
   ]
  },
  {
   "cell_type": "markdown",
   "metadata": {},
   "source": [
    "### Save Reports"
   ]
  },
  {
   "cell_type": "code",
   "execution_count": 8,
   "metadata": {},
   "outputs": [],
   "source": [
    "tr.save_report_canonical(report_connector_name=tr.REPORT_DICTIONARY, report=tr.canonical_report(tr.load_clean_canonical(), stylise=False))\n",
    "tr.save_report_canonical(report_connector_name=tr.REPORT_SUMMARY, report=tr.report_quality_summary(stylise=False))\n",
    "tr.save_report_canonical(report_connector_name=tr.REPORT_PROVENANCE, report=tr.report_provenance(stylise=False))\n",
    "tr.save_report_canonical(report_connector_name=tr.REPORT_FIELDS, report=tr.report_attributes(tr.load_clean_canonical(), stylise=False))"
   ]
  },
  {
   "cell_type": "code",
   "execution_count": null,
   "metadata": {},
   "outputs": [],
   "source": []
  }
 ],
 "metadata": {
  "kernelspec": {
   "display_name": "Python 3",
   "language": "python",
   "name": "python3"
  },
  "language_info": {
   "codemirror_mode": {
    "name": "ipython",
    "version": 3
   },
   "file_extension": ".py",
   "mimetype": "text/x-python",
   "name": "python",
   "nbconvert_exporter": "python",
   "pygments_lexer": "ipython3",
   "version": "3.8.5"
  }
 },
 "nbformat": 4,
 "nbformat_minor": 4
}
