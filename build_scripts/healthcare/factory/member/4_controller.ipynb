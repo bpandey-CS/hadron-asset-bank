{
 "cells": [
  {
   "cell_type": "code",
   "execution_count": 1,
   "metadata": {},
   "outputs": [
    {
     "name": "stdout",
     "output_type": "stream",
     "text": [
      "Foundation: 2.11.029\n",
      "Transition: 3.02.017\n"
     ]
    }
   ],
   "source": [
    "%run ../base_setup.ipynb"
   ]
  },
  {
   "cell_type": "markdown",
   "metadata": {},
   "source": [
    "----------------------\n",
    "## Controller\n",
    "----------------------"
   ]
  },
  {
   "cell_type": "code",
   "execution_count": 2,
   "metadata": {},
   "outputs": [],
   "source": [
    "controller = Controller.from_env(has_contract=False, default_save=True)"
   ]
  },
  {
   "cell_type": "code",
   "execution_count": 3,
   "metadata": {},
   "outputs": [],
   "source": [
    "controller.set_version(VERSION)"
   ]
  },
  {
   "cell_type": "code",
   "execution_count": 4,
   "metadata": {},
   "outputs": [],
   "source": [
    "controller.pm_persist()"
   ]
  },
  {
   "cell_type": "markdown",
   "metadata": {},
   "source": [
    "--------------------------\n",
    "### Synthetic Builder"
   ]
  },
  {
   "cell_type": "code",
   "execution_count": 5,
   "metadata": {},
   "outputs": [],
   "source": [
    "sample_size = 100000"
   ]
  },
  {
   "cell_type": "code",
   "execution_count": 6,
   "metadata": {},
   "outputs": [],
   "source": [
    "controller.intent_model.synthetic_builder(task_name='members', size=sample_size, intent_level='members_gen')\n",
    "controller.intent_model.synthetic_builder(task_name='practitioners', size=0, intent_level='practitioners_gen')"
   ]
  },
  {
   "cell_type": "markdown",
   "metadata": {},
   "source": [
    "--------------------------\n",
    "### Transition Builder"
   ]
  },
  {
   "cell_type": "code",
   "execution_count": 7,
   "metadata": {},
   "outputs": [],
   "source": [
    "controller.intent_model.transition(canonical=pd.DataFrame(), task_name='members', intent_level='members')\n",
    "controller.intent_model.transition(canonical=pd.DataFrame(), task_name='cln_members', intent_level='clinical_members')\n",
    "controller.intent_model.transition(canonical=pd.DataFrame(), task_name='prf_members', intent_level='pref_members')\n",
    "controller.intent_model.transition(canonical=pd.DataFrame(), task_name='ins_members', intent_level='claims_members')\n",
    "controller.intent_model.transition(canonical=pd.DataFrame(), task_name='practitioners', intent_level='practitioners')\n"
   ]
  },
  {
   "cell_type": "markdown",
   "metadata": {},
   "source": [
    "--------------------------\n",
    "### Report"
   ]
  },
  {
   "cell_type": "code",
   "execution_count": 8,
   "metadata": {},
   "outputs": [
    {
     "data": {
      "text/html": [
       "<style  type=\"text/css\" >\n",
       "    #T_733fe_ th {\n",
       "          font-size: 120%;\n",
       "          text-align: center;\n",
       "    }    #T_733fe_ .row_heading, .blank {\n",
       "          display: none;;\n",
       "    }#T_733fe_row0_col0,#T_733fe_row1_col0,#T_733fe_row2_col0,#T_733fe_row3_col0,#T_733fe_row4_col0,#T_733fe_row5_col0,#T_733fe_row6_col0{\n",
       "            text-align:  left;\n",
       "            font-weight:  bold;\n",
       "            font-size:  120%;\n",
       "        }#T_733fe_row0_col1,#T_733fe_row0_col2,#T_733fe_row0_col3,#T_733fe_row0_col4,#T_733fe_row0_col5,#T_733fe_row1_col1,#T_733fe_row1_col2,#T_733fe_row1_col3,#T_733fe_row1_col4,#T_733fe_row1_col5,#T_733fe_row2_col1,#T_733fe_row2_col2,#T_733fe_row2_col3,#T_733fe_row2_col4,#T_733fe_row2_col5,#T_733fe_row3_col1,#T_733fe_row3_col2,#T_733fe_row3_col3,#T_733fe_row3_col4,#T_733fe_row3_col5,#T_733fe_row4_col1,#T_733fe_row4_col2,#T_733fe_row4_col3,#T_733fe_row4_col4,#T_733fe_row4_col5,#T_733fe_row5_col1,#T_733fe_row5_col2,#T_733fe_row5_col3,#T_733fe_row5_col4,#T_733fe_row5_col5,#T_733fe_row6_col1,#T_733fe_row6_col2,#T_733fe_row6_col3,#T_733fe_row6_col4,#T_733fe_row6_col5{\n",
       "            text-align:  left;\n",
       "        }</style><table id=\"T_733fe_\" ><thead>    <tr>        <th class=\"blank level0\" ></th>        <th class=\"col_heading level0 col0\" >level</th>        <th class=\"col_heading level0 col1\" >order</th>        <th class=\"col_heading level0 col2\" >component</th>        <th class=\"col_heading level0 col3\" >task</th>        <th class=\"col_heading level0 col4\" >parameters</th>        <th class=\"col_heading level0 col5\" >creator</th>    </tr></thead><tbody>\n",
       "                <tr>\n",
       "                        <th id=\"T_733fe_level0_row0\" class=\"row_heading level0 row0\" >0</th>\n",
       "                        <td id=\"T_733fe_row0_col0\" class=\"data row0 col0\" >claims_members</td>\n",
       "                        <td id=\"T_733fe_row0_col1\" class=\"data row0 col1\" >0</td>\n",
       "                        <td id=\"T_733fe_row0_col2\" class=\"data row0 col2\" >transition</td>\n",
       "                        <td id=\"T_733fe_row0_col3\" class=\"data row0 col3\" >'ins_members'</td>\n",
       "                        <td id=\"T_733fe_row0_col4\" class=\"data row0 col4\" >[]</td>\n",
       "                        <td id=\"T_733fe_row0_col5\" class=\"data row0 col5\" >doatridge</td>\n",
       "            </tr>\n",
       "            <tr>\n",
       "                        <th id=\"T_733fe_level0_row1\" class=\"row_heading level0 row1\" >1</th>\n",
       "                        <td id=\"T_733fe_row1_col0\" class=\"data row1 col0\" >clinical_members</td>\n",
       "                        <td id=\"T_733fe_row1_col1\" class=\"data row1 col1\" >0</td>\n",
       "                        <td id=\"T_733fe_row1_col2\" class=\"data row1 col2\" >transition</td>\n",
       "                        <td id=\"T_733fe_row1_col3\" class=\"data row1 col3\" >'cln_members'</td>\n",
       "                        <td id=\"T_733fe_row1_col4\" class=\"data row1 col4\" >[]</td>\n",
       "                        <td id=\"T_733fe_row1_col5\" class=\"data row1 col5\" >doatridge</td>\n",
       "            </tr>\n",
       "            <tr>\n",
       "                        <th id=\"T_733fe_level0_row2\" class=\"row_heading level0 row2\" >2</th>\n",
       "                        <td id=\"T_733fe_row2_col0\" class=\"data row2 col0\" >members</td>\n",
       "                        <td id=\"T_733fe_row2_col1\" class=\"data row2 col1\" >0</td>\n",
       "                        <td id=\"T_733fe_row2_col2\" class=\"data row2 col2\" >transition</td>\n",
       "                        <td id=\"T_733fe_row2_col3\" class=\"data row2 col3\" >'members'</td>\n",
       "                        <td id=\"T_733fe_row2_col4\" class=\"data row2 col4\" >[]</td>\n",
       "                        <td id=\"T_733fe_row2_col5\" class=\"data row2 col5\" >doatridge</td>\n",
       "            </tr>\n",
       "            <tr>\n",
       "                        <th id=\"T_733fe_level0_row3\" class=\"row_heading level0 row3\" >3</th>\n",
       "                        <td id=\"T_733fe_row3_col0\" class=\"data row3 col0\" >members_gen</td>\n",
       "                        <td id=\"T_733fe_row3_col1\" class=\"data row3 col1\" >0</td>\n",
       "                        <td id=\"T_733fe_row3_col2\" class=\"data row3 col2\" >SyntheticBuilder</td>\n",
       "                        <td id=\"T_733fe_row3_col3\" class=\"data row3 col3\" >'members'</td>\n",
       "                        <td id=\"T_733fe_row3_col4\" class=\"data row3 col4\" >['size=100000']</td>\n",
       "                        <td id=\"T_733fe_row3_col5\" class=\"data row3 col5\" >doatridge</td>\n",
       "            </tr>\n",
       "            <tr>\n",
       "                        <th id=\"T_733fe_level0_row4\" class=\"row_heading level0 row4\" >4</th>\n",
       "                        <td id=\"T_733fe_row4_col0\" class=\"data row4 col0\" >practitioners</td>\n",
       "                        <td id=\"T_733fe_row4_col1\" class=\"data row4 col1\" >0</td>\n",
       "                        <td id=\"T_733fe_row4_col2\" class=\"data row4 col2\" >transition</td>\n",
       "                        <td id=\"T_733fe_row4_col3\" class=\"data row4 col3\" >'practitioners'</td>\n",
       "                        <td id=\"T_733fe_row4_col4\" class=\"data row4 col4\" >[]</td>\n",
       "                        <td id=\"T_733fe_row4_col5\" class=\"data row4 col5\" >doatridge</td>\n",
       "            </tr>\n",
       "            <tr>\n",
       "                        <th id=\"T_733fe_level0_row5\" class=\"row_heading level0 row5\" >5</th>\n",
       "                        <td id=\"T_733fe_row5_col0\" class=\"data row5 col0\" >practitioners_gen</td>\n",
       "                        <td id=\"T_733fe_row5_col1\" class=\"data row5 col1\" >0</td>\n",
       "                        <td id=\"T_733fe_row5_col2\" class=\"data row5 col2\" >SyntheticBuilder</td>\n",
       "                        <td id=\"T_733fe_row5_col3\" class=\"data row5 col3\" >'practitioners'</td>\n",
       "                        <td id=\"T_733fe_row5_col4\" class=\"data row5 col4\" >['size=0']</td>\n",
       "                        <td id=\"T_733fe_row5_col5\" class=\"data row5 col5\" >doatridge</td>\n",
       "            </tr>\n",
       "            <tr>\n",
       "                        <th id=\"T_733fe_level0_row6\" class=\"row_heading level0 row6\" >6</th>\n",
       "                        <td id=\"T_733fe_row6_col0\" class=\"data row6 col0\" >pref_members</td>\n",
       "                        <td id=\"T_733fe_row6_col1\" class=\"data row6 col1\" >0</td>\n",
       "                        <td id=\"T_733fe_row6_col2\" class=\"data row6 col2\" >transition</td>\n",
       "                        <td id=\"T_733fe_row6_col3\" class=\"data row6 col3\" >'prf_members'</td>\n",
       "                        <td id=\"T_733fe_row6_col4\" class=\"data row6 col4\" >[]</td>\n",
       "                        <td id=\"T_733fe_row6_col5\" class=\"data row6 col5\" >doatridge</td>\n",
       "            </tr>\n",
       "    </tbody></table>"
      ],
      "text/plain": [
       "<pandas.io.formats.style.Styler at 0x7ff0ef3cca60>"
      ]
     },
     "execution_count": 8,
     "metadata": {},
     "output_type": "execute_result"
    }
   ],
   "source": [
    "controller.report_tasks()"
   ]
  },
  {
   "cell_type": "code",
   "execution_count": 10,
   "metadata": {},
   "outputs": [],
   "source": [
    "controller.run_controller()"
   ]
  },
  {
   "cell_type": "code",
   "execution_count": null,
   "metadata": {},
   "outputs": [],
   "source": []
  }
 ],
 "metadata": {
  "kernelspec": {
   "display_name": "Python 3",
   "language": "python",
   "name": "python3"
  },
  "language_info": {
   "codemirror_mode": {
    "name": "ipython",
    "version": 3
   },
   "file_extension": ".py",
   "mimetype": "text/x-python",
   "name": "python",
   "nbconvert_exporter": "python",
   "pygments_lexer": "ipython3",
   "version": "3.8.5"
  }
 },
 "nbformat": 4,
 "nbformat_minor": 4
}
