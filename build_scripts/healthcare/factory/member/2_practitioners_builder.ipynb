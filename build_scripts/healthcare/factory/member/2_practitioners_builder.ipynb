{
 "cells": [
  {
   "cell_type": "code",
   "execution_count": 1,
   "id": "perfect-array",
   "metadata": {},
   "outputs": [
    {
     "name": "stdout",
     "output_type": "stream",
     "text": [
      "Foundation: 2.11.018\n",
      "Transition: 3.01.005\n",
      "Engines   : 2.03.028\n"
     ]
    }
   ],
   "source": [
    "%run ../base_setup.ipynb"
   ]
  },
  {
   "cell_type": "code",
   "execution_count": 2,
   "id": "advance-found",
   "metadata": {},
   "outputs": [],
   "source": [
    "# task grouping name\n",
    "task_name = 'practitioners'"
   ]
  },
  {
   "cell_type": "markdown",
   "id": "registered-namibia",
   "metadata": {},
   "source": [
    "-------------------------\n",
    "## Synthetic Builder"
   ]
  },
  {
   "cell_type": "code",
   "execution_count": 3,
   "id": "thirty-fairy",
   "metadata": {},
   "outputs": [],
   "source": [
    "builder = SyntheticBuilder.from_env(task_name)"
   ]
  },
  {
   "cell_type": "code",
   "execution_count": 4,
   "id": "mathematical-volleyball",
   "metadata": {},
   "outputs": [],
   "source": [
    "tools = builder.intent_model"
   ]
  },
  {
   "cell_type": "code",
   "execution_count": 5,
   "id": "occupational-plain",
   "metadata": {},
   "outputs": [],
   "source": [
    "builder.pm.reset_intents()\n",
    "builder.pm_persist()"
   ]
  },
  {
   "cell_type": "markdown",
   "id": "surface-startup",
   "metadata": {},
   "source": [
    "-----------\n",
    "### Distribution elements"
   ]
  },
  {
   "cell_type": "code",
   "execution_count": 6,
   "id": "enclosed-manhattan",
   "metadata": {},
   "outputs": [],
   "source": [
    "df = tools.model_sample_map(canonical=\"@empty\", sample_map='us_healthcare_practitioner', column_name='practitioners')"
   ]
  },
  {
   "cell_type": "markdown",
   "id": "treated-journalism",
   "metadata": {},
   "source": [
    "## Run the Pipeline show the Canonical Report"
   ]
  },
  {
   "cell_type": "code",
   "execution_count": 7,
   "id": "extraordinary-basis",
   "metadata": {},
   "outputs": [
    {
     "data": {
      "text/html": [
       "<style  type=\"text/css\" >\n",
       "    #T_33c13_ th {\n",
       "          font-size: 120%;\n",
       "          text-align: center;\n",
       "    }    #T_33c13_ .row_heading, .blank {\n",
       "          display: none;;\n",
       "    }#T_33c13_row0_col0,#T_33c13_row1_col0,#T_33c13_row2_col0,#T_33c13_row3_col0,#T_33c13_row4_col0,#T_33c13_row5_col0{\n",
       "            font-weight:  bold;\n",
       "            font-size:  120%;\n",
       "        }#T_33c13_row0_col2,#T_33c13_row0_col3,#T_33c13_row0_col6,#T_33c13_row1_col2,#T_33c13_row1_col3,#T_33c13_row1_col6,#T_33c13_row2_col2,#T_33c13_row2_col3,#T_33c13_row2_col6,#T_33c13_row3_col2,#T_33c13_row3_col3,#T_33c13_row3_col6,#T_33c13_row4_col2,#T_33c13_row4_col3,#T_33c13_row5_col2,#T_33c13_row5_col3,#T_33c13_row5_col6{\n",
       "            color:  black;\n",
       "        }#T_33c13_row0_col4,#T_33c13_row1_col4,#T_33c13_row2_col4,#T_33c13_row3_col4,#T_33c13_row5_col4{\n",
       "            background-color:  #ec382b;\n",
       "            color:  white;\n",
       "        }#T_33c13_row3_col1{\n",
       "            color:  #0f398a;\n",
       "        }#T_33c13_row4_col4{\n",
       "            background-color:  #fdcdb9;\n",
       "            color:  black;\n",
       "        }#T_33c13_row4_col6{\n",
       "            background-color:  #f0f9ed;\n",
       "            color:  black;\n",
       "        }</style><table id=\"T_33c13_\" ><caption>%_Dom: The % most dominant element</caption><thead>    <tr>        <th class=\"blank level0\" ></th>        <th class=\"col_heading level0 col0\" >Attributes (6)</th>        <th class=\"col_heading level0 col1\" >dType</th>        <th class=\"col_heading level0 col2\" >%_Null</th>        <th class=\"col_heading level0 col3\" >%_Dom</th>        <th class=\"col_heading level0 col5\" >Count</th>        <th class=\"col_heading level0 col6\" >Unique</th>        <th class=\"col_heading level0 col7\" >Observations</th>    </tr></thead><tbody>\n",
       "                <tr>\n",
       "                        <th id=\"T_33c13_level0_row0\" class=\"row_heading level0 row0\" >0</th>\n",
       "                        <td id=\"T_33c13_row0_col0\" class=\"data row0 col0\" >address</td>\n",
       "                        <td id=\"T_33c13_row0_col1\" class=\"data row0 col1\" >object</td>\n",
       "                        <td id=\"T_33c13_row0_col2\" class=\"data row0 col2\" >0.0%</td>\n",
       "                        <td id=\"T_33c13_row0_col3\" class=\"data row0 col3\" >0.0%</td>\n",
       "                                <td id=\"T_33c13_row0_col5\" class=\"data row0 col5\" >192865</td>\n",
       "                        <td id=\"T_33c13_row0_col6\" class=\"data row0 col6\" >180185</td>\n",
       "                        <td id=\"T_33c13_row0_col7\" class=\"data row0 col7\" >Sample: 100 N Main St | 101 N Main St | 101 S Main St | 100 E Main St | 1 Main St</td>\n",
       "            </tr>\n",
       "            <tr>\n",
       "                        <th id=\"T_33c13_level0_row1\" class=\"row_heading level0 row1\" >1</th>\n",
       "                        <td id=\"T_33c13_row1_col0\" class=\"data row1 col0\" >city</td>\n",
       "                        <td id=\"T_33c13_row1_col1\" class=\"data row1 col1\" >object</td>\n",
       "                        <td id=\"T_33c13_row1_col2\" class=\"data row1 col2\" >0.0%</td>\n",
       "                        <td id=\"T_33c13_row1_col3\" class=\"data row1 col3\" >1.3%</td>\n",
       "                                <td id=\"T_33c13_row1_col5\" class=\"data row1 col5\" >192865</td>\n",
       "                        <td id=\"T_33c13_row1_col6\" class=\"data row1 col6\" >9691</td>\n",
       "                        <td id=\"T_33c13_row1_col7\" class=\"data row1 col7\" >Sample: Houston | Chicago | Dallas | Atlanta | New York</td>\n",
       "            </tr>\n",
       "            <tr>\n",
       "                        <th id=\"T_33c13_level0_row2\" class=\"row_heading level0 row2\" >2</th>\n",
       "                        <td id=\"T_33c13_row2_col0\" class=\"data row2 col0\" >name</td>\n",
       "                        <td id=\"T_33c13_row2_col1\" class=\"data row2 col1\" >object</td>\n",
       "                        <td id=\"T_33c13_row2_col2\" class=\"data row2 col2\" >0.0%</td>\n",
       "                        <td id=\"T_33c13_row2_col3\" class=\"data row2 col3\" >0.0%</td>\n",
       "                                <td id=\"T_33c13_row2_col5\" class=\"data row2 col5\" >192865</td>\n",
       "                        <td id=\"T_33c13_row2_col6\" class=\"data row2 col6\" >192860</td>\n",
       "                        <td id=\"T_33c13_row2_col7\" class=\"data row2 col7\" >Sample: Quin Rappa MD | Giff Beckham MD | Christoffer Ellenburg MD | Kvon Flaugher MD | Barnett Vanl...</td>\n",
       "            </tr>\n",
       "            <tr>\n",
       "                        <th id=\"T_33c13_level0_row3\" class=\"row_heading level0 row3\" >3</th>\n",
       "                        <td id=\"T_33c13_row3_col0\" class=\"data row3 col0\" >pcp_tax_id</td>\n",
       "                        <td id=\"T_33c13_row3_col1\" class=\"data row3 col1\" >int64</td>\n",
       "                        <td id=\"T_33c13_row3_col2\" class=\"data row3 col2\" >0.0%</td>\n",
       "                        <td id=\"T_33c13_row3_col3\" class=\"data row3 col3\" >0.0%</td>\n",
       "                                <td id=\"T_33c13_row3_col5\" class=\"data row3 col5\" >192865</td>\n",
       "                        <td id=\"T_33c13_row3_col6\" class=\"data row3 col6\" >192865</td>\n",
       "                        <td id=\"T_33c13_row3_col7\" class=\"data row3 col7\" >max=899996384 | min=100000988 | mean=499998474.77 | dominant=[100000988, 100004292]</td>\n",
       "            </tr>\n",
       "            <tr>\n",
       "                        <th id=\"T_33c13_level0_row4\" class=\"row_heading level0 row4\" >4</th>\n",
       "                        <td id=\"T_33c13_row4_col0\" class=\"data row4 col0\" >state</td>\n",
       "                        <td id=\"T_33c13_row4_col1\" class=\"data row4 col1\" >object</td>\n",
       "                        <td id=\"T_33c13_row4_col2\" class=\"data row4 col2\" >0.0%</td>\n",
       "                        <td id=\"T_33c13_row4_col3\" class=\"data row4 col3\" >10.2%</td>\n",
       "                                <td id=\"T_33c13_row4_col5\" class=\"data row4 col5\" >192865</td>\n",
       "                        <td id=\"T_33c13_row4_col6\" class=\"data row4 col6\" >56</td>\n",
       "                        <td id=\"T_33c13_row4_col7\" class=\"data row4 col7\" >Sample: CA | TX | FL | NY | IL</td>\n",
       "            </tr>\n",
       "            <tr>\n",
       "                        <th id=\"T_33c13_level0_row5\" class=\"row_heading level0 row5\" >5</th>\n",
       "                        <td id=\"T_33c13_row5_col0\" class=\"data row5 col0\" >zipcode</td>\n",
       "                        <td id=\"T_33c13_row5_col1\" class=\"data row5 col1\" >object</td>\n",
       "                        <td id=\"T_33c13_row5_col2\" class=\"data row5 col2\" >0.0%</td>\n",
       "                        <td id=\"T_33c13_row5_col3\" class=\"data row5 col3\" >0.1%</td>\n",
       "                                <td id=\"T_33c13_row5_col5\" class=\"data row5 col5\" >192865</td>\n",
       "                        <td id=\"T_33c13_row5_col6\" class=\"data row5 col6\" >46964</td>\n",
       "                        <td id=\"T_33c13_row5_col7\" class=\"data row5 col7\" >Sample: 43215 | 30339 | 45202 | 80202 | 07054</td>\n",
       "            </tr>\n",
       "    </tbody></table>"
      ],
      "text/plain": [
       "<pandas.io.formats.style.Styler at 0x7fc7cf3bc3a0>"
      ]
     },
     "execution_count": 7,
     "metadata": {},
     "output_type": "execute_result"
    }
   ],
   "source": [
    "# run the pipeline\n",
    "builder.run_synthetic_pipeline(size=1)\n",
    "\n",
    "# report the stored schema\n",
    "builder.canonical_report(builder.load_synthetic_canonical(), stylise=True)"
   ]
  },
  {
   "cell_type": "markdown",
   "id": "civilian-bobby",
   "metadata": {},
   "source": [
    "-------------------------\n",
    "-------------------------\n",
    "## Members Transition"
   ]
  },
  {
   "cell_type": "code",
   "execution_count": 8,
   "id": "retained-lender",
   "metadata": {},
   "outputs": [],
   "source": [
    "tr = Transition.from_env('practitioners')"
   ]
  },
  {
   "cell_type": "code",
   "execution_count": 9,
   "id": "dated-interval",
   "metadata": {},
   "outputs": [],
   "source": [
    "tr.pm.reset_intents()\n",
    "tr.pm_persist()"
   ]
  },
  {
   "cell_type": "code",
   "execution_count": 10,
   "id": "prerequisite-processing",
   "metadata": {},
   "outputs": [],
   "source": [
    "df = tr.load_source_canonical()"
   ]
  },
  {
   "cell_type": "code",
   "execution_count": 11,
   "id": "charming-interpretation",
   "metadata": {},
   "outputs": [],
   "source": [
    "# clean the data\n",
    "tr.cleaners.auto_clean_header(df, inplace=True)\n",
    "tr.cleaners.auto_transition(df, inplace=True)"
   ]
  },
  {
   "cell_type": "code",
   "execution_count": 12,
   "id": "persistent-topic",
   "metadata": {},
   "outputs": [],
   "source": [
    "tr.add_notes(catalog='attributes', label='name', text='The name and title of the practitioner')\n",
    "tr.add_notes(catalog='attributes', label='pcp_tax_id', text='The unique reference code for the practitioner')\n",
    "tr.add_notes(catalog='attributes', label='state', text='The state where the practitioner is')\n",
    "tr.add_notes(catalog='attributes', label='zipcode', text='The zipcode for the practitioner')\n",
    "tr.add_notes(catalog='attributes', label='city', text='The city where the practitioner is')\n",
    "tr.add_notes(catalog='attributes', label='address', text='The street address of the practitioner')"
   ]
  },
  {
   "cell_type": "markdown",
   "id": "romantic-headline",
   "metadata": {},
   "source": [
    "## Run the Pipeline  save the Schema and show the Schema Report"
   ]
  },
  {
   "cell_type": "code",
   "execution_count": 13,
   "id": "sonic-message",
   "metadata": {},
   "outputs": [
    {
     "data": {
      "text/html": [
       "<style  type=\"text/css\" >\n",
       "    #T_65301_ th {\n",
       "          font-size: 120%;\n",
       "          text-align: center;\n",
       "    }    #T_65301_ .row_heading, .blank {\n",
       "          display: none;;\n",
       "    }#T_65301_row0_col0,#T_65301_row1_col0,#T_65301_row2_col0,#T_65301_row3_col0,#T_65301_row4_col0,#T_65301_row5_col0{\n",
       "            font-weight:  bold;\n",
       "            font-size:  120%;\n",
       "        }#T_65301_row0_col2,#T_65301_row0_col3,#T_65301_row0_col6,#T_65301_row1_col2,#T_65301_row1_col3,#T_65301_row1_col6,#T_65301_row2_col2,#T_65301_row2_col3,#T_65301_row2_col6,#T_65301_row3_col2,#T_65301_row3_col3,#T_65301_row3_col6,#T_65301_row4_col2,#T_65301_row4_col3,#T_65301_row5_col2,#T_65301_row5_col3,#T_65301_row5_col6{\n",
       "            color:  black;\n",
       "        }#T_65301_row0_col4,#T_65301_row1_col4,#T_65301_row2_col4,#T_65301_row3_col4,#T_65301_row5_col4{\n",
       "            background-color:  #ec382b;\n",
       "            color:  white;\n",
       "        }#T_65301_row3_col1,#T_65301_row5_col1{\n",
       "            color:  #0f398a;\n",
       "        }#T_65301_row4_col1{\n",
       "            color:  #208a0f;\n",
       "        }#T_65301_row4_col4{\n",
       "            background-color:  #fdcdb9;\n",
       "            color:  black;\n",
       "        }#T_65301_row4_col6{\n",
       "            background-color:  #f0f9ed;\n",
       "            color:  black;\n",
       "        }</style><table id=\"T_65301_\" ><caption>%_Dom: The % most dominant element</caption><thead>    <tr>        <th class=\"blank level0\" ></th>        <th class=\"col_heading level0 col0\" >Attributes (6)</th>        <th class=\"col_heading level0 col1\" >dType</th>        <th class=\"col_heading level0 col2\" >%_Null</th>        <th class=\"col_heading level0 col3\" >%_Dom</th>        <th class=\"col_heading level0 col5\" >Count</th>        <th class=\"col_heading level0 col6\" >Unique</th>        <th class=\"col_heading level0 col7\" >Observations</th>    </tr></thead><tbody>\n",
       "                <tr>\n",
       "                        <th id=\"T_65301_level0_row0\" class=\"row_heading level0 row0\" >0</th>\n",
       "                        <td id=\"T_65301_row0_col0\" class=\"data row0 col0\" >address</td>\n",
       "                        <td id=\"T_65301_row0_col1\" class=\"data row0 col1\" >object</td>\n",
       "                        <td id=\"T_65301_row0_col2\" class=\"data row0 col2\" >0.0%</td>\n",
       "                        <td id=\"T_65301_row0_col3\" class=\"data row0 col3\" >0.0%</td>\n",
       "                                <td id=\"T_65301_row0_col5\" class=\"data row0 col5\" >192865</td>\n",
       "                        <td id=\"T_65301_row0_col6\" class=\"data row0 col6\" >180185</td>\n",
       "                        <td id=\"T_65301_row0_col7\" class=\"data row0 col7\" >Sample: 100 N Main St | 101 N Main St | 101 S Main St | 100 E Main St | 1 Main St</td>\n",
       "            </tr>\n",
       "            <tr>\n",
       "                        <th id=\"T_65301_level0_row1\" class=\"row_heading level0 row1\" >1</th>\n",
       "                        <td id=\"T_65301_row1_col0\" class=\"data row1 col0\" >city</td>\n",
       "                        <td id=\"T_65301_row1_col1\" class=\"data row1 col1\" >object</td>\n",
       "                        <td id=\"T_65301_row1_col2\" class=\"data row1 col2\" >0.0%</td>\n",
       "                        <td id=\"T_65301_row1_col3\" class=\"data row1 col3\" >1.3%</td>\n",
       "                                <td id=\"T_65301_row1_col5\" class=\"data row1 col5\" >192865</td>\n",
       "                        <td id=\"T_65301_row1_col6\" class=\"data row1 col6\" >9691</td>\n",
       "                        <td id=\"T_65301_row1_col7\" class=\"data row1 col7\" >Sample: Houston | Chicago | Dallas | Atlanta | New York</td>\n",
       "            </tr>\n",
       "            <tr>\n",
       "                        <th id=\"T_65301_level0_row2\" class=\"row_heading level0 row2\" >2</th>\n",
       "                        <td id=\"T_65301_row2_col0\" class=\"data row2 col0\" >name</td>\n",
       "                        <td id=\"T_65301_row2_col1\" class=\"data row2 col1\" >object</td>\n",
       "                        <td id=\"T_65301_row2_col2\" class=\"data row2 col2\" >0.0%</td>\n",
       "                        <td id=\"T_65301_row2_col3\" class=\"data row2 col3\" >0.0%</td>\n",
       "                                <td id=\"T_65301_row2_col5\" class=\"data row2 col5\" >192865</td>\n",
       "                        <td id=\"T_65301_row2_col6\" class=\"data row2 col6\" >192860</td>\n",
       "                        <td id=\"T_65301_row2_col7\" class=\"data row2 col7\" >Sample: Quin Rappa MD | Giff Beckham MD | Christoffer Ellenburg MD | Kvon Flaugher MD | Barnett Vanl...</td>\n",
       "            </tr>\n",
       "            <tr>\n",
       "                        <th id=\"T_65301_level0_row3\" class=\"row_heading level0 row3\" >3</th>\n",
       "                        <td id=\"T_65301_row3_col0\" class=\"data row3 col0\" >pcp_tax_id</td>\n",
       "                        <td id=\"T_65301_row3_col1\" class=\"data row3 col1\" >int64</td>\n",
       "                        <td id=\"T_65301_row3_col2\" class=\"data row3 col2\" >0.0%</td>\n",
       "                        <td id=\"T_65301_row3_col3\" class=\"data row3 col3\" >0.0%</td>\n",
       "                                <td id=\"T_65301_row3_col5\" class=\"data row3 col5\" >192865</td>\n",
       "                        <td id=\"T_65301_row3_col6\" class=\"data row3 col6\" >192865</td>\n",
       "                        <td id=\"T_65301_row3_col7\" class=\"data row3 col7\" >max=899996384 | min=100000988 | mean=499998474.77 | dominant=[100000988, 100004292]</td>\n",
       "            </tr>\n",
       "            <tr>\n",
       "                        <th id=\"T_65301_level0_row4\" class=\"row_heading level0 row4\" >4</th>\n",
       "                        <td id=\"T_65301_row4_col0\" class=\"data row4 col0\" >state</td>\n",
       "                        <td id=\"T_65301_row4_col1\" class=\"data row4 col1\" >category</td>\n",
       "                        <td id=\"T_65301_row4_col2\" class=\"data row4 col2\" >0.0%</td>\n",
       "                        <td id=\"T_65301_row4_col3\" class=\"data row4 col3\" >10.2%</td>\n",
       "                                <td id=\"T_65301_row4_col5\" class=\"data row4 col5\" >192865</td>\n",
       "                        <td id=\"T_65301_row4_col6\" class=\"data row4 col6\" >56</td>\n",
       "                        <td id=\"T_65301_row4_col7\" class=\"data row4 col7\" >Sample: CA | TX | FL | NY | IL</td>\n",
       "            </tr>\n",
       "            <tr>\n",
       "                        <th id=\"T_65301_level0_row5\" class=\"row_heading level0 row5\" >5</th>\n",
       "                        <td id=\"T_65301_row5_col0\" class=\"data row5 col0\" >zipcode</td>\n",
       "                        <td id=\"T_65301_row5_col1\" class=\"data row5 col1\" >int64</td>\n",
       "                        <td id=\"T_65301_row5_col2\" class=\"data row5 col2\" >0.0%</td>\n",
       "                        <td id=\"T_65301_row5_col3\" class=\"data row5 col3\" >0.1%</td>\n",
       "                                <td id=\"T_65301_row5_col5\" class=\"data row5 col5\" >192865</td>\n",
       "                        <td id=\"T_65301_row5_col6\" class=\"data row5 col6\" >46964</td>\n",
       "                        <td id=\"T_65301_row5_col7\" class=\"data row5 col7\" >max=999019047 | min=601 | mean=82430610.8 | dominant=43215</td>\n",
       "            </tr>\n",
       "    </tbody></table>"
      ],
      "text/plain": [
       "<pandas.io.formats.style.Styler at 0x7fc7b5d57dc0>"
      ]
     },
     "execution_count": 13,
     "metadata": {},
     "output_type": "execute_result"
    }
   ],
   "source": [
    "# run the pipeline\n",
    "tr.run_transition_pipeline()\n",
    "\n",
    "# report the stored schema\n",
    "tr.canonical_report(tr.load_clean_canonical(), stylise=True)"
   ]
  },
  {
   "cell_type": "code",
   "execution_count": 14,
   "id": "wrong-jurisdiction",
   "metadata": {},
   "outputs": [
    {
     "data": {
      "text/html": [
       "<style  type=\"text/css\" >\n",
       "    #T_c78d4_ th {\n",
       "          font-size: 120%;\n",
       "          text-align: center;\n",
       "    }    #T_c78d4_ .row_heading, .blank {\n",
       "          display: none;;\n",
       "    }#T_c78d4_row0_col0,#T_c78d4_row1_col0,#T_c78d4_row2_col0,#T_c78d4_row3_col0,#T_c78d4_row4_col0,#T_c78d4_row5_col0{\n",
       "            font-weight:  bold;\n",
       "            font-size:  120%;\n",
       "        }#T_c78d4_row0_col2,#T_c78d4_row1_col2,#T_c78d4_row2_col2,#T_c78d4_row3_col2,#T_c78d4_row4_col2,#T_c78d4_row5_col2{\n",
       "            text-align:  left;\n",
       "        }#T_c78d4_row3_col1,#T_c78d4_row5_col1{\n",
       "            color:  #0f398a;\n",
       "        }#T_c78d4_row4_col1{\n",
       "            color:  #208a0f;\n",
       "        }</style><table id=\"T_c78d4_\" ><thead>    <tr>        <th class=\"blank level0\" ></th>        <th class=\"col_heading level0 col0\" >Attributes (6)</th>        <th class=\"col_heading level0 col1\" >dType</th>        <th class=\"col_heading level0 col2\" >Description</th>    </tr></thead><tbody>\n",
       "                <tr>\n",
       "                        <th id=\"T_c78d4_level0_row0\" class=\"row_heading level0 row0\" >0</th>\n",
       "                        <td id=\"T_c78d4_row0_col0\" class=\"data row0 col0\" >address</td>\n",
       "                        <td id=\"T_c78d4_row0_col1\" class=\"data row0 col1\" >object</td>\n",
       "                        <td id=\"T_c78d4_row0_col2\" class=\"data row0 col2\" >The street address of the practitioner</td>\n",
       "            </tr>\n",
       "            <tr>\n",
       "                        <th id=\"T_c78d4_level0_row1\" class=\"row_heading level0 row1\" >1</th>\n",
       "                        <td id=\"T_c78d4_row1_col0\" class=\"data row1 col0\" >city</td>\n",
       "                        <td id=\"T_c78d4_row1_col1\" class=\"data row1 col1\" >object</td>\n",
       "                        <td id=\"T_c78d4_row1_col2\" class=\"data row1 col2\" >The city where the practitioner is</td>\n",
       "            </tr>\n",
       "            <tr>\n",
       "                        <th id=\"T_c78d4_level0_row2\" class=\"row_heading level0 row2\" >2</th>\n",
       "                        <td id=\"T_c78d4_row2_col0\" class=\"data row2 col0\" >name</td>\n",
       "                        <td id=\"T_c78d4_row2_col1\" class=\"data row2 col1\" >object</td>\n",
       "                        <td id=\"T_c78d4_row2_col2\" class=\"data row2 col2\" >The name and title of the practitioner</td>\n",
       "            </tr>\n",
       "            <tr>\n",
       "                        <th id=\"T_c78d4_level0_row3\" class=\"row_heading level0 row3\" >3</th>\n",
       "                        <td id=\"T_c78d4_row3_col0\" class=\"data row3 col0\" >pcp_tax_id</td>\n",
       "                        <td id=\"T_c78d4_row3_col1\" class=\"data row3 col1\" >int64</td>\n",
       "                        <td id=\"T_c78d4_row3_col2\" class=\"data row3 col2\" >The unique reference code for the practitioner</td>\n",
       "            </tr>\n",
       "            <tr>\n",
       "                        <th id=\"T_c78d4_level0_row4\" class=\"row_heading level0 row4\" >4</th>\n",
       "                        <td id=\"T_c78d4_row4_col0\" class=\"data row4 col0\" >state</td>\n",
       "                        <td id=\"T_c78d4_row4_col1\" class=\"data row4 col1\" >category</td>\n",
       "                        <td id=\"T_c78d4_row4_col2\" class=\"data row4 col2\" >The state where the practitioner is</td>\n",
       "            </tr>\n",
       "            <tr>\n",
       "                        <th id=\"T_c78d4_level0_row5\" class=\"row_heading level0 row5\" >5</th>\n",
       "                        <td id=\"T_c78d4_row5_col0\" class=\"data row5 col0\" >zipcode</td>\n",
       "                        <td id=\"T_c78d4_row5_col1\" class=\"data row5 col1\" >int64</td>\n",
       "                        <td id=\"T_c78d4_row5_col2\" class=\"data row5 col2\" >The zipcode for the practitioner</td>\n",
       "            </tr>\n",
       "    </tbody></table>"
      ],
      "text/plain": [
       "<pandas.io.formats.style.Styler at 0x7fc7b450b610>"
      ]
     },
     "execution_count": 14,
     "metadata": {},
     "output_type": "execute_result"
    }
   ],
   "source": [
    "tr.report_attributes(tr.load_clean_canonical(), stylise=True)"
   ]
  },
  {
   "cell_type": "code",
   "execution_count": null,
   "id": "offensive-arbitration",
   "metadata": {},
   "outputs": [],
   "source": []
  }
 ],
 "metadata": {
  "kernelspec": {
   "display_name": "Python 3",
   "language": "python",
   "name": "python3"
  },
  "language_info": {
   "codemirror_mode": {
    "name": "ipython",
    "version": 3
   },
   "file_extension": ".py",
   "mimetype": "text/x-python",
   "name": "python",
   "nbconvert_exporter": "python",
   "pygments_lexer": "ipython3",
   "version": "3.8.5"
  }
 },
 "nbformat": 4,
 "nbformat_minor": 5
}
