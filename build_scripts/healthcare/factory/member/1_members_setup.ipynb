{
 "cells": [
  {
   "cell_type": "code",
   "execution_count": 1,
   "metadata": {},
   "outputs": [
    {
     "name": "stdout",
     "output_type": "stream",
     "text": [
      "Foundation: 2.11.003\n",
      "Transition: 2.11.010\n",
      "Engines   : 2.03.022\n",
      "Behavioral: 2.06.020\n"
     ]
    }
   ],
   "source": [
    "%run ../base_setup.ipynb"
   ]
  },
  {
   "cell_type": "code",
   "execution_count": 2,
   "metadata": {},
   "outputs": [],
   "source": [
    "# Build status\n",
    "has_contract = False\n",
    "default_save = True\n",
    "\n",
    "# task grouping name\n",
    "task_name = 'members'\n",
    "transition_prefix = ['', 'hello_world_']"
   ]
  },
  {
   "cell_type": "markdown",
   "metadata": {},
   "source": [
    "--------------------\n",
    "--------------------\n",
    "## Synthetic setup"
   ]
  },
  {
   "cell_type": "code",
   "execution_count": 3,
   "metadata": {},
   "outputs": [],
   "source": [
    "builder = SyntheticBuilder.from_env(task_name, default_save=default_save, has_contract=has_contract)\n",
    "builder.set_version(VERSION)\n",
    "builder.setup_bootstrap(domain=domain, project_name=project_name, path=None)"
   ]
  },
  {
   "cell_type": "code",
   "execution_count": 4,
   "metadata": {},
   "outputs": [
    {
     "data": {
      "text/html": [
       "<style  type=\"text/css\" >\n",
       "    #T_8dd4715c_54de_11eb_a80d_784f439cb1c6 th {\n",
       "          font-size: 120%;\n",
       "          text-align: center;\n",
       "    }    #T_8dd4715c_54de_11eb_a80d_784f439cb1c6 .row_heading, .blank {\n",
       "          display: none;;\n",
       "    }#T_8dd4715c_54de_11eb_a80d_784f439cb1c6row0_col0,#T_8dd4715c_54de_11eb_a80d_784f439cb1c6row1_col0,#T_8dd4715c_54de_11eb_a80d_784f439cb1c6row2_col0,#T_8dd4715c_54de_11eb_a80d_784f439cb1c6row3_col0{\n",
       "            text-align:  left;\n",
       "            font-weight:  bold;\n",
       "            font-size:  120%;\n",
       "        }#T_8dd4715c_54de_11eb_a80d_784f439cb1c6row0_col1,#T_8dd4715c_54de_11eb_a80d_784f439cb1c6row0_col2,#T_8dd4715c_54de_11eb_a80d_784f439cb1c6row0_col3,#T_8dd4715c_54de_11eb_a80d_784f439cb1c6row0_col4,#T_8dd4715c_54de_11eb_a80d_784f439cb1c6row0_col5,#T_8dd4715c_54de_11eb_a80d_784f439cb1c6row0_col6,#T_8dd4715c_54de_11eb_a80d_784f439cb1c6row0_col7,#T_8dd4715c_54de_11eb_a80d_784f439cb1c6row1_col1,#T_8dd4715c_54de_11eb_a80d_784f439cb1c6row1_col2,#T_8dd4715c_54de_11eb_a80d_784f439cb1c6row1_col3,#T_8dd4715c_54de_11eb_a80d_784f439cb1c6row1_col4,#T_8dd4715c_54de_11eb_a80d_784f439cb1c6row1_col5,#T_8dd4715c_54de_11eb_a80d_784f439cb1c6row1_col6,#T_8dd4715c_54de_11eb_a80d_784f439cb1c6row1_col7,#T_8dd4715c_54de_11eb_a80d_784f439cb1c6row2_col1,#T_8dd4715c_54de_11eb_a80d_784f439cb1c6row2_col2,#T_8dd4715c_54de_11eb_a80d_784f439cb1c6row2_col3,#T_8dd4715c_54de_11eb_a80d_784f439cb1c6row2_col4,#T_8dd4715c_54de_11eb_a80d_784f439cb1c6row2_col5,#T_8dd4715c_54de_11eb_a80d_784f439cb1c6row2_col6,#T_8dd4715c_54de_11eb_a80d_784f439cb1c6row2_col7,#T_8dd4715c_54de_11eb_a80d_784f439cb1c6row3_col1,#T_8dd4715c_54de_11eb_a80d_784f439cb1c6row3_col2,#T_8dd4715c_54de_11eb_a80d_784f439cb1c6row3_col3,#T_8dd4715c_54de_11eb_a80d_784f439cb1c6row3_col4,#T_8dd4715c_54de_11eb_a80d_784f439cb1c6row3_col5,#T_8dd4715c_54de_11eb_a80d_784f439cb1c6row3_col6,#T_8dd4715c_54de_11eb_a80d_784f439cb1c6row3_col7{\n",
       "            text-align:  left;\n",
       "        }</style><table id=\"T_8dd4715c_54de_11eb_a80d_784f439cb1c6\" ><thead>    <tr>        <th class=\"blank level0\" ></th>        <th class=\"col_heading level0 col0\" >connector_name</th>        <th class=\"col_heading level0 col1\" >uri</th>        <th class=\"col_heading level0 col2\" >module_name</th>        <th class=\"col_heading level0 col3\" >handler</th>        <th class=\"col_heading level0 col4\" >version</th>        <th class=\"col_heading level0 col5\" >kwargs</th>        <th class=\"col_heading level0 col6\" >query</th>        <th class=\"col_heading level0 col7\" >aligned</th>    </tr></thead><tbody>\n",
       "                <tr>\n",
       "                        <th id=\"T_8dd4715c_54de_11eb_a80d_784f439cb1c6level0_row0\" class=\"row_heading level0 row0\" >0</th>\n",
       "                        <td id=\"T_8dd4715c_54de_11eb_a80d_784f439cb1c6row0_col0\" class=\"data row0 col0\" >pm_synthetic_members</td>\n",
       "                        <td id=\"T_8dd4715c_54de_11eb_a80d_784f439cb1c6row0_col1\" class=\"data row0 col1\" >${PWD}/healthcare/factory/contracts/hadron_pm_synthetic_members.json</td>\n",
       "                        <td id=\"T_8dd4715c_54de_11eb_a80d_784f439cb1c6row0_col2\" class=\"data row0 col2\" >ds_discovery.handlers.pandas_handlers</td>\n",
       "                        <td id=\"T_8dd4715c_54de_11eb_a80d_784f439cb1c6row0_col3\" class=\"data row0 col3\" >PandasPersistHandler</td>\n",
       "                        <td id=\"T_8dd4715c_54de_11eb_a80d_784f439cb1c6row0_col4\" class=\"data row0 col4\" >v02</td>\n",
       "                        <td id=\"T_8dd4715c_54de_11eb_a80d_784f439cb1c6row0_col5\" class=\"data row0 col5\" ></td>\n",
       "                        <td id=\"T_8dd4715c_54de_11eb_a80d_784f439cb1c6row0_col6\" class=\"data row0 col6\" ></td>\n",
       "                        <td id=\"T_8dd4715c_54de_11eb_a80d_784f439cb1c6row0_col7\" class=\"data row0 col7\" >False</td>\n",
       "            </tr>\n",
       "            <tr>\n",
       "                        <th id=\"T_8dd4715c_54de_11eb_a80d_784f439cb1c6level0_row1\" class=\"row_heading level0 row1\" >1</th>\n",
       "                        <td id=\"T_8dd4715c_54de_11eb_a80d_784f439cb1c6row1_col0\" class=\"data row1 col0\" >primary_persist</td>\n",
       "                        <td id=\"T_8dd4715c_54de_11eb_a80d_784f439cb1c6row1_col1\" class=\"data row1 col1\" >${PWD}/healthcare/factory/data/persist/factory_synthetic_members_complete${VERSION}.parquet</td>\n",
       "                        <td id=\"T_8dd4715c_54de_11eb_a80d_784f439cb1c6row1_col2\" class=\"data row1 col2\" >ds_discovery.handlers.pandas_handlers</td>\n",
       "                        <td id=\"T_8dd4715c_54de_11eb_a80d_784f439cb1c6row1_col3\" class=\"data row1 col3\" >PandasPersistHandler</td>\n",
       "                        <td id=\"T_8dd4715c_54de_11eb_a80d_784f439cb1c6row1_col4\" class=\"data row1 col4\" >v02</td>\n",
       "                        <td id=\"T_8dd4715c_54de_11eb_a80d_784f439cb1c6row1_col5\" class=\"data row1 col5\" ></td>\n",
       "                        <td id=\"T_8dd4715c_54de_11eb_a80d_784f439cb1c6row1_col6\" class=\"data row1 col6\" ></td>\n",
       "                        <td id=\"T_8dd4715c_54de_11eb_a80d_784f439cb1c6row1_col7\" class=\"data row1 col7\" >True</td>\n",
       "            </tr>\n",
       "            <tr>\n",
       "                        <th id=\"T_8dd4715c_54de_11eb_a80d_784f439cb1c6level0_row2\" class=\"row_heading level0 row2\" >2</th>\n",
       "                        <td id=\"T_8dd4715c_54de_11eb_a80d_784f439cb1c6row2_col0\" class=\"data row2 col0\" >intent</td>\n",
       "                        <td id=\"T_8dd4715c_54de_11eb_a80d_784f439cb1c6row2_col1\" class=\"data row2 col1\" >${PWD}/healthcare/factory/data/persist/factory_synthetic_members_intent${VERSION}.csv</td>\n",
       "                        <td id=\"T_8dd4715c_54de_11eb_a80d_784f439cb1c6row2_col2\" class=\"data row2 col2\" >ds_discovery.handlers.pandas_handlers</td>\n",
       "                        <td id=\"T_8dd4715c_54de_11eb_a80d_784f439cb1c6row2_col3\" class=\"data row2 col3\" >PandasPersistHandler</td>\n",
       "                        <td id=\"T_8dd4715c_54de_11eb_a80d_784f439cb1c6row2_col4\" class=\"data row2 col4\" >v02</td>\n",
       "                        <td id=\"T_8dd4715c_54de_11eb_a80d_784f439cb1c6row2_col5\" class=\"data row2 col5\" >orient='records'</td>\n",
       "                        <td id=\"T_8dd4715c_54de_11eb_a80d_784f439cb1c6row2_col6\" class=\"data row2 col6\" ></td>\n",
       "                        <td id=\"T_8dd4715c_54de_11eb_a80d_784f439cb1c6row2_col7\" class=\"data row2 col7\" >True</td>\n",
       "            </tr>\n",
       "            <tr>\n",
       "                        <th id=\"T_8dd4715c_54de_11eb_a80d_784f439cb1c6level0_row3\" class=\"row_heading level0 row3\" >3</th>\n",
       "                        <td id=\"T_8dd4715c_54de_11eb_a80d_784f439cb1c6row3_col0\" class=\"data row3 col0\" >catalog</td>\n",
       "                        <td id=\"T_8dd4715c_54de_11eb_a80d_784f439cb1c6row3_col1\" class=\"data row3 col1\" >${PWD}/healthcare/factory/data/persist/factory_synthetic_members_catalog${VERSION}.csv</td>\n",
       "                        <td id=\"T_8dd4715c_54de_11eb_a80d_784f439cb1c6row3_col2\" class=\"data row3 col2\" >ds_discovery.handlers.pandas_handlers</td>\n",
       "                        <td id=\"T_8dd4715c_54de_11eb_a80d_784f439cb1c6row3_col3\" class=\"data row3 col3\" >PandasPersistHandler</td>\n",
       "                        <td id=\"T_8dd4715c_54de_11eb_a80d_784f439cb1c6row3_col4\" class=\"data row3 col4\" >v02</td>\n",
       "                        <td id=\"T_8dd4715c_54de_11eb_a80d_784f439cb1c6row3_col5\" class=\"data row3 col5\" >orient='records'</td>\n",
       "                        <td id=\"T_8dd4715c_54de_11eb_a80d_784f439cb1c6row3_col6\" class=\"data row3 col6\" ></td>\n",
       "                        <td id=\"T_8dd4715c_54de_11eb_a80d_784f439cb1c6row3_col7\" class=\"data row3 col7\" >True</td>\n",
       "            </tr>\n",
       "    </tbody></table>"
      ],
      "text/plain": [
       "<pandas.io.formats.style.Styler at 0x7f83b7f1f880>"
      ]
     },
     "execution_count": 4,
     "metadata": {},
     "output_type": "execute_result"
    }
   ],
   "source": [
    "builder.report_connectors()"
   ]
  },
  {
   "cell_type": "markdown",
   "metadata": {
    "pycharm": {
     "name": "#%% md\n"
    }
   },
   "source": [
    "--------------------\n",
    "##  Transaction setup"
   ]
  },
  {
   "cell_type": "code",
   "execution_count": 5,
   "metadata": {},
   "outputs": [],
   "source": [
    "for prefix in transition_prefix:\n",
    "    tr = Transition.from_env(f\"{prefix}{task_name}\", default_save=default_save, has_contract=has_contract)\n",
    "    tr.set_version(VERSION)\n",
    "    tr.set_source_uri(uri=builder.get_persist_contract().raw_uri)\n",
    "    tr.setup_bootstrap(domain=domain, project_name=project_name, path=None)\n",
    "    tr.set_provenance(provider_name=\"Project Hadron\", author_name='doatridge', cost_price=\"$0.00\")"
   ]
  },
  {
   "cell_type": "code",
   "execution_count": null,
   "metadata": {},
   "outputs": [],
   "source": []
  }
 ],
 "metadata": {
  "kernelspec": {
   "display_name": "Python 3",
   "language": "python",
   "name": "python3"
  },
  "language_info": {
   "codemirror_mode": {
    "name": "ipython",
    "version": 3
   },
   "file_extension": ".py",
   "mimetype": "text/x-python",
   "name": "python",
   "nbconvert_exporter": "python",
   "pygments_lexer": "ipython3",
   "version": "3.8.5"
  }
 },
 "nbformat": 4,
 "nbformat_minor": 4
}
