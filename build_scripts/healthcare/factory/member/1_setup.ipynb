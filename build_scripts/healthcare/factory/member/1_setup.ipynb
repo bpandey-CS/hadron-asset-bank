{
 "cells": [
  {
   "cell_type": "code",
   "execution_count": 8,
   "metadata": {},
   "outputs": [
    {
     "name": "stdout",
     "output_type": "stream",
     "text": [
      "Foundation: 2.11.018\n",
      "Transition: 2.11.024\n",
      "Engines   : 2.03.027\n",
      "Behavioral: 2.06.037\n"
     ]
    }
   ],
   "source": [
    "%run ../base_setup.ipynb"
   ]
  },
  {
   "cell_type": "code",
   "execution_count": 9,
   "metadata": {},
   "outputs": [],
   "source": [
    "# Build status\n",
    "has_contract = False\n",
    "default_save = True"
   ]
  },
  {
   "cell_type": "markdown",
   "metadata": {},
   "source": [
    "------------------\n",
    "-----------------\n",
    "# Members"
   ]
  },
  {
   "cell_type": "code",
   "execution_count": 10,
   "metadata": {},
   "outputs": [],
   "source": [
    "# task grouping name\n",
    "task_name = 'members'\n",
    "transition_prefix = ['', 'cln_', 'prf_']"
   ]
  },
  {
   "cell_type": "markdown",
   "metadata": {},
   "source": [
    "--------------------\n",
    "## Synthetic setup"
   ]
  },
  {
   "cell_type": "code",
   "execution_count": 11,
   "metadata": {},
   "outputs": [],
   "source": [
    "builder = SyntheticBuilder.from_env(task_name, default_save=default_save, has_contract=has_contract)\n",
    "builder.set_version(VERSION)\n",
    "builder.setup_bootstrap(domain=domain, project_name=project_name, path=None)"
   ]
  },
  {
   "cell_type": "markdown",
   "metadata": {
    "pycharm": {
     "name": "#%% md\n"
    }
   },
   "source": [
    "--------------------\n",
    "##  Transaction setup"
   ]
  },
  {
   "cell_type": "code",
   "execution_count": 12,
   "metadata": {},
   "outputs": [],
   "source": [
    "for prefix in transition_prefix:\n",
    "    tr = Transition.from_env(f\"{prefix}{task_name}\", default_save=default_save, has_contract=has_contract)\n",
    "    tr.set_version(VERSION)\n",
    "    tr.set_source_uri(uri=builder.get_persist_contract().raw_uri)\n",
    "    tr.setup_bootstrap(domain=domain, project_name=project_name, path=None)\n",
    "    tr.set_provenance(provider_name=\"Project Hadron\", author_name='doatridge', cost_price=\"$0.00\")"
   ]
  },
  {
   "cell_type": "markdown",
   "metadata": {},
   "source": [
    "------------------\n",
    "-----------------\n",
    "# Practitioners"
   ]
  },
  {
   "cell_type": "markdown",
   "metadata": {},
   "source": [
    "--------------------\n",
    "## Synthetic setup"
   ]
  },
  {
   "cell_type": "code",
   "execution_count": 13,
   "metadata": {},
   "outputs": [],
   "source": [
    "builder = SyntheticBuilder.from_env('practitioners', default_save=default_save, has_contract=has_contract)\n",
    "builder.set_version(VERSION)\n",
    "builder.setup_bootstrap(domain=domain, project_name=project_name, path=None)"
   ]
  },
  {
   "cell_type": "markdown",
   "metadata": {
    "pycharm": {
     "name": "#%% md\n"
    }
   },
   "source": [
    "--------------------\n",
    "##  Transaction setup"
   ]
  },
  {
   "cell_type": "code",
   "execution_count": 14,
   "metadata": {},
   "outputs": [],
   "source": [
    "tr = Transition.from_env('practitioners', default_save=default_save, has_contract=has_contract)\n",
    "tr.set_version(VERSION)\n",
    "tr.set_source_uri(uri=builder.get_persist_contract().raw_uri)\n",
    "tr.setup_bootstrap(domain=domain, project_name=project_name, path=None)\n",
    "tr.set_provenance(provider_name=\"Project Hadron\", author_name='doatridge', cost_price=\"$0.00\")"
   ]
  },
  {
   "cell_type": "code",
   "execution_count": null,
   "metadata": {},
   "outputs": [],
   "source": []
  }
 ],
 "metadata": {
  "kernelspec": {
   "display_name": "Python 3",
   "language": "python",
   "name": "python3"
  },
  "language_info": {
   "codemirror_mode": {
    "name": "ipython",
    "version": 3
   },
   "file_extension": ".py",
   "mimetype": "text/x-python",
   "name": "python",
   "nbconvert_exporter": "python",
   "pygments_lexer": "ipython3",
   "version": "3.8.5"
  }
 },
 "nbformat": 4,
 "nbformat_minor": 4
}
